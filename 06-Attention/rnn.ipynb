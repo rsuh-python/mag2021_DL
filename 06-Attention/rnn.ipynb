{
 "cells": [
  {
   "cell_type": "markdown",
   "id": "06d340bf",
   "metadata": {
    "id": "06d340bf"
   },
   "source": [
    "# Классификация последовательностей (текстов) -- good practices\n",
    "\n",
    "На прошлом семинаре мы рассмотрели пример генерации текстов. Однако мы не обсудили весь огромный функционал, который предоставляет пайторч для работы с текстами. В частности работали мы с посимвольной генерацией, а не пословной/потокенной. Исправляемся!\n",
    "\n",
    "Сегодня речь зайдёт о задаче классификации текстовых последовательностей. Для этого будем пользоваться датасетом IMDB и библиотекой `torchtext`. В торчтексте реализовано огромное число методов для обработки текстов, ими мы и воспользуемся.\n",
    "\n",
    "__АХТУНГ__. Торчтекст не рекомендуется использовать для обучения на больших данных (от миллиона примеров и больше) из-за маленькой скорости работы. В таких случаях рекомендуется имплементировать свои датасеты. В наших примерах таких объёмов данных не будет."
   ]
  },
  {
   "cell_type": "markdown",
   "id": "ac5cd1db",
   "metadata": {
    "id": "ac5cd1db"
   },
   "source": [
    "## Начнём с модели.\n",
    "\n",
    "Да, не самая привычная последовательность действий, но давайте сначала сделаем кое-что, с чем мы уже знакомы -- имплементируем модель.\n",
    "\n",
    "На вход она будет принимать батч последовательностей токенов, разумеется, разной длины в разных батчах, а на выходе выдавать батч вероятностей классов, прямо как в классификации картинок.\n",
    "\n",
    "Каждый токен пройдёт вначале через эмбеддинг, а затем последовательность эмбеддингов пройдёт через LSTM. Самое последнее скрытое состояние будем считать векторным представлением для последовательности, поверх неё мы навесим линейный слой."
   ]
  },
  {
   "cell_type": "code",
   "execution_count": null,
   "id": "88a7a3b1",
   "metadata": {
    "id": "88a7a3b1"
   },
   "outputs": [],
   "source": [
    "import pandas as pd\n",
    "import torch\n",
    "from torch import nn\n",
    "\n",
    "\n",
    "class TextClassifier(nn.Module):\n",
    "    def __init__(\n",
    "        self,\n",
    "        num_embeddings=25002,\n",
    "        embedding_size=300,\n",
    "        hidden_size=200,\n",
    "        num_classes=2,\n",
    "        num_layers=1,\n",
    "    ):\n",
    "        super(TextClassifier, self).__init__()\n",
    "        self.embedding = nn.Embedding(num_embeddings, embedding_size)\n",
    "        self.lstm = nn.LSTM(embedding_size, hidden_size, batch_first=True)\n",
    "        self.linear = nn.Linear(hidden_size, 1)\n",
    "\n",
    "    def forward(self, x):\n",
    "        embedded = self.embedding(x)\n",
    "        _, (last_hidden, last_c) = self.lstm(embedded)\n",
    "        return self.linear(last_hidden[0]).squeeze()\n",
    "\n",
    "\n",
    "model = TextClassifier()"
   ]
  },
  {
   "cell_type": "code",
   "execution_count": null,
   "id": "ff2c5c61",
   "metadata": {
    "colab": {
     "base_uri": "https://localhost:8080/"
    },
    "id": "ff2c5c61",
    "outputId": "16cc9774-eb02-4bbe-ca05-4bbae0b33ad7"
   },
   "outputs": [],
   "source": [
    "model(torch.tensor([[1, 2, 3, 4], [1, 2, 3, 4]]))"
   ]
  },
  {
   "cell_type": "markdown",
   "id": "73797236",
   "metadata": {
    "id": "73797236"
   },
   "source": [
    "## Скачаем и проинициализируем датасет\n",
    "\n",
    "Дальше перейдём к торчтексту. Он почти как знакомый нам `torchvision` имеет внутри себя коллекцию датасетов для разных задач NLP, в том числе и отзывы на IMDB. Инициализация датасета порой занимает время, не следует волноваться и судорожно перезапускать ядро."
   ]
  },
  {
   "cell_type": "code",
   "execution_count": null,
   "id": "4ddfb36e",
   "metadata": {
    "id": "4ddfb36e"
   },
   "outputs": [],
   "source": [
    "import torchtext\n",
    "from torchtext.legacy import data\n",
    "from torchtext.legacy.datasets import IMDB"
   ]
  },
  {
   "cell_type": "code",
   "execution_count": null,
   "id": "444cf930",
   "metadata": {
    "colab": {
     "base_uri": "https://localhost:8080/"
    },
    "id": "444cf930",
    "outputId": "2a9c748b-e3d5-4758-c0cf-aee6cf546fe3"
   },
   "outputs": [],
   "source": [
    "# воспользуемся старым добрым спейси\n",
    "! pip install spacy\n",
    "! python -m spacy download en_core_web_sm"
   ]
  },
  {
   "cell_type": "markdown",
   "id": "2f73f01f",
   "metadata": {
    "id": "2f73f01f"
   },
   "source": [
    "В `torchtext` существует такая сущность, как `Field`. Это просто класс, в котором содержится описание колонок нашего датасета. В нашем случае всё довольно просто. Есть две колонки -- это текст и оценка, назовём их `text_field` и `label_field` соответственно. Токенизовать будем при помощи установленной только что библиотеки `spacy`, лейблы приведём к типу `float`. \n",
    "\n",
    "Напоминание, зачем нам batch_first: \n",
    "\n",
    "    If your input data is of shape (seq_len, batch_size, features) then you don’t need batch_first=True and your LSTM will give output of shape (seq_len, batch_size, hidden_size).\n",
    "\n",
    "    If your input data is of shape (batch_size, seq_len, features) then you need batch_first=True and your LSTM will give output of shape (batch_size, seq_len, hidden_size)."
   ]
  },
  {
   "cell_type": "code",
   "execution_count": null,
   "id": "7ace08bb",
   "metadata": {
    "id": "7ace08bb"
   },
   "outputs": [],
   "source": [
    "text_field = data.Field(\n",
    "    tokenize=\"spacy\",\n",
    "    batch_first=True,\n",
    "    include_lengths=False,\n",
    "    tokenizer_language=\"en_core_web_sm\",\n",
    ")\n",
    "\n",
    "label_field = data.LabelField(dtype=torch.float32, batch_first=True)"
   ]
  },
  {
   "cell_type": "markdown",
   "id": "ee4ea62e",
   "metadata": {
    "id": "ee4ea62e"
   },
   "source": [
    "Создадим два сплита нашего датасета. Они задаются при помощи метода splits."
   ]
  },
  {
   "cell_type": "code",
   "execution_count": null,
   "id": "c27834eb",
   "metadata": {
    "colab": {
     "base_uri": "https://localhost:8080/"
    },
    "id": "c27834eb",
    "outputId": "b9db8caf-de79-4f55-ee01-ae86c8fd1e91"
   },
   "outputs": [],
   "source": [
    "data_train, data_test = IMDB.splits(text_field, label_field)"
   ]
  },
  {
   "cell_type": "markdown",
   "id": "c2120f86",
   "metadata": {
    "id": "c2120f86"
   },
   "source": [
    "Создадим также словари, соответствующие нашему тексту. Выкинем все слова (токены), которые встречаются редко. Оставим только 25 тысяч самых частых слов.\n",
    "\n",
    "Также согласуем номера токенов в словаре с эмбеддингами glove. При желании можно согласовать и с word2vec'ом, но имейте ввиду, что glove это их аналог. Об инициализации эмбеддингов мы обязательно поговорим чуть позже."
   ]
  },
  {
   "cell_type": "code",
   "execution_count": null,
   "id": "d142a6af",
   "metadata": {
    "colab": {
     "base_uri": "https://localhost:8080/"
    },
    "id": "d142a6af",
    "outputId": "0214340d-ebcb-4202-ed05-ed14e53fb507"
   },
   "outputs": [],
   "source": [
    "vocab_size = 25000\n",
    "\n",
    "# build_vocab -- создать словарь по данному полю в датасете\n",
    "text_field.build_vocab(\n",
    "    data_train,\n",
    "    max_size=vocab_size,\n",
    "    vectors=\"glove.6B.100d\",\n",
    ")\n",
    "\n",
    "label_field.build_vocab(data_train)\n",
    "\n",
    "\n",
    "for item in data_train:\n",
    "    print(item.text)\n",
    "    break"
   ]
  },
  {
   "cell_type": "markdown",
   "id": "022be96a",
   "metadata": {
    "id": "022be96a"
   },
   "source": [
    "Давайте посмотрим на самые частые токены в словаре."
   ]
  },
  {
   "cell_type": "code",
   "execution_count": null,
   "id": "d2932700",
   "metadata": {
    "colab": {
     "base_uri": "https://localhost:8080/"
    },
    "id": "d2932700",
    "outputId": "17e58650-ca7f-49d1-a8de-42c0d4967bcb"
   },
   "outputs": [],
   "source": [
    "text_field.vocab.freqs.most_common(10)"
   ]
  },
  {
   "cell_type": "code",
   "execution_count": null,
   "id": "e6c62077",
   "metadata": {
    "colab": {
     "base_uri": "https://localhost:8080/"
    },
    "id": "e6c62077",
    "outputId": "8d889870-8227-4d84-e190-f16026f20904"
   },
   "outputs": [],
   "source": [
    "# itos -- index to string\n",
    "text_field.vocab.itos[:10]"
   ]
  },
  {
   "cell_type": "markdown",
   "id": "5a5c4e29",
   "metadata": {
    "id": "5a5c4e29"
   },
   "source": [
    "Как мы видим, в поле текста у нас стоят токены, на которые поделил spacy поделил текст! Осталось только воспользоваться построенным словарём и сделать аналог даталоадера по данным!"
   ]
  },
  {
   "cell_type": "code",
   "execution_count": null,
   "id": "5c2e38b7",
   "metadata": {
    "id": "5c2e38b7"
   },
   "outputs": [],
   "source": [
    "train_dataloader, test_dataloader = data.BucketIterator.splits(\n",
    "    (data_train, data_test), batch_size=32, device=\"cuda:0\"\n",
    ")"
   ]
  },
  {
   "cell_type": "code",
   "execution_count": null,
   "id": "9d042926",
   "metadata": {
    "colab": {
     "base_uri": "https://localhost:8080/"
    },
    "id": "9d042926",
    "outputId": "7783ad29-2796-4e50-deba-0112bd262d9f",
    "scrolled": true
   },
   "outputs": [],
   "source": [
    "for item in train_dataloader:\n",
    "    print(item.text.shape, item.label.shape)\n",
    "    break"
   ]
  },
  {
   "cell_type": "markdown",
   "id": "5379f8d4",
   "metadata": {
    "id": "5379f8d4"
   },
   "source": [
    "Будем обрезать их на 256 токенах в нашем трейн лупе."
   ]
  },
  {
   "cell_type": "markdown",
   "id": "366c2675",
   "metadata": {
    "id": "366c2675"
   },
   "source": [
    "## Train loop\n",
    "\n",
    "Перейдём к самому интересному (нет) и построим трейн луп к нашей модели. Но скажем сразу, он мало чем будет отличаться от классификации картинок."
   ]
  },
  {
   "cell_type": "code",
   "execution_count": null,
   "id": "566445fc",
   "metadata": {
    "id": "566445fc"
   },
   "outputs": [],
   "source": [
    "def train_epoch(\n",
    "    model,\n",
    "    data_loader,\n",
    "    optimizer,\n",
    "    criterion,\n",
    "    return_losses=False,\n",
    "    device=\"cuda:0\",\n",
    "):\n",
    "    model = model.to(device).train()\n",
    "    total_loss = 0\n",
    "    num_batches = 0\n",
    "    all_losses = []\n",
    "    total_predictions = np.array([])  # .reshape((0, ))\n",
    "    total_labels = np.array([])  # .reshape((0, ))\n",
    "    with tqdm(total=len(data_loader), file=sys.stdout) as prbar:\n",
    "        for item in data_loader:\n",
    "            texts = item.text\n",
    "            labels = item.label\n",
    "\n",
    "            # Move Batch to GPU\n",
    "            texts = texts.to(device)\n",
    "            labels = labels.to(device)\n",
    "            predicted = model(texts)\n",
    "            loss = criterion(predicted, labels)\n",
    "            # Update weights\n",
    "            loss.backward()\n",
    "            optimizer.step()\n",
    "            optimizer.zero_grad()\n",
    "            # Update descirption for tqdm\n",
    "            accuracy = ((predicted > 0.5).int() == labels).float().mean()\n",
    "            prbar.set_description(\n",
    "                f\"Loss: {round(loss.item(), 4)} \"\n",
    "                f\"Accuracy: {round(accuracy.item() * 100, 4)}\"\n",
    "            )\n",
    "            prbar.update(1)\n",
    "            total_loss += loss.item()\n",
    "            total_predictions = np.append(\n",
    "                total_predictions, (predicted > 0.5).int().cpu().detach().numpy()\n",
    "            )\n",
    "            total_labels = np.append(total_labels, labels.cpu().detach().numpy())\n",
    "            num_batches += 1\n",
    "            all_losses.append(loss.detach().item())\n",
    "    metrics = {\"loss\": total_loss / num_batches}\n",
    "    metrics.update({\"accuracy\": (total_predictions == total_labels).mean()})\n",
    "    if return_losses:\n",
    "        return metrics, all_losses\n",
    "    else:\n",
    "        return metrics\n",
    "\n",
    "\n",
    "def validate(model, data_loader, criterion, device=\"cuda:0\"):\n",
    "    model = model.eval()\n",
    "    total_loss = 0\n",
    "    num_batches = 0\n",
    "    total_predictions = np.array([])\n",
    "    total_labels = np.array([])\n",
    "    with tqdm(total=len(data_loader), file=sys.stdout) as prbar:\n",
    "        for texts, labels in data_loader:\n",
    "            texts = texts.to(device)\n",
    "            labels = labels.to(device)\n",
    "            predicted = model(texts)\n",
    "            loss = criterion(predicted, labels)\n",
    "            accuracy = (predicted.argmax(1) == labels).float().mean()\n",
    "            prbar.set_description(\n",
    "                f\"Loss: {round(loss.item(), 4)} \"\n",
    "                f\"Accuracy: {round(accuracy.item() * 100, 4)}\"\n",
    "            )\n",
    "            prbar.update(1)\n",
    "            total_loss += loss.item()\n",
    "            total_predictions = np.append(\n",
    "                total_predictions, predicted.argmax(1).cpu().detach().numpy()\n",
    "            )\n",
    "            total_labels = np.append(total_labels, labels.cpu().detach().numpy())\n",
    "            num_batches += 1\n",
    "    metrics = {\"loss\": total_loss / num_batches}\n",
    "    metrics.update({\"accuracy\": (total_predictions == total_labels).mean()})\n",
    "    return metrics"
   ]
  },
  {
   "cell_type": "code",
   "execution_count": null,
   "id": "6a9825e1",
   "metadata": {
    "colab": {
     "base_uri": "https://localhost:8080/",
     "height": 413,
     "referenced_widgets": [
      "fe79da413ee74722adbfa9accd88d04c",
      "684eac4d36b444238fe2be0d86dc77dd",
      "215832372b924a8ca8e0f84d282eaa39",
      "a78e50ea6b4946e99a624a877014f974",
      "c6f3e12422a94a5b9e1d3baa139bb7cc",
      "033b2ced711d425490fde6f8bea834f8",
      "dc2e957748ec41a6b7f715ce4294e368",
      "78c98b6dd3994c58b3aacc775d48113c",
      "371b720785c04c138a10cf7d05707d40",
      "1c62971a214143dab87d48b8eff9f960",
      "00d4052aaeec4f43889ec9f60dd0df62"
     ]
    },
    "id": "6a9825e1",
    "outputId": "0a89b936-641d-43cc-a7a8-dadc1a05b9bb"
   },
   "outputs": [],
   "source": [
    "import sys\n",
    "\n",
    "import numpy as np\n",
    "from tqdm.notebook import tqdm\n",
    "\n",
    "device = \"cuda:0\"\n",
    "model = TextClassifier()\n",
    "optimizer = torch.optim.SGD(model.parameters(), lr=1e-3)\n",
    "criterion = nn.BCEWithLogitsLoss()\n",
    "\n",
    "for i in range(10):\n",
    "    train_epoch(\n",
    "        model, train_dataloader, criterion=criterion, optimizer=optimizer, device=device\n",
    "    )"
   ]
  },
  {
   "cell_type": "markdown",
   "id": "EttH3QDVcVnE",
   "metadata": {
    "id": "EttH3QDVcVnE"
   },
   "source": [
    "Кажется, обучается так себе. Давайте это исправлять! Попробуем сделать модель двунаправленной, а также увеличим число слоёв. Должно быть существенно лучше!"
   ]
  },
  {
   "cell_type": "code",
   "execution_count": null,
   "id": "Dvua6cZRcU2h",
   "metadata": {
    "colab": {
     "base_uri": "https://localhost:8080/",
     "height": 431,
     "referenced_widgets": [
      "a39ab87f7d164a489f7e525334e13072",
      "7a30cbc0d2e44e0dbc6c68611b261812",
      "710e277a8fe0435e9955625492a3b038",
      "6162ad50a2c24666a0d1721b8f31bec2",
      "3b3db9889ec54e6f9488b71c7f966805",
      "2b242fd0d2054b95adced0b41d0f1c05",
      "1e9826762091465f916e4a87788f45b2",
      "356bf6cb62df46b2a0476c98c0ccfdfd",
      "2426eea53d944048a91ed1b20d3f8846",
      "6eb512c778914e7ab30c7577ed9694b3",
      "b2de4192ce1c4caabf29de96d0a02b25"
     ]
    },
    "id": "Dvua6cZRcU2h",
    "outputId": "ee97bef4-61a8-4bef-d729-55e24a0ad559"
   },
   "outputs": [],
   "source": [
    "class TextClassifier(nn.Module):\n",
    "    def __init__(\n",
    "        self,\n",
    "        num_embeddings=25002,\n",
    "        embedding_size=300,\n",
    "        hidden_size=200,\n",
    "        num_classes=2,\n",
    "        num_layers=1,\n",
    "        pad_token=1,\n",
    "    ):\n",
    "        super(TextClassifier, self).__init__()\n",
    "        self.embedding = nn.Embedding(\n",
    "            num_embeddings, embedding_size, padding_idx=pad_token\n",
    "        )\n",
    "        self.lstm = nn.LSTM(\n",
    "            embedding_size,\n",
    "            hidden_size,\n",
    "            batch_first=True,\n",
    "            num_layers=num_layers,\n",
    "            bidirectional=True,\n",
    "        )\n",
    "        self.linear = nn.Linear(hidden_size * num_layers, 1)\n",
    "        self.dropout = nn.Dropout(0.5)\n",
    "\n",
    "    def forward(self, x):\n",
    "        embedded = self.dropout(self.embedding(x))\n",
    "        _, (last_hidden, last_c) = self.lstm(embedded)\n",
    "        hidden = torch.cat([last_hidden[-2], last_hidden[-1]], dim=1)\n",
    "        return self.linear(hidden).squeeze()\n",
    "\n",
    "\n",
    "device = \"cuda:0\"\n",
    "pad_token = text_field.vocab.stoi[\"<pad>\"]\n",
    "model = TextClassifier(\n",
    "    hidden_size=512, embedding_size=100, num_layers=2, pad_token=pad_token\n",
    ")\n",
    "model.embedding.weight.data = text_field.vocab.vectors\n",
    "optimizer = torch.optim.Adam(model.parameters(), lr=5e-4)\n",
    "criterion = nn.BCEWithLogitsLoss()\n",
    "\n",
    "for i in range(10):\n",
    "    train_epoch(\n",
    "        model, train_dataloader, criterion=criterion, optimizer=optimizer, device=device\n",
    "    )\n",
    "\n",
    "model(torch.tensor([[1, 2, 3, 4], [1, 2, 3, 4]]))"
   ]
  }
 ],
 "metadata": {
  "accelerator": "GPU",
  "colab": {
   "name": "sem_n1.ipynb",
   "provenance": []
  },
  "kernelspec": {
   "display_name": "Python 3 (ipykernel)",
   "language": "python",
   "name": "python3"
  },
  "language_info": {
   "codemirror_mode": {
    "name": "ipython",
    "version": 3
   },
   "file_extension": ".py",
   "mimetype": "text/x-python",
   "name": "python",
   "nbconvert_exporter": "python",
   "pygments_lexer": "ipython3",
   "version": "3.9.12"
  },
  "widgets": {
   "application/vnd.jupyter.widget-state+json": {
    "00d4052aaeec4f43889ec9f60dd0df62": {
     "model_module": "@jupyter-widgets/base",
     "model_module_version": "1.2.0",
     "model_name": "LayoutModel",
     "state": {
      "_model_module": "@jupyter-widgets/base",
      "_model_module_version": "1.2.0",
      "_model_name": "LayoutModel",
      "_view_count": null,
      "_view_module": "@jupyter-widgets/base",
      "_view_module_version": "1.2.0",
      "_view_name": "LayoutView",
      "align_content": null,
      "align_items": null,
      "align_self": null,
      "border": null,
      "bottom": null,
      "display": null,
      "flex": null,
      "flex_flow": null,
      "grid_area": null,
      "grid_auto_columns": null,
      "grid_auto_flow": null,
      "grid_auto_rows": null,
      "grid_column": null,
      "grid_gap": null,
      "grid_row": null,
      "grid_template_areas": null,
      "grid_template_columns": null,
      "grid_template_rows": null,
      "height": null,
      "justify_content": null,
      "justify_items": null,
      "left": null,
      "margin": null,
      "max_height": null,
      "max_width": null,
      "min_height": null,
      "min_width": null,
      "object_fit": null,
      "object_position": null,
      "order": null,
      "overflow": null,
      "overflow_x": null,
      "overflow_y": null,
      "padding": null,
      "right": null,
      "top": null,
      "visibility": null,
      "width": null
     }
    },
    "033b2ced711d425490fde6f8bea834f8": {
     "model_module": "@jupyter-widgets/controls",
     "model_module_version": "1.5.0",
     "model_name": "DescriptionStyleModel",
     "state": {
      "_model_module": "@jupyter-widgets/controls",
      "_model_module_version": "1.5.0",
      "_model_name": "DescriptionStyleModel",
      "_view_count": null,
      "_view_module": "@jupyter-widgets/base",
      "_view_module_version": "1.2.0",
      "_view_name": "StyleView",
      "description_width": ""
     }
    },
    "1c62971a214143dab87d48b8eff9f960": {
     "model_module": "@jupyter-widgets/controls",
     "model_module_version": "1.5.0",
     "model_name": "DescriptionStyleModel",
     "state": {
      "_model_module": "@jupyter-widgets/controls",
      "_model_module_version": "1.5.0",
      "_model_name": "DescriptionStyleModel",
      "_view_count": null,
      "_view_module": "@jupyter-widgets/base",
      "_view_module_version": "1.2.0",
      "_view_name": "StyleView",
      "description_width": ""
     }
    },
    "1e9826762091465f916e4a87788f45b2": {
     "model_module": "@jupyter-widgets/base",
     "model_module_version": "1.2.0",
     "model_name": "LayoutModel",
     "state": {
      "_model_module": "@jupyter-widgets/base",
      "_model_module_version": "1.2.0",
      "_model_name": "LayoutModel",
      "_view_count": null,
      "_view_module": "@jupyter-widgets/base",
      "_view_module_version": "1.2.0",
      "_view_name": "LayoutView",
      "align_content": null,
      "align_items": null,
      "align_self": null,
      "border": null,
      "bottom": null,
      "display": null,
      "flex": null,
      "flex_flow": null,
      "grid_area": null,
      "grid_auto_columns": null,
      "grid_auto_flow": null,
      "grid_auto_rows": null,
      "grid_column": null,
      "grid_gap": null,
      "grid_row": null,
      "grid_template_areas": null,
      "grid_template_columns": null,
      "grid_template_rows": null,
      "height": null,
      "justify_content": null,
      "justify_items": null,
      "left": null,
      "margin": null,
      "max_height": null,
      "max_width": null,
      "min_height": null,
      "min_width": null,
      "object_fit": null,
      "object_position": null,
      "order": null,
      "overflow": null,
      "overflow_x": null,
      "overflow_y": null,
      "padding": null,
      "right": null,
      "top": null,
      "visibility": null,
      "width": null
     }
    },
    "215832372b924a8ca8e0f84d282eaa39": {
     "model_module": "@jupyter-widgets/controls",
     "model_module_version": "1.5.0",
     "model_name": "HTMLModel",
     "state": {
      "_dom_classes": [],
      "_model_module": "@jupyter-widgets/controls",
      "_model_module_version": "1.5.0",
      "_model_name": "HTMLModel",
      "_view_count": null,
      "_view_module": "@jupyter-widgets/controls",
      "_view_module_version": "1.5.0",
      "_view_name": "HTMLView",
      "description": "",
      "description_tooltip": null,
      "layout": "IPY_MODEL_dc2e957748ec41a6b7f715ce4294e368",
      "placeholder": "​",
      "style": "IPY_MODEL_033b2ced711d425490fde6f8bea834f8",
      "value": "Loss: 0.6916 Accuracy: 53.125:   1%"
     }
    },
    "2426eea53d944048a91ed1b20d3f8846": {
     "model_module": "@jupyter-widgets/base",
     "model_module_version": "1.2.0",
     "model_name": "LayoutModel",
     "state": {
      "_model_module": "@jupyter-widgets/base",
      "_model_module_version": "1.2.0",
      "_model_name": "LayoutModel",
      "_view_count": null,
      "_view_module": "@jupyter-widgets/base",
      "_view_module_version": "1.2.0",
      "_view_name": "LayoutView",
      "align_content": null,
      "align_items": null,
      "align_self": null,
      "border": null,
      "bottom": null,
      "display": null,
      "flex": null,
      "flex_flow": null,
      "grid_area": null,
      "grid_auto_columns": null,
      "grid_auto_flow": null,
      "grid_auto_rows": null,
      "grid_column": null,
      "grid_gap": null,
      "grid_row": null,
      "grid_template_areas": null,
      "grid_template_columns": null,
      "grid_template_rows": null,
      "height": null,
      "justify_content": null,
      "justify_items": null,
      "left": null,
      "margin": null,
      "max_height": null,
      "max_width": null,
      "min_height": null,
      "min_width": null,
      "object_fit": null,
      "object_position": null,
      "order": null,
      "overflow": null,
      "overflow_x": null,
      "overflow_y": null,
      "padding": null,
      "right": null,
      "top": null,
      "visibility": null,
      "width": null
     }
    },
    "2b242fd0d2054b95adced0b41d0f1c05": {
     "model_module": "@jupyter-widgets/controls",
     "model_module_version": "1.5.0",
     "model_name": "DescriptionStyleModel",
     "state": {
      "_model_module": "@jupyter-widgets/controls",
      "_model_module_version": "1.5.0",
      "_model_name": "DescriptionStyleModel",
      "_view_count": null,
      "_view_module": "@jupyter-widgets/base",
      "_view_module_version": "1.2.0",
      "_view_name": "StyleView",
      "description_width": ""
     }
    },
    "356bf6cb62df46b2a0476c98c0ccfdfd": {
     "model_module": "@jupyter-widgets/controls",
     "model_module_version": "1.5.0",
     "model_name": "ProgressStyleModel",
     "state": {
      "_model_module": "@jupyter-widgets/controls",
      "_model_module_version": "1.5.0",
      "_model_name": "ProgressStyleModel",
      "_view_count": null,
      "_view_module": "@jupyter-widgets/base",
      "_view_module_version": "1.2.0",
      "_view_name": "StyleView",
      "bar_color": null,
      "description_width": ""
     }
    },
    "371b720785c04c138a10cf7d05707d40": {
     "model_module": "@jupyter-widgets/base",
     "model_module_version": "1.2.0",
     "model_name": "LayoutModel",
     "state": {
      "_model_module": "@jupyter-widgets/base",
      "_model_module_version": "1.2.0",
      "_model_name": "LayoutModel",
      "_view_count": null,
      "_view_module": "@jupyter-widgets/base",
      "_view_module_version": "1.2.0",
      "_view_name": "LayoutView",
      "align_content": null,
      "align_items": null,
      "align_self": null,
      "border": null,
      "bottom": null,
      "display": null,
      "flex": null,
      "flex_flow": null,
      "grid_area": null,
      "grid_auto_columns": null,
      "grid_auto_flow": null,
      "grid_auto_rows": null,
      "grid_column": null,
      "grid_gap": null,
      "grid_row": null,
      "grid_template_areas": null,
      "grid_template_columns": null,
      "grid_template_rows": null,
      "height": null,
      "justify_content": null,
      "justify_items": null,
      "left": null,
      "margin": null,
      "max_height": null,
      "max_width": null,
      "min_height": null,
      "min_width": null,
      "object_fit": null,
      "object_position": null,
      "order": null,
      "overflow": null,
      "overflow_x": null,
      "overflow_y": null,
      "padding": null,
      "right": null,
      "top": null,
      "visibility": null,
      "width": null
     }
    },
    "3b3db9889ec54e6f9488b71c7f966805": {
     "model_module": "@jupyter-widgets/controls",
     "model_module_version": "1.5.0",
     "model_name": "HTMLModel",
     "state": {
      "_dom_classes": [],
      "_model_module": "@jupyter-widgets/controls",
      "_model_module_version": "1.5.0",
      "_model_name": "HTMLModel",
      "_view_count": null,
      "_view_module": "@jupyter-widgets/controls",
      "_view_module_version": "1.5.0",
      "_view_name": "HTMLView",
      "description": "",
      "description_tooltip": null,
      "layout": "IPY_MODEL_b2de4192ce1c4caabf29de96d0a02b25",
      "placeholder": "​",
      "style": "IPY_MODEL_6eb512c778914e7ab30c7577ed9694b3",
      "value": " 3/782 [00:03&lt;14:28,  1.11s/it]"
     }
    },
    "6162ad50a2c24666a0d1721b8f31bec2": {
     "model_module": "@jupyter-widgets/controls",
     "model_module_version": "1.5.0",
     "model_name": "FloatProgressModel",
     "state": {
      "_dom_classes": [],
      "_model_module": "@jupyter-widgets/controls",
      "_model_module_version": "1.5.0",
      "_model_name": "FloatProgressModel",
      "_view_count": null,
      "_view_module": "@jupyter-widgets/controls",
      "_view_module_version": "1.5.0",
      "_view_name": "ProgressView",
      "bar_style": "danger",
      "description": "",
      "description_tooltip": null,
      "layout": "IPY_MODEL_2426eea53d944048a91ed1b20d3f8846",
      "max": 782,
      "min": 0,
      "orientation": "horizontal",
      "style": "IPY_MODEL_356bf6cb62df46b2a0476c98c0ccfdfd",
      "value": 3
     }
    },
    "684eac4d36b444238fe2be0d86dc77dd": {
     "model_module": "@jupyter-widgets/base",
     "model_module_version": "1.2.0",
     "model_name": "LayoutModel",
     "state": {
      "_model_module": "@jupyter-widgets/base",
      "_model_module_version": "1.2.0",
      "_model_name": "LayoutModel",
      "_view_count": null,
      "_view_module": "@jupyter-widgets/base",
      "_view_module_version": "1.2.0",
      "_view_name": "LayoutView",
      "align_content": null,
      "align_items": null,
      "align_self": null,
      "border": null,
      "bottom": null,
      "display": null,
      "flex": null,
      "flex_flow": null,
      "grid_area": null,
      "grid_auto_columns": null,
      "grid_auto_flow": null,
      "grid_auto_rows": null,
      "grid_column": null,
      "grid_gap": null,
      "grid_row": null,
      "grid_template_areas": null,
      "grid_template_columns": null,
      "grid_template_rows": null,
      "height": null,
      "justify_content": null,
      "justify_items": null,
      "left": null,
      "margin": null,
      "max_height": null,
      "max_width": null,
      "min_height": null,
      "min_width": null,
      "object_fit": null,
      "object_position": null,
      "order": null,
      "overflow": null,
      "overflow_x": null,
      "overflow_y": null,
      "padding": null,
      "right": null,
      "top": null,
      "visibility": null,
      "width": null
     }
    },
    "6eb512c778914e7ab30c7577ed9694b3": {
     "model_module": "@jupyter-widgets/controls",
     "model_module_version": "1.5.0",
     "model_name": "DescriptionStyleModel",
     "state": {
      "_model_module": "@jupyter-widgets/controls",
      "_model_module_version": "1.5.0",
      "_model_name": "DescriptionStyleModel",
      "_view_count": null,
      "_view_module": "@jupyter-widgets/base",
      "_view_module_version": "1.2.0",
      "_view_name": "StyleView",
      "description_width": ""
     }
    },
    "710e277a8fe0435e9955625492a3b038": {
     "model_module": "@jupyter-widgets/controls",
     "model_module_version": "1.5.0",
     "model_name": "HTMLModel",
     "state": {
      "_dom_classes": [],
      "_model_module": "@jupyter-widgets/controls",
      "_model_module_version": "1.5.0",
      "_model_name": "HTMLModel",
      "_view_count": null,
      "_view_module": "@jupyter-widgets/controls",
      "_view_module_version": "1.5.0",
      "_view_name": "HTMLView",
      "description": "",
      "description_tooltip": null,
      "layout": "IPY_MODEL_1e9826762091465f916e4a87788f45b2",
      "placeholder": "​",
      "style": "IPY_MODEL_2b242fd0d2054b95adced0b41d0f1c05",
      "value": "Loss: 0.6876 Accuracy: 43.75:   0%"
     }
    },
    "78c98b6dd3994c58b3aacc775d48113c": {
     "model_module": "@jupyter-widgets/controls",
     "model_module_version": "1.5.0",
     "model_name": "ProgressStyleModel",
     "state": {
      "_model_module": "@jupyter-widgets/controls",
      "_model_module_version": "1.5.0",
      "_model_name": "ProgressStyleModel",
      "_view_count": null,
      "_view_module": "@jupyter-widgets/base",
      "_view_module_version": "1.2.0",
      "_view_name": "StyleView",
      "bar_color": null,
      "description_width": ""
     }
    },
    "7a30cbc0d2e44e0dbc6c68611b261812": {
     "model_module": "@jupyter-widgets/base",
     "model_module_version": "1.2.0",
     "model_name": "LayoutModel",
     "state": {
      "_model_module": "@jupyter-widgets/base",
      "_model_module_version": "1.2.0",
      "_model_name": "LayoutModel",
      "_view_count": null,
      "_view_module": "@jupyter-widgets/base",
      "_view_module_version": "1.2.0",
      "_view_name": "LayoutView",
      "align_content": null,
      "align_items": null,
      "align_self": null,
      "border": null,
      "bottom": null,
      "display": null,
      "flex": null,
      "flex_flow": null,
      "grid_area": null,
      "grid_auto_columns": null,
      "grid_auto_flow": null,
      "grid_auto_rows": null,
      "grid_column": null,
      "grid_gap": null,
      "grid_row": null,
      "grid_template_areas": null,
      "grid_template_columns": null,
      "grid_template_rows": null,
      "height": null,
      "justify_content": null,
      "justify_items": null,
      "left": null,
      "margin": null,
      "max_height": null,
      "max_width": null,
      "min_height": null,
      "min_width": null,
      "object_fit": null,
      "object_position": null,
      "order": null,
      "overflow": null,
      "overflow_x": null,
      "overflow_y": null,
      "padding": null,
      "right": null,
      "top": null,
      "visibility": null,
      "width": null
     }
    },
    "a39ab87f7d164a489f7e525334e13072": {
     "model_module": "@jupyter-widgets/controls",
     "model_module_version": "1.5.0",
     "model_name": "HBoxModel",
     "state": {
      "_dom_classes": [],
      "_model_module": "@jupyter-widgets/controls",
      "_model_module_version": "1.5.0",
      "_model_name": "HBoxModel",
      "_view_count": null,
      "_view_module": "@jupyter-widgets/controls",
      "_view_module_version": "1.5.0",
      "_view_name": "HBoxView",
      "box_style": "",
      "children": [
       "IPY_MODEL_710e277a8fe0435e9955625492a3b038",
       "IPY_MODEL_6162ad50a2c24666a0d1721b8f31bec2",
       "IPY_MODEL_3b3db9889ec54e6f9488b71c7f966805"
      ],
      "layout": "IPY_MODEL_7a30cbc0d2e44e0dbc6c68611b261812"
     }
    },
    "a78e50ea6b4946e99a624a877014f974": {
     "model_module": "@jupyter-widgets/controls",
     "model_module_version": "1.5.0",
     "model_name": "FloatProgressModel",
     "state": {
      "_dom_classes": [],
      "_model_module": "@jupyter-widgets/controls",
      "_model_module_version": "1.5.0",
      "_model_name": "FloatProgressModel",
      "_view_count": null,
      "_view_module": "@jupyter-widgets/controls",
      "_view_module_version": "1.5.0",
      "_view_name": "ProgressView",
      "bar_style": "danger",
      "description": "",
      "description_tooltip": null,
      "layout": "IPY_MODEL_371b720785c04c138a10cf7d05707d40",
      "max": 782,
      "min": 0,
      "orientation": "horizontal",
      "style": "IPY_MODEL_78c98b6dd3994c58b3aacc775d48113c",
      "value": 9
     }
    },
    "b2de4192ce1c4caabf29de96d0a02b25": {
     "model_module": "@jupyter-widgets/base",
     "model_module_version": "1.2.0",
     "model_name": "LayoutModel",
     "state": {
      "_model_module": "@jupyter-widgets/base",
      "_model_module_version": "1.2.0",
      "_model_name": "LayoutModel",
      "_view_count": null,
      "_view_module": "@jupyter-widgets/base",
      "_view_module_version": "1.2.0",
      "_view_name": "LayoutView",
      "align_content": null,
      "align_items": null,
      "align_self": null,
      "border": null,
      "bottom": null,
      "display": null,
      "flex": null,
      "flex_flow": null,
      "grid_area": null,
      "grid_auto_columns": null,
      "grid_auto_flow": null,
      "grid_auto_rows": null,
      "grid_column": null,
      "grid_gap": null,
      "grid_row": null,
      "grid_template_areas": null,
      "grid_template_columns": null,
      "grid_template_rows": null,
      "height": null,
      "justify_content": null,
      "justify_items": null,
      "left": null,
      "margin": null,
      "max_height": null,
      "max_width": null,
      "min_height": null,
      "min_width": null,
      "object_fit": null,
      "object_position": null,
      "order": null,
      "overflow": null,
      "overflow_x": null,
      "overflow_y": null,
      "padding": null,
      "right": null,
      "top": null,
      "visibility": null,
      "width": null
     }
    },
    "c6f3e12422a94a5b9e1d3baa139bb7cc": {
     "model_module": "@jupyter-widgets/controls",
     "model_module_version": "1.5.0",
     "model_name": "HTMLModel",
     "state": {
      "_dom_classes": [],
      "_model_module": "@jupyter-widgets/controls",
      "_model_module_version": "1.5.0",
      "_model_name": "HTMLModel",
      "_view_count": null,
      "_view_module": "@jupyter-widgets/controls",
      "_view_module_version": "1.5.0",
      "_view_name": "HTMLView",
      "description": "",
      "description_tooltip": null,
      "layout": "IPY_MODEL_00d4052aaeec4f43889ec9f60dd0df62",
      "placeholder": "​",
      "style": "IPY_MODEL_1c62971a214143dab87d48b8eff9f960",
      "value": " 9/782 [00:03&lt;03:49,  3.37it/s]"
     }
    },
    "dc2e957748ec41a6b7f715ce4294e368": {
     "model_module": "@jupyter-widgets/base",
     "model_module_version": "1.2.0",
     "model_name": "LayoutModel",
     "state": {
      "_model_module": "@jupyter-widgets/base",
      "_model_module_version": "1.2.0",
      "_model_name": "LayoutModel",
      "_view_count": null,
      "_view_module": "@jupyter-widgets/base",
      "_view_module_version": "1.2.0",
      "_view_name": "LayoutView",
      "align_content": null,
      "align_items": null,
      "align_self": null,
      "border": null,
      "bottom": null,
      "display": null,
      "flex": null,
      "flex_flow": null,
      "grid_area": null,
      "grid_auto_columns": null,
      "grid_auto_flow": null,
      "grid_auto_rows": null,
      "grid_column": null,
      "grid_gap": null,
      "grid_row": null,
      "grid_template_areas": null,
      "grid_template_columns": null,
      "grid_template_rows": null,
      "height": null,
      "justify_content": null,
      "justify_items": null,
      "left": null,
      "margin": null,
      "max_height": null,
      "max_width": null,
      "min_height": null,
      "min_width": null,
      "object_fit": null,
      "object_position": null,
      "order": null,
      "overflow": null,
      "overflow_x": null,
      "overflow_y": null,
      "padding": null,
      "right": null,
      "top": null,
      "visibility": null,
      "width": null
     }
    },
    "fe79da413ee74722adbfa9accd88d04c": {
     "model_module": "@jupyter-widgets/controls",
     "model_module_version": "1.5.0",
     "model_name": "HBoxModel",
     "state": {
      "_dom_classes": [],
      "_model_module": "@jupyter-widgets/controls",
      "_model_module_version": "1.5.0",
      "_model_name": "HBoxModel",
      "_view_count": null,
      "_view_module": "@jupyter-widgets/controls",
      "_view_module_version": "1.5.0",
      "_view_name": "HBoxView",
      "box_style": "",
      "children": [
       "IPY_MODEL_215832372b924a8ca8e0f84d282eaa39",
       "IPY_MODEL_a78e50ea6b4946e99a624a877014f974",
       "IPY_MODEL_c6f3e12422a94a5b9e1d3baa139bb7cc"
      ],
      "layout": "IPY_MODEL_684eac4d36b444238fe2be0d86dc77dd"
     }
    }
   }
  }
 },
 "nbformat": 4,
 "nbformat_minor": 5
}
