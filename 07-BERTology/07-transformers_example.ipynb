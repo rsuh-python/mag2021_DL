{
  "nbformat": 4,
  "nbformat_minor": 0,
  "metadata": {
    "colab": {
      "name": "21_transformers.BertModel.ipynb",
      "provenance": []
    },
    "kernelspec": {
      "name": "python3",
      "display_name": "Python 3"
    },
    "language_info": {
      "name": "python"
    },
    "accelerator": "GPU",
    "widgets": {
      "application/vnd.jupyter.widget-state+json": {
        "f521b4d2ae59406eab63472354801e94": {
          "model_module": "@jupyter-widgets/controls",
          "model_name": "HBoxModel",
          "model_module_version": "1.5.0",
          "state": {
            "_view_name": "HBoxView",
            "_dom_classes": [],
            "_model_name": "HBoxModel",
            "_view_module": "@jupyter-widgets/controls",
            "_model_module_version": "1.5.0",
            "_view_count": null,
            "_view_module_version": "1.5.0",
            "box_style": "",
            "layout": "IPY_MODEL_2d93e45c5e6044b381276f5a8fc61f69",
            "_model_module": "@jupyter-widgets/controls",
            "children": [
              "IPY_MODEL_7e50612db033455899381dfa39d18e08",
              "IPY_MODEL_a0e4e079bda64fc08fbf9e4aade52d58",
              "IPY_MODEL_b4569479b54d44cf933f7db7c75bf4aa"
            ]
          }
        },
        "2d93e45c5e6044b381276f5a8fc61f69": {
          "model_module": "@jupyter-widgets/base",
          "model_name": "LayoutModel",
          "model_module_version": "1.2.0",
          "state": {
            "_view_name": "LayoutView",
            "grid_template_rows": null,
            "right": null,
            "justify_content": null,
            "_view_module": "@jupyter-widgets/base",
            "overflow": null,
            "_model_module_version": "1.2.0",
            "_view_count": null,
            "flex_flow": null,
            "width": null,
            "min_width": null,
            "border": null,
            "align_items": null,
            "bottom": null,
            "_model_module": "@jupyter-widgets/base",
            "top": null,
            "grid_column": null,
            "overflow_y": null,
            "overflow_x": null,
            "grid_auto_flow": null,
            "grid_area": null,
            "grid_template_columns": null,
            "flex": null,
            "_model_name": "LayoutModel",
            "justify_items": null,
            "grid_row": null,
            "max_height": null,
            "align_content": null,
            "visibility": null,
            "align_self": null,
            "height": null,
            "min_height": null,
            "padding": null,
            "grid_auto_rows": null,
            "grid_gap": null,
            "max_width": null,
            "order": null,
            "_view_module_version": "1.2.0",
            "grid_template_areas": null,
            "object_position": null,
            "object_fit": null,
            "grid_auto_columns": null,
            "margin": null,
            "display": null,
            "left": null
          }
        },
        "7e50612db033455899381dfa39d18e08": {
          "model_module": "@jupyter-widgets/controls",
          "model_name": "HTMLModel",
          "model_module_version": "1.5.0",
          "state": {
            "_view_name": "HTMLView",
            "style": "IPY_MODEL_018aa70fe2c642fc9f8ab67e3058f12f",
            "_dom_classes": [],
            "description": "",
            "_model_name": "HTMLModel",
            "placeholder": "​",
            "_view_module": "@jupyter-widgets/controls",
            "_model_module_version": "1.5.0",
            "value": "Downloading: 100%",
            "_view_count": null,
            "_view_module_version": "1.5.0",
            "description_tooltip": null,
            "_model_module": "@jupyter-widgets/controls",
            "layout": "IPY_MODEL_e6befee7c7a94c6fb56cd005d662a638"
          }
        },
        "a0e4e079bda64fc08fbf9e4aade52d58": {
          "model_module": "@jupyter-widgets/controls",
          "model_name": "FloatProgressModel",
          "model_module_version": "1.5.0",
          "state": {
            "_view_name": "ProgressView",
            "style": "IPY_MODEL_6ed184a8563d43c090416d60ad5c3467",
            "_dom_classes": [],
            "description": "",
            "_model_name": "FloatProgressModel",
            "bar_style": "success",
            "max": 29,
            "_view_module": "@jupyter-widgets/controls",
            "_model_module_version": "1.5.0",
            "value": 29,
            "_view_count": null,
            "_view_module_version": "1.5.0",
            "orientation": "horizontal",
            "min": 0,
            "description_tooltip": null,
            "_model_module": "@jupyter-widgets/controls",
            "layout": "IPY_MODEL_51061feb0e4f4e8d88b36d68b80040c4"
          }
        },
        "b4569479b54d44cf933f7db7c75bf4aa": {
          "model_module": "@jupyter-widgets/controls",
          "model_name": "HTMLModel",
          "model_module_version": "1.5.0",
          "state": {
            "_view_name": "HTMLView",
            "style": "IPY_MODEL_58031c8d7e604cb59f760ea83859e30e",
            "_dom_classes": [],
            "description": "",
            "_model_name": "HTMLModel",
            "placeholder": "​",
            "_view_module": "@jupyter-widgets/controls",
            "_model_module_version": "1.5.0",
            "value": " 29.0/29.0 [00:00&lt;00:00, 193B/s]",
            "_view_count": null,
            "_view_module_version": "1.5.0",
            "description_tooltip": null,
            "_model_module": "@jupyter-widgets/controls",
            "layout": "IPY_MODEL_73b6466e35db497dbbea2896237605ec"
          }
        },
        "018aa70fe2c642fc9f8ab67e3058f12f": {
          "model_module": "@jupyter-widgets/controls",
          "model_name": "DescriptionStyleModel",
          "model_module_version": "1.5.0",
          "state": {
            "_view_name": "StyleView",
            "_model_name": "DescriptionStyleModel",
            "description_width": "",
            "_view_module": "@jupyter-widgets/base",
            "_model_module_version": "1.5.0",
            "_view_count": null,
            "_view_module_version": "1.2.0",
            "_model_module": "@jupyter-widgets/controls"
          }
        },
        "e6befee7c7a94c6fb56cd005d662a638": {
          "model_module": "@jupyter-widgets/base",
          "model_name": "LayoutModel",
          "model_module_version": "1.2.0",
          "state": {
            "_view_name": "LayoutView",
            "grid_template_rows": null,
            "right": null,
            "justify_content": null,
            "_view_module": "@jupyter-widgets/base",
            "overflow": null,
            "_model_module_version": "1.2.0",
            "_view_count": null,
            "flex_flow": null,
            "width": null,
            "min_width": null,
            "border": null,
            "align_items": null,
            "bottom": null,
            "_model_module": "@jupyter-widgets/base",
            "top": null,
            "grid_column": null,
            "overflow_y": null,
            "overflow_x": null,
            "grid_auto_flow": null,
            "grid_area": null,
            "grid_template_columns": null,
            "flex": null,
            "_model_name": "LayoutModel",
            "justify_items": null,
            "grid_row": null,
            "max_height": null,
            "align_content": null,
            "visibility": null,
            "align_self": null,
            "height": null,
            "min_height": null,
            "padding": null,
            "grid_auto_rows": null,
            "grid_gap": null,
            "max_width": null,
            "order": null,
            "_view_module_version": "1.2.0",
            "grid_template_areas": null,
            "object_position": null,
            "object_fit": null,
            "grid_auto_columns": null,
            "margin": null,
            "display": null,
            "left": null
          }
        },
        "6ed184a8563d43c090416d60ad5c3467": {
          "model_module": "@jupyter-widgets/controls",
          "model_name": "ProgressStyleModel",
          "model_module_version": "1.5.0",
          "state": {
            "_view_name": "StyleView",
            "_model_name": "ProgressStyleModel",
            "description_width": "",
            "_view_module": "@jupyter-widgets/base",
            "_model_module_version": "1.5.0",
            "_view_count": null,
            "_view_module_version": "1.2.0",
            "bar_color": null,
            "_model_module": "@jupyter-widgets/controls"
          }
        },
        "51061feb0e4f4e8d88b36d68b80040c4": {
          "model_module": "@jupyter-widgets/base",
          "model_name": "LayoutModel",
          "model_module_version": "1.2.0",
          "state": {
            "_view_name": "LayoutView",
            "grid_template_rows": null,
            "right": null,
            "justify_content": null,
            "_view_module": "@jupyter-widgets/base",
            "overflow": null,
            "_model_module_version": "1.2.0",
            "_view_count": null,
            "flex_flow": null,
            "width": null,
            "min_width": null,
            "border": null,
            "align_items": null,
            "bottom": null,
            "_model_module": "@jupyter-widgets/base",
            "top": null,
            "grid_column": null,
            "overflow_y": null,
            "overflow_x": null,
            "grid_auto_flow": null,
            "grid_area": null,
            "grid_template_columns": null,
            "flex": null,
            "_model_name": "LayoutModel",
            "justify_items": null,
            "grid_row": null,
            "max_height": null,
            "align_content": null,
            "visibility": null,
            "align_self": null,
            "height": null,
            "min_height": null,
            "padding": null,
            "grid_auto_rows": null,
            "grid_gap": null,
            "max_width": null,
            "order": null,
            "_view_module_version": "1.2.0",
            "grid_template_areas": null,
            "object_position": null,
            "object_fit": null,
            "grid_auto_columns": null,
            "margin": null,
            "display": null,
            "left": null
          }
        },
        "58031c8d7e604cb59f760ea83859e30e": {
          "model_module": "@jupyter-widgets/controls",
          "model_name": "DescriptionStyleModel",
          "model_module_version": "1.5.0",
          "state": {
            "_view_name": "StyleView",
            "_model_name": "DescriptionStyleModel",
            "description_width": "",
            "_view_module": "@jupyter-widgets/base",
            "_model_module_version": "1.5.0",
            "_view_count": null,
            "_view_module_version": "1.2.0",
            "_model_module": "@jupyter-widgets/controls"
          }
        },
        "73b6466e35db497dbbea2896237605ec": {
          "model_module": "@jupyter-widgets/base",
          "model_name": "LayoutModel",
          "model_module_version": "1.2.0",
          "state": {
            "_view_name": "LayoutView",
            "grid_template_rows": null,
            "right": null,
            "justify_content": null,
            "_view_module": "@jupyter-widgets/base",
            "overflow": null,
            "_model_module_version": "1.2.0",
            "_view_count": null,
            "flex_flow": null,
            "width": null,
            "min_width": null,
            "border": null,
            "align_items": null,
            "bottom": null,
            "_model_module": "@jupyter-widgets/base",
            "top": null,
            "grid_column": null,
            "overflow_y": null,
            "overflow_x": null,
            "grid_auto_flow": null,
            "grid_area": null,
            "grid_template_columns": null,
            "flex": null,
            "_model_name": "LayoutModel",
            "justify_items": null,
            "grid_row": null,
            "max_height": null,
            "align_content": null,
            "visibility": null,
            "align_self": null,
            "height": null,
            "min_height": null,
            "padding": null,
            "grid_auto_rows": null,
            "grid_gap": null,
            "max_width": null,
            "order": null,
            "_view_module_version": "1.2.0",
            "grid_template_areas": null,
            "object_position": null,
            "object_fit": null,
            "grid_auto_columns": null,
            "margin": null,
            "display": null,
            "left": null
          }
        },
        "a9bc34dfcffc4e0ea29907071ada921d": {
          "model_module": "@jupyter-widgets/controls",
          "model_name": "HBoxModel",
          "model_module_version": "1.5.0",
          "state": {
            "_view_name": "HBoxView",
            "_dom_classes": [],
            "_model_name": "HBoxModel",
            "_view_module": "@jupyter-widgets/controls",
            "_model_module_version": "1.5.0",
            "_view_count": null,
            "_view_module_version": "1.5.0",
            "box_style": "",
            "layout": "IPY_MODEL_b757fc632587426f94b97a6c37e1dc91",
            "_model_module": "@jupyter-widgets/controls",
            "children": [
              "IPY_MODEL_bca60daa71684821b4eef416eeffc5d2",
              "IPY_MODEL_6a6c83884f5942ce88dd4a3200a9d185",
              "IPY_MODEL_92419b4278d54f2b8daa8103ab66243e"
            ]
          }
        },
        "b757fc632587426f94b97a6c37e1dc91": {
          "model_module": "@jupyter-widgets/base",
          "model_name": "LayoutModel",
          "model_module_version": "1.2.0",
          "state": {
            "_view_name": "LayoutView",
            "grid_template_rows": null,
            "right": null,
            "justify_content": null,
            "_view_module": "@jupyter-widgets/base",
            "overflow": null,
            "_model_module_version": "1.2.0",
            "_view_count": null,
            "flex_flow": null,
            "width": null,
            "min_width": null,
            "border": null,
            "align_items": null,
            "bottom": null,
            "_model_module": "@jupyter-widgets/base",
            "top": null,
            "grid_column": null,
            "overflow_y": null,
            "overflow_x": null,
            "grid_auto_flow": null,
            "grid_area": null,
            "grid_template_columns": null,
            "flex": null,
            "_model_name": "LayoutModel",
            "justify_items": null,
            "grid_row": null,
            "max_height": null,
            "align_content": null,
            "visibility": null,
            "align_self": null,
            "height": null,
            "min_height": null,
            "padding": null,
            "grid_auto_rows": null,
            "grid_gap": null,
            "max_width": null,
            "order": null,
            "_view_module_version": "1.2.0",
            "grid_template_areas": null,
            "object_position": null,
            "object_fit": null,
            "grid_auto_columns": null,
            "margin": null,
            "display": null,
            "left": null
          }
        },
        "bca60daa71684821b4eef416eeffc5d2": {
          "model_module": "@jupyter-widgets/controls",
          "model_name": "HTMLModel",
          "model_module_version": "1.5.0",
          "state": {
            "_view_name": "HTMLView",
            "style": "IPY_MODEL_b8350ae5a2f64b6cacefc637d9857111",
            "_dom_classes": [],
            "description": "",
            "_model_name": "HTMLModel",
            "placeholder": "​",
            "_view_module": "@jupyter-widgets/controls",
            "_model_module_version": "1.5.0",
            "value": "Downloading: 100%",
            "_view_count": null,
            "_view_module_version": "1.5.0",
            "description_tooltip": null,
            "_model_module": "@jupyter-widgets/controls",
            "layout": "IPY_MODEL_8597ae34cb7d418f83632b26be78f2a9"
          }
        },
        "6a6c83884f5942ce88dd4a3200a9d185": {
          "model_module": "@jupyter-widgets/controls",
          "model_name": "FloatProgressModel",
          "model_module_version": "1.5.0",
          "state": {
            "_view_name": "ProgressView",
            "style": "IPY_MODEL_07cd7a86e113402bbb626b863611f151",
            "_dom_classes": [],
            "description": "",
            "_model_name": "FloatProgressModel",
            "bar_style": "success",
            "max": 213450,
            "_view_module": "@jupyter-widgets/controls",
            "_model_module_version": "1.5.0",
            "value": 213450,
            "_view_count": null,
            "_view_module_version": "1.5.0",
            "orientation": "horizontal",
            "min": 0,
            "description_tooltip": null,
            "_model_module": "@jupyter-widgets/controls",
            "layout": "IPY_MODEL_5a71a326e505472a8e49ef81a9e8ec4b"
          }
        },
        "92419b4278d54f2b8daa8103ab66243e": {
          "model_module": "@jupyter-widgets/controls",
          "model_name": "HTMLModel",
          "model_module_version": "1.5.0",
          "state": {
            "_view_name": "HTMLView",
            "style": "IPY_MODEL_8129be16e0c24808a3873d939e0a8978",
            "_dom_classes": [],
            "description": "",
            "_model_name": "HTMLModel",
            "placeholder": "​",
            "_view_module": "@jupyter-widgets/controls",
            "_model_module_version": "1.5.0",
            "value": " 208k/208k [00:00&lt;00:00, 7.47kB/s]",
            "_view_count": null,
            "_view_module_version": "1.5.0",
            "description_tooltip": null,
            "_model_module": "@jupyter-widgets/controls",
            "layout": "IPY_MODEL_4997703bc37a486087744677014531ce"
          }
        },
        "b8350ae5a2f64b6cacefc637d9857111": {
          "model_module": "@jupyter-widgets/controls",
          "model_name": "DescriptionStyleModel",
          "model_module_version": "1.5.0",
          "state": {
            "_view_name": "StyleView",
            "_model_name": "DescriptionStyleModel",
            "description_width": "",
            "_view_module": "@jupyter-widgets/base",
            "_model_module_version": "1.5.0",
            "_view_count": null,
            "_view_module_version": "1.2.0",
            "_model_module": "@jupyter-widgets/controls"
          }
        },
        "8597ae34cb7d418f83632b26be78f2a9": {
          "model_module": "@jupyter-widgets/base",
          "model_name": "LayoutModel",
          "model_module_version": "1.2.0",
          "state": {
            "_view_name": "LayoutView",
            "grid_template_rows": null,
            "right": null,
            "justify_content": null,
            "_view_module": "@jupyter-widgets/base",
            "overflow": null,
            "_model_module_version": "1.2.0",
            "_view_count": null,
            "flex_flow": null,
            "width": null,
            "min_width": null,
            "border": null,
            "align_items": null,
            "bottom": null,
            "_model_module": "@jupyter-widgets/base",
            "top": null,
            "grid_column": null,
            "overflow_y": null,
            "overflow_x": null,
            "grid_auto_flow": null,
            "grid_area": null,
            "grid_template_columns": null,
            "flex": null,
            "_model_name": "LayoutModel",
            "justify_items": null,
            "grid_row": null,
            "max_height": null,
            "align_content": null,
            "visibility": null,
            "align_self": null,
            "height": null,
            "min_height": null,
            "padding": null,
            "grid_auto_rows": null,
            "grid_gap": null,
            "max_width": null,
            "order": null,
            "_view_module_version": "1.2.0",
            "grid_template_areas": null,
            "object_position": null,
            "object_fit": null,
            "grid_auto_columns": null,
            "margin": null,
            "display": null,
            "left": null
          }
        },
        "07cd7a86e113402bbb626b863611f151": {
          "model_module": "@jupyter-widgets/controls",
          "model_name": "ProgressStyleModel",
          "model_module_version": "1.5.0",
          "state": {
            "_view_name": "StyleView",
            "_model_name": "ProgressStyleModel",
            "description_width": "",
            "_view_module": "@jupyter-widgets/base",
            "_model_module_version": "1.5.0",
            "_view_count": null,
            "_view_module_version": "1.2.0",
            "bar_color": null,
            "_model_module": "@jupyter-widgets/controls"
          }
        },
        "5a71a326e505472a8e49ef81a9e8ec4b": {
          "model_module": "@jupyter-widgets/base",
          "model_name": "LayoutModel",
          "model_module_version": "1.2.0",
          "state": {
            "_view_name": "LayoutView",
            "grid_template_rows": null,
            "right": null,
            "justify_content": null,
            "_view_module": "@jupyter-widgets/base",
            "overflow": null,
            "_model_module_version": "1.2.0",
            "_view_count": null,
            "flex_flow": null,
            "width": null,
            "min_width": null,
            "border": null,
            "align_items": null,
            "bottom": null,
            "_model_module": "@jupyter-widgets/base",
            "top": null,
            "grid_column": null,
            "overflow_y": null,
            "overflow_x": null,
            "grid_auto_flow": null,
            "grid_area": null,
            "grid_template_columns": null,
            "flex": null,
            "_model_name": "LayoutModel",
            "justify_items": null,
            "grid_row": null,
            "max_height": null,
            "align_content": null,
            "visibility": null,
            "align_self": null,
            "height": null,
            "min_height": null,
            "padding": null,
            "grid_auto_rows": null,
            "grid_gap": null,
            "max_width": null,
            "order": null,
            "_view_module_version": "1.2.0",
            "grid_template_areas": null,
            "object_position": null,
            "object_fit": null,
            "grid_auto_columns": null,
            "margin": null,
            "display": null,
            "left": null
          }
        },
        "8129be16e0c24808a3873d939e0a8978": {
          "model_module": "@jupyter-widgets/controls",
          "model_name": "DescriptionStyleModel",
          "model_module_version": "1.5.0",
          "state": {
            "_view_name": "StyleView",
            "_model_name": "DescriptionStyleModel",
            "description_width": "",
            "_view_module": "@jupyter-widgets/base",
            "_model_module_version": "1.5.0",
            "_view_count": null,
            "_view_module_version": "1.2.0",
            "_model_module": "@jupyter-widgets/controls"
          }
        },
        "4997703bc37a486087744677014531ce": {
          "model_module": "@jupyter-widgets/base",
          "model_name": "LayoutModel",
          "model_module_version": "1.2.0",
          "state": {
            "_view_name": "LayoutView",
            "grid_template_rows": null,
            "right": null,
            "justify_content": null,
            "_view_module": "@jupyter-widgets/base",
            "overflow": null,
            "_model_module_version": "1.2.0",
            "_view_count": null,
            "flex_flow": null,
            "width": null,
            "min_width": null,
            "border": null,
            "align_items": null,
            "bottom": null,
            "_model_module": "@jupyter-widgets/base",
            "top": null,
            "grid_column": null,
            "overflow_y": null,
            "overflow_x": null,
            "grid_auto_flow": null,
            "grid_area": null,
            "grid_template_columns": null,
            "flex": null,
            "_model_name": "LayoutModel",
            "justify_items": null,
            "grid_row": null,
            "max_height": null,
            "align_content": null,
            "visibility": null,
            "align_self": null,
            "height": null,
            "min_height": null,
            "padding": null,
            "grid_auto_rows": null,
            "grid_gap": null,
            "max_width": null,
            "order": null,
            "_view_module_version": "1.2.0",
            "grid_template_areas": null,
            "object_position": null,
            "object_fit": null,
            "grid_auto_columns": null,
            "margin": null,
            "display": null,
            "left": null
          }
        },
        "f9b3d73c4fea4d1884f5bad9cb7ceeae": {
          "model_module": "@jupyter-widgets/controls",
          "model_name": "HBoxModel",
          "model_module_version": "1.5.0",
          "state": {
            "_view_name": "HBoxView",
            "_dom_classes": [],
            "_model_name": "HBoxModel",
            "_view_module": "@jupyter-widgets/controls",
            "_model_module_version": "1.5.0",
            "_view_count": null,
            "_view_module_version": "1.5.0",
            "box_style": "",
            "layout": "IPY_MODEL_7928f953ac0e421192ea693c90973b36",
            "_model_module": "@jupyter-widgets/controls",
            "children": [
              "IPY_MODEL_5fa1ec4fa9b54019b0b8a6a1a04e93e2",
              "IPY_MODEL_54ed07f6e41549e1933d43bfaff4cb3c",
              "IPY_MODEL_cbe811dc05c1498ba413b5995c09409f"
            ]
          }
        },
        "7928f953ac0e421192ea693c90973b36": {
          "model_module": "@jupyter-widgets/base",
          "model_name": "LayoutModel",
          "model_module_version": "1.2.0",
          "state": {
            "_view_name": "LayoutView",
            "grid_template_rows": null,
            "right": null,
            "justify_content": null,
            "_view_module": "@jupyter-widgets/base",
            "overflow": null,
            "_model_module_version": "1.2.0",
            "_view_count": null,
            "flex_flow": null,
            "width": null,
            "min_width": null,
            "border": null,
            "align_items": null,
            "bottom": null,
            "_model_module": "@jupyter-widgets/base",
            "top": null,
            "grid_column": null,
            "overflow_y": null,
            "overflow_x": null,
            "grid_auto_flow": null,
            "grid_area": null,
            "grid_template_columns": null,
            "flex": null,
            "_model_name": "LayoutModel",
            "justify_items": null,
            "grid_row": null,
            "max_height": null,
            "align_content": null,
            "visibility": null,
            "align_self": null,
            "height": null,
            "min_height": null,
            "padding": null,
            "grid_auto_rows": null,
            "grid_gap": null,
            "max_width": null,
            "order": null,
            "_view_module_version": "1.2.0",
            "grid_template_areas": null,
            "object_position": null,
            "object_fit": null,
            "grid_auto_columns": null,
            "margin": null,
            "display": null,
            "left": null
          }
        },
        "5fa1ec4fa9b54019b0b8a6a1a04e93e2": {
          "model_module": "@jupyter-widgets/controls",
          "model_name": "HTMLModel",
          "model_module_version": "1.5.0",
          "state": {
            "_view_name": "HTMLView",
            "style": "IPY_MODEL_9c441a89454f4574922d04cf40fb548a",
            "_dom_classes": [],
            "description": "",
            "_model_name": "HTMLModel",
            "placeholder": "​",
            "_view_module": "@jupyter-widgets/controls",
            "_model_module_version": "1.5.0",
            "value": "Downloading: 100%",
            "_view_count": null,
            "_view_module_version": "1.5.0",
            "description_tooltip": null,
            "_model_module": "@jupyter-widgets/controls",
            "layout": "IPY_MODEL_3b39b03d9a5442f7a7a1d6f1b530d13c"
          }
        },
        "54ed07f6e41549e1933d43bfaff4cb3c": {
          "model_module": "@jupyter-widgets/controls",
          "model_name": "FloatProgressModel",
          "model_module_version": "1.5.0",
          "state": {
            "_view_name": "ProgressView",
            "style": "IPY_MODEL_a7dbf7d043a7465280dd16af9d00866d",
            "_dom_classes": [],
            "description": "",
            "_model_name": "FloatProgressModel",
            "bar_style": "success",
            "max": 435797,
            "_view_module": "@jupyter-widgets/controls",
            "_model_module_version": "1.5.0",
            "value": 435797,
            "_view_count": null,
            "_view_module_version": "1.5.0",
            "orientation": "horizontal",
            "min": 0,
            "description_tooltip": null,
            "_model_module": "@jupyter-widgets/controls",
            "layout": "IPY_MODEL_7c3c0160f9be4935aae81799c75b24a6"
          }
        },
        "cbe811dc05c1498ba413b5995c09409f": {
          "model_module": "@jupyter-widgets/controls",
          "model_name": "HTMLModel",
          "model_module_version": "1.5.0",
          "state": {
            "_view_name": "HTMLView",
            "style": "IPY_MODEL_e943030335a2419b8bd5d9e577aa9b68",
            "_dom_classes": [],
            "description": "",
            "_model_name": "HTMLModel",
            "placeholder": "​",
            "_view_module": "@jupyter-widgets/controls",
            "_model_module_version": "1.5.0",
            "value": " 426k/426k [00:00&lt;00:00, 897kB/s]",
            "_view_count": null,
            "_view_module_version": "1.5.0",
            "description_tooltip": null,
            "_model_module": "@jupyter-widgets/controls",
            "layout": "IPY_MODEL_685bea73351649feafc1cc65e0281053"
          }
        },
        "9c441a89454f4574922d04cf40fb548a": {
          "model_module": "@jupyter-widgets/controls",
          "model_name": "DescriptionStyleModel",
          "model_module_version": "1.5.0",
          "state": {
            "_view_name": "StyleView",
            "_model_name": "DescriptionStyleModel",
            "description_width": "",
            "_view_module": "@jupyter-widgets/base",
            "_model_module_version": "1.5.0",
            "_view_count": null,
            "_view_module_version": "1.2.0",
            "_model_module": "@jupyter-widgets/controls"
          }
        },
        "3b39b03d9a5442f7a7a1d6f1b530d13c": {
          "model_module": "@jupyter-widgets/base",
          "model_name": "LayoutModel",
          "model_module_version": "1.2.0",
          "state": {
            "_view_name": "LayoutView",
            "grid_template_rows": null,
            "right": null,
            "justify_content": null,
            "_view_module": "@jupyter-widgets/base",
            "overflow": null,
            "_model_module_version": "1.2.0",
            "_view_count": null,
            "flex_flow": null,
            "width": null,
            "min_width": null,
            "border": null,
            "align_items": null,
            "bottom": null,
            "_model_module": "@jupyter-widgets/base",
            "top": null,
            "grid_column": null,
            "overflow_y": null,
            "overflow_x": null,
            "grid_auto_flow": null,
            "grid_area": null,
            "grid_template_columns": null,
            "flex": null,
            "_model_name": "LayoutModel",
            "justify_items": null,
            "grid_row": null,
            "max_height": null,
            "align_content": null,
            "visibility": null,
            "align_self": null,
            "height": null,
            "min_height": null,
            "padding": null,
            "grid_auto_rows": null,
            "grid_gap": null,
            "max_width": null,
            "order": null,
            "_view_module_version": "1.2.0",
            "grid_template_areas": null,
            "object_position": null,
            "object_fit": null,
            "grid_auto_columns": null,
            "margin": null,
            "display": null,
            "left": null
          }
        },
        "a7dbf7d043a7465280dd16af9d00866d": {
          "model_module": "@jupyter-widgets/controls",
          "model_name": "ProgressStyleModel",
          "model_module_version": "1.5.0",
          "state": {
            "_view_name": "StyleView",
            "_model_name": "ProgressStyleModel",
            "description_width": "",
            "_view_module": "@jupyter-widgets/base",
            "_model_module_version": "1.5.0",
            "_view_count": null,
            "_view_module_version": "1.2.0",
            "bar_color": null,
            "_model_module": "@jupyter-widgets/controls"
          }
        },
        "7c3c0160f9be4935aae81799c75b24a6": {
          "model_module": "@jupyter-widgets/base",
          "model_name": "LayoutModel",
          "model_module_version": "1.2.0",
          "state": {
            "_view_name": "LayoutView",
            "grid_template_rows": null,
            "right": null,
            "justify_content": null,
            "_view_module": "@jupyter-widgets/base",
            "overflow": null,
            "_model_module_version": "1.2.0",
            "_view_count": null,
            "flex_flow": null,
            "width": null,
            "min_width": null,
            "border": null,
            "align_items": null,
            "bottom": null,
            "_model_module": "@jupyter-widgets/base",
            "top": null,
            "grid_column": null,
            "overflow_y": null,
            "overflow_x": null,
            "grid_auto_flow": null,
            "grid_area": null,
            "grid_template_columns": null,
            "flex": null,
            "_model_name": "LayoutModel",
            "justify_items": null,
            "grid_row": null,
            "max_height": null,
            "align_content": null,
            "visibility": null,
            "align_self": null,
            "height": null,
            "min_height": null,
            "padding": null,
            "grid_auto_rows": null,
            "grid_gap": null,
            "max_width": null,
            "order": null,
            "_view_module_version": "1.2.0",
            "grid_template_areas": null,
            "object_position": null,
            "object_fit": null,
            "grid_auto_columns": null,
            "margin": null,
            "display": null,
            "left": null
          }
        },
        "e943030335a2419b8bd5d9e577aa9b68": {
          "model_module": "@jupyter-widgets/controls",
          "model_name": "DescriptionStyleModel",
          "model_module_version": "1.5.0",
          "state": {
            "_view_name": "StyleView",
            "_model_name": "DescriptionStyleModel",
            "description_width": "",
            "_view_module": "@jupyter-widgets/base",
            "_model_module_version": "1.5.0",
            "_view_count": null,
            "_view_module_version": "1.2.0",
            "_model_module": "@jupyter-widgets/controls"
          }
        },
        "685bea73351649feafc1cc65e0281053": {
          "model_module": "@jupyter-widgets/base",
          "model_name": "LayoutModel",
          "model_module_version": "1.2.0",
          "state": {
            "_view_name": "LayoutView",
            "grid_template_rows": null,
            "right": null,
            "justify_content": null,
            "_view_module": "@jupyter-widgets/base",
            "overflow": null,
            "_model_module_version": "1.2.0",
            "_view_count": null,
            "flex_flow": null,
            "width": null,
            "min_width": null,
            "border": null,
            "align_items": null,
            "bottom": null,
            "_model_module": "@jupyter-widgets/base",
            "top": null,
            "grid_column": null,
            "overflow_y": null,
            "overflow_x": null,
            "grid_auto_flow": null,
            "grid_area": null,
            "grid_template_columns": null,
            "flex": null,
            "_model_name": "LayoutModel",
            "justify_items": null,
            "grid_row": null,
            "max_height": null,
            "align_content": null,
            "visibility": null,
            "align_self": null,
            "height": null,
            "min_height": null,
            "padding": null,
            "grid_auto_rows": null,
            "grid_gap": null,
            "max_width": null,
            "order": null,
            "_view_module_version": "1.2.0",
            "grid_template_areas": null,
            "object_position": null,
            "object_fit": null,
            "grid_auto_columns": null,
            "margin": null,
            "display": null,
            "left": null
          }
        },
        "027c2534556c4922ae6abddc8f271cfe": {
          "model_module": "@jupyter-widgets/controls",
          "model_name": "HBoxModel",
          "model_module_version": "1.5.0",
          "state": {
            "_view_name": "HBoxView",
            "_dom_classes": [],
            "_model_name": "HBoxModel",
            "_view_module": "@jupyter-widgets/controls",
            "_model_module_version": "1.5.0",
            "_view_count": null,
            "_view_module_version": "1.5.0",
            "box_style": "",
            "layout": "IPY_MODEL_d711602a03804121b194534fb0e0cb6d",
            "_model_module": "@jupyter-widgets/controls",
            "children": [
              "IPY_MODEL_78badafd49cc4d5fa27dacd3e35ef3db",
              "IPY_MODEL_7a45dad239e1444fbd48d8750810014f",
              "IPY_MODEL_6a2029853f084b5896eb62ac3884ded2"
            ]
          }
        },
        "d711602a03804121b194534fb0e0cb6d": {
          "model_module": "@jupyter-widgets/base",
          "model_name": "LayoutModel",
          "model_module_version": "1.2.0",
          "state": {
            "_view_name": "LayoutView",
            "grid_template_rows": null,
            "right": null,
            "justify_content": null,
            "_view_module": "@jupyter-widgets/base",
            "overflow": null,
            "_model_module_version": "1.2.0",
            "_view_count": null,
            "flex_flow": null,
            "width": null,
            "min_width": null,
            "border": null,
            "align_items": null,
            "bottom": null,
            "_model_module": "@jupyter-widgets/base",
            "top": null,
            "grid_column": null,
            "overflow_y": null,
            "overflow_x": null,
            "grid_auto_flow": null,
            "grid_area": null,
            "grid_template_columns": null,
            "flex": null,
            "_model_name": "LayoutModel",
            "justify_items": null,
            "grid_row": null,
            "max_height": null,
            "align_content": null,
            "visibility": null,
            "align_self": null,
            "height": null,
            "min_height": null,
            "padding": null,
            "grid_auto_rows": null,
            "grid_gap": null,
            "max_width": null,
            "order": null,
            "_view_module_version": "1.2.0",
            "grid_template_areas": null,
            "object_position": null,
            "object_fit": null,
            "grid_auto_columns": null,
            "margin": null,
            "display": null,
            "left": null
          }
        },
        "78badafd49cc4d5fa27dacd3e35ef3db": {
          "model_module": "@jupyter-widgets/controls",
          "model_name": "HTMLModel",
          "model_module_version": "1.5.0",
          "state": {
            "_view_name": "HTMLView",
            "style": "IPY_MODEL_b556031234004154af817e1c7e382cdc",
            "_dom_classes": [],
            "description": "",
            "_model_name": "HTMLModel",
            "placeholder": "​",
            "_view_module": "@jupyter-widgets/controls",
            "_model_module_version": "1.5.0",
            "value": "Downloading: 100%",
            "_view_count": null,
            "_view_module_version": "1.5.0",
            "description_tooltip": null,
            "_model_module": "@jupyter-widgets/controls",
            "layout": "IPY_MODEL_ecdfd51f425542f28242c1d0af2f710c"
          }
        },
        "7a45dad239e1444fbd48d8750810014f": {
          "model_module": "@jupyter-widgets/controls",
          "model_name": "FloatProgressModel",
          "model_module_version": "1.5.0",
          "state": {
            "_view_name": "ProgressView",
            "style": "IPY_MODEL_52e6bfab3ee74f09827034e3d84a0110",
            "_dom_classes": [],
            "description": "",
            "_model_name": "FloatProgressModel",
            "bar_style": "success",
            "max": 570,
            "_view_module": "@jupyter-widgets/controls",
            "_model_module_version": "1.5.0",
            "value": 570,
            "_view_count": null,
            "_view_module_version": "1.5.0",
            "orientation": "horizontal",
            "min": 0,
            "description_tooltip": null,
            "_model_module": "@jupyter-widgets/controls",
            "layout": "IPY_MODEL_69b2b041fcfa45e3a6c43a44ea283ca8"
          }
        },
        "6a2029853f084b5896eb62ac3884ded2": {
          "model_module": "@jupyter-widgets/controls",
          "model_name": "HTMLModel",
          "model_module_version": "1.5.0",
          "state": {
            "_view_name": "HTMLView",
            "style": "IPY_MODEL_6a514105025245b9be83088b7b2153cd",
            "_dom_classes": [],
            "description": "",
            "_model_name": "HTMLModel",
            "placeholder": "​",
            "_view_module": "@jupyter-widgets/controls",
            "_model_module_version": "1.5.0",
            "value": " 570/570 [00:00&lt;00:00, 5.36kB/s]",
            "_view_count": null,
            "_view_module_version": "1.5.0",
            "description_tooltip": null,
            "_model_module": "@jupyter-widgets/controls",
            "layout": "IPY_MODEL_6e93da6ae6874705a9e66cedad3cdeae"
          }
        },
        "b556031234004154af817e1c7e382cdc": {
          "model_module": "@jupyter-widgets/controls",
          "model_name": "DescriptionStyleModel",
          "model_module_version": "1.5.0",
          "state": {
            "_view_name": "StyleView",
            "_model_name": "DescriptionStyleModel",
            "description_width": "",
            "_view_module": "@jupyter-widgets/base",
            "_model_module_version": "1.5.0",
            "_view_count": null,
            "_view_module_version": "1.2.0",
            "_model_module": "@jupyter-widgets/controls"
          }
        },
        "ecdfd51f425542f28242c1d0af2f710c": {
          "model_module": "@jupyter-widgets/base",
          "model_name": "LayoutModel",
          "model_module_version": "1.2.0",
          "state": {
            "_view_name": "LayoutView",
            "grid_template_rows": null,
            "right": null,
            "justify_content": null,
            "_view_module": "@jupyter-widgets/base",
            "overflow": null,
            "_model_module_version": "1.2.0",
            "_view_count": null,
            "flex_flow": null,
            "width": null,
            "min_width": null,
            "border": null,
            "align_items": null,
            "bottom": null,
            "_model_module": "@jupyter-widgets/base",
            "top": null,
            "grid_column": null,
            "overflow_y": null,
            "overflow_x": null,
            "grid_auto_flow": null,
            "grid_area": null,
            "grid_template_columns": null,
            "flex": null,
            "_model_name": "LayoutModel",
            "justify_items": null,
            "grid_row": null,
            "max_height": null,
            "align_content": null,
            "visibility": null,
            "align_self": null,
            "height": null,
            "min_height": null,
            "padding": null,
            "grid_auto_rows": null,
            "grid_gap": null,
            "max_width": null,
            "order": null,
            "_view_module_version": "1.2.0",
            "grid_template_areas": null,
            "object_position": null,
            "object_fit": null,
            "grid_auto_columns": null,
            "margin": null,
            "display": null,
            "left": null
          }
        },
        "52e6bfab3ee74f09827034e3d84a0110": {
          "model_module": "@jupyter-widgets/controls",
          "model_name": "ProgressStyleModel",
          "model_module_version": "1.5.0",
          "state": {
            "_view_name": "StyleView",
            "_model_name": "ProgressStyleModel",
            "description_width": "",
            "_view_module": "@jupyter-widgets/base",
            "_model_module_version": "1.5.0",
            "_view_count": null,
            "_view_module_version": "1.2.0",
            "bar_color": null,
            "_model_module": "@jupyter-widgets/controls"
          }
        },
        "69b2b041fcfa45e3a6c43a44ea283ca8": {
          "model_module": "@jupyter-widgets/base",
          "model_name": "LayoutModel",
          "model_module_version": "1.2.0",
          "state": {
            "_view_name": "LayoutView",
            "grid_template_rows": null,
            "right": null,
            "justify_content": null,
            "_view_module": "@jupyter-widgets/base",
            "overflow": null,
            "_model_module_version": "1.2.0",
            "_view_count": null,
            "flex_flow": null,
            "width": null,
            "min_width": null,
            "border": null,
            "align_items": null,
            "bottom": null,
            "_model_module": "@jupyter-widgets/base",
            "top": null,
            "grid_column": null,
            "overflow_y": null,
            "overflow_x": null,
            "grid_auto_flow": null,
            "grid_area": null,
            "grid_template_columns": null,
            "flex": null,
            "_model_name": "LayoutModel",
            "justify_items": null,
            "grid_row": null,
            "max_height": null,
            "align_content": null,
            "visibility": null,
            "align_self": null,
            "height": null,
            "min_height": null,
            "padding": null,
            "grid_auto_rows": null,
            "grid_gap": null,
            "max_width": null,
            "order": null,
            "_view_module_version": "1.2.0",
            "grid_template_areas": null,
            "object_position": null,
            "object_fit": null,
            "grid_auto_columns": null,
            "margin": null,
            "display": null,
            "left": null
          }
        },
        "6a514105025245b9be83088b7b2153cd": {
          "model_module": "@jupyter-widgets/controls",
          "model_name": "DescriptionStyleModel",
          "model_module_version": "1.5.0",
          "state": {
            "_view_name": "StyleView",
            "_model_name": "DescriptionStyleModel",
            "description_width": "",
            "_view_module": "@jupyter-widgets/base",
            "_model_module_version": "1.5.0",
            "_view_count": null,
            "_view_module_version": "1.2.0",
            "_model_module": "@jupyter-widgets/controls"
          }
        },
        "6e93da6ae6874705a9e66cedad3cdeae": {
          "model_module": "@jupyter-widgets/base",
          "model_name": "LayoutModel",
          "model_module_version": "1.2.0",
          "state": {
            "_view_name": "LayoutView",
            "grid_template_rows": null,
            "right": null,
            "justify_content": null,
            "_view_module": "@jupyter-widgets/base",
            "overflow": null,
            "_model_module_version": "1.2.0",
            "_view_count": null,
            "flex_flow": null,
            "width": null,
            "min_width": null,
            "border": null,
            "align_items": null,
            "bottom": null,
            "_model_module": "@jupyter-widgets/base",
            "top": null,
            "grid_column": null,
            "overflow_y": null,
            "overflow_x": null,
            "grid_auto_flow": null,
            "grid_area": null,
            "grid_template_columns": null,
            "flex": null,
            "_model_name": "LayoutModel",
            "justify_items": null,
            "grid_row": null,
            "max_height": null,
            "align_content": null,
            "visibility": null,
            "align_self": null,
            "height": null,
            "min_height": null,
            "padding": null,
            "grid_auto_rows": null,
            "grid_gap": null,
            "max_width": null,
            "order": null,
            "_view_module_version": "1.2.0",
            "grid_template_areas": null,
            "object_position": null,
            "object_fit": null,
            "grid_auto_columns": null,
            "margin": null,
            "display": null,
            "left": null
          }
        },
        "6c29f5389b0e463b8f1bc48ac32bcbdb": {
          "model_module": "@jupyter-widgets/controls",
          "model_name": "HBoxModel",
          "model_module_version": "1.5.0",
          "state": {
            "_view_name": "HBoxView",
            "_dom_classes": [],
            "_model_name": "HBoxModel",
            "_view_module": "@jupyter-widgets/controls",
            "_model_module_version": "1.5.0",
            "_view_count": null,
            "_view_module_version": "1.5.0",
            "box_style": "",
            "layout": "IPY_MODEL_0bfe551156144da9a996f0f6168f9654",
            "_model_module": "@jupyter-widgets/controls",
            "children": [
              "IPY_MODEL_155b2135ff744e47b3b797072d450e61",
              "IPY_MODEL_6f5522f03523414fbba81f2ffd7624f7",
              "IPY_MODEL_4aae591b99c44c1e8c5176ea3f9d7d28"
            ]
          }
        },
        "0bfe551156144da9a996f0f6168f9654": {
          "model_module": "@jupyter-widgets/base",
          "model_name": "LayoutModel",
          "model_module_version": "1.2.0",
          "state": {
            "_view_name": "LayoutView",
            "grid_template_rows": null,
            "right": null,
            "justify_content": null,
            "_view_module": "@jupyter-widgets/base",
            "overflow": null,
            "_model_module_version": "1.2.0",
            "_view_count": null,
            "flex_flow": null,
            "width": null,
            "min_width": null,
            "border": null,
            "align_items": null,
            "bottom": null,
            "_model_module": "@jupyter-widgets/base",
            "top": null,
            "grid_column": null,
            "overflow_y": null,
            "overflow_x": null,
            "grid_auto_flow": null,
            "grid_area": null,
            "grid_template_columns": null,
            "flex": null,
            "_model_name": "LayoutModel",
            "justify_items": null,
            "grid_row": null,
            "max_height": null,
            "align_content": null,
            "visibility": null,
            "align_self": null,
            "height": null,
            "min_height": null,
            "padding": null,
            "grid_auto_rows": null,
            "grid_gap": null,
            "max_width": null,
            "order": null,
            "_view_module_version": "1.2.0",
            "grid_template_areas": null,
            "object_position": null,
            "object_fit": null,
            "grid_auto_columns": null,
            "margin": null,
            "display": null,
            "left": null
          }
        },
        "155b2135ff744e47b3b797072d450e61": {
          "model_module": "@jupyter-widgets/controls",
          "model_name": "HTMLModel",
          "model_module_version": "1.5.0",
          "state": {
            "_view_name": "HTMLView",
            "style": "IPY_MODEL_6eda88dc61d4456db88a25f2041e5cd2",
            "_dom_classes": [],
            "description": "",
            "_model_name": "HTMLModel",
            "placeholder": "​",
            "_view_module": "@jupyter-widgets/controls",
            "_model_module_version": "1.5.0",
            "value": "Downloading: 100%",
            "_view_count": null,
            "_view_module_version": "1.5.0",
            "description_tooltip": null,
            "_model_module": "@jupyter-widgets/controls",
            "layout": "IPY_MODEL_1b86a2abb7054ab48a7e25c56a26fa94"
          }
        },
        "6f5522f03523414fbba81f2ffd7624f7": {
          "model_module": "@jupyter-widgets/controls",
          "model_name": "FloatProgressModel",
          "model_module_version": "1.5.0",
          "state": {
            "_view_name": "ProgressView",
            "style": "IPY_MODEL_7c4f34070c7349579e53765e2687331c",
            "_dom_classes": [],
            "description": "",
            "_model_name": "FloatProgressModel",
            "bar_style": "success",
            "max": 435779157,
            "_view_module": "@jupyter-widgets/controls",
            "_model_module_version": "1.5.0",
            "value": 435779157,
            "_view_count": null,
            "_view_module_version": "1.5.0",
            "orientation": "horizontal",
            "min": 0,
            "description_tooltip": null,
            "_model_module": "@jupyter-widgets/controls",
            "layout": "IPY_MODEL_b20d64a567864875b8189144a7718493"
          }
        },
        "4aae591b99c44c1e8c5176ea3f9d7d28": {
          "model_module": "@jupyter-widgets/controls",
          "model_name": "HTMLModel",
          "model_module_version": "1.5.0",
          "state": {
            "_view_name": "HTMLView",
            "style": "IPY_MODEL_b7ecab6b138c4c01b96717e1916c8ec5",
            "_dom_classes": [],
            "description": "",
            "_model_name": "HTMLModel",
            "placeholder": "​",
            "_view_module": "@jupyter-widgets/controls",
            "_model_module_version": "1.5.0",
            "value": " 416M/416M [00:09&lt;00:00, 50.5MB/s]",
            "_view_count": null,
            "_view_module_version": "1.5.0",
            "description_tooltip": null,
            "_model_module": "@jupyter-widgets/controls",
            "layout": "IPY_MODEL_c34a6d33de4d48b4bed65fba1caf5245"
          }
        },
        "6eda88dc61d4456db88a25f2041e5cd2": {
          "model_module": "@jupyter-widgets/controls",
          "model_name": "DescriptionStyleModel",
          "model_module_version": "1.5.0",
          "state": {
            "_view_name": "StyleView",
            "_model_name": "DescriptionStyleModel",
            "description_width": "",
            "_view_module": "@jupyter-widgets/base",
            "_model_module_version": "1.5.0",
            "_view_count": null,
            "_view_module_version": "1.2.0",
            "_model_module": "@jupyter-widgets/controls"
          }
        },
        "1b86a2abb7054ab48a7e25c56a26fa94": {
          "model_module": "@jupyter-widgets/base",
          "model_name": "LayoutModel",
          "model_module_version": "1.2.0",
          "state": {
            "_view_name": "LayoutView",
            "grid_template_rows": null,
            "right": null,
            "justify_content": null,
            "_view_module": "@jupyter-widgets/base",
            "overflow": null,
            "_model_module_version": "1.2.0",
            "_view_count": null,
            "flex_flow": null,
            "width": null,
            "min_width": null,
            "border": null,
            "align_items": null,
            "bottom": null,
            "_model_module": "@jupyter-widgets/base",
            "top": null,
            "grid_column": null,
            "overflow_y": null,
            "overflow_x": null,
            "grid_auto_flow": null,
            "grid_area": null,
            "grid_template_columns": null,
            "flex": null,
            "_model_name": "LayoutModel",
            "justify_items": null,
            "grid_row": null,
            "max_height": null,
            "align_content": null,
            "visibility": null,
            "align_self": null,
            "height": null,
            "min_height": null,
            "padding": null,
            "grid_auto_rows": null,
            "grid_gap": null,
            "max_width": null,
            "order": null,
            "_view_module_version": "1.2.0",
            "grid_template_areas": null,
            "object_position": null,
            "object_fit": null,
            "grid_auto_columns": null,
            "margin": null,
            "display": null,
            "left": null
          }
        },
        "7c4f34070c7349579e53765e2687331c": {
          "model_module": "@jupyter-widgets/controls",
          "model_name": "ProgressStyleModel",
          "model_module_version": "1.5.0",
          "state": {
            "_view_name": "StyleView",
            "_model_name": "ProgressStyleModel",
            "description_width": "",
            "_view_module": "@jupyter-widgets/base",
            "_model_module_version": "1.5.0",
            "_view_count": null,
            "_view_module_version": "1.2.0",
            "bar_color": null,
            "_model_module": "@jupyter-widgets/controls"
          }
        },
        "b20d64a567864875b8189144a7718493": {
          "model_module": "@jupyter-widgets/base",
          "model_name": "LayoutModel",
          "model_module_version": "1.2.0",
          "state": {
            "_view_name": "LayoutView",
            "grid_template_rows": null,
            "right": null,
            "justify_content": null,
            "_view_module": "@jupyter-widgets/base",
            "overflow": null,
            "_model_module_version": "1.2.0",
            "_view_count": null,
            "flex_flow": null,
            "width": null,
            "min_width": null,
            "border": null,
            "align_items": null,
            "bottom": null,
            "_model_module": "@jupyter-widgets/base",
            "top": null,
            "grid_column": null,
            "overflow_y": null,
            "overflow_x": null,
            "grid_auto_flow": null,
            "grid_area": null,
            "grid_template_columns": null,
            "flex": null,
            "_model_name": "LayoutModel",
            "justify_items": null,
            "grid_row": null,
            "max_height": null,
            "align_content": null,
            "visibility": null,
            "align_self": null,
            "height": null,
            "min_height": null,
            "padding": null,
            "grid_auto_rows": null,
            "grid_gap": null,
            "max_width": null,
            "order": null,
            "_view_module_version": "1.2.0",
            "grid_template_areas": null,
            "object_position": null,
            "object_fit": null,
            "grid_auto_columns": null,
            "margin": null,
            "display": null,
            "left": null
          }
        },
        "b7ecab6b138c4c01b96717e1916c8ec5": {
          "model_module": "@jupyter-widgets/controls",
          "model_name": "DescriptionStyleModel",
          "model_module_version": "1.5.0",
          "state": {
            "_view_name": "StyleView",
            "_model_name": "DescriptionStyleModel",
            "description_width": "",
            "_view_module": "@jupyter-widgets/base",
            "_model_module_version": "1.5.0",
            "_view_count": null,
            "_view_module_version": "1.2.0",
            "_model_module": "@jupyter-widgets/controls"
          }
        },
        "c34a6d33de4d48b4bed65fba1caf5245": {
          "model_module": "@jupyter-widgets/base",
          "model_name": "LayoutModel",
          "model_module_version": "1.2.0",
          "state": {
            "_view_name": "LayoutView",
            "grid_template_rows": null,
            "right": null,
            "justify_content": null,
            "_view_module": "@jupyter-widgets/base",
            "overflow": null,
            "_model_module_version": "1.2.0",
            "_view_count": null,
            "flex_flow": null,
            "width": null,
            "min_width": null,
            "border": null,
            "align_items": null,
            "bottom": null,
            "_model_module": "@jupyter-widgets/base",
            "top": null,
            "grid_column": null,
            "overflow_y": null,
            "overflow_x": null,
            "grid_auto_flow": null,
            "grid_area": null,
            "grid_template_columns": null,
            "flex": null,
            "_model_name": "LayoutModel",
            "justify_items": null,
            "grid_row": null,
            "max_height": null,
            "align_content": null,
            "visibility": null,
            "align_self": null,
            "height": null,
            "min_height": null,
            "padding": null,
            "grid_auto_rows": null,
            "grid_gap": null,
            "max_width": null,
            "order": null,
            "_view_module_version": "1.2.0",
            "grid_template_areas": null,
            "object_position": null,
            "object_fit": null,
            "grid_auto_columns": null,
            "margin": null,
            "display": null,
            "left": null
          }
        },
        "225b2a1d46514844926bf611e8e1d8a0": {
          "model_module": "@jupyter-widgets/controls",
          "model_name": "HBoxModel",
          "model_module_version": "1.5.0",
          "state": {
            "_view_name": "HBoxView",
            "_dom_classes": [],
            "_model_name": "HBoxModel",
            "_view_module": "@jupyter-widgets/controls",
            "_model_module_version": "1.5.0",
            "_view_count": null,
            "_view_module_version": "1.5.0",
            "box_style": "",
            "layout": "IPY_MODEL_6386df0c86c448b3a1737977e5085fdf",
            "_model_module": "@jupyter-widgets/controls",
            "children": [
              "IPY_MODEL_04e66aae56a64e659cb951f63b316dc2",
              "IPY_MODEL_789501d8c78a4f578a3de953e31cd9e1",
              "IPY_MODEL_096ac6eb1eef4b88a4e82f6499a50718"
            ]
          }
        },
        "6386df0c86c448b3a1737977e5085fdf": {
          "model_module": "@jupyter-widgets/base",
          "model_name": "LayoutModel",
          "model_module_version": "1.2.0",
          "state": {
            "_view_name": "LayoutView",
            "grid_template_rows": null,
            "right": null,
            "justify_content": null,
            "_view_module": "@jupyter-widgets/base",
            "overflow": null,
            "_model_module_version": "1.2.0",
            "_view_count": null,
            "flex_flow": null,
            "width": null,
            "min_width": null,
            "border": null,
            "align_items": null,
            "bottom": null,
            "_model_module": "@jupyter-widgets/base",
            "top": null,
            "grid_column": null,
            "overflow_y": null,
            "overflow_x": null,
            "grid_auto_flow": null,
            "grid_area": null,
            "grid_template_columns": null,
            "flex": null,
            "_model_name": "LayoutModel",
            "justify_items": null,
            "grid_row": null,
            "max_height": null,
            "align_content": null,
            "visibility": null,
            "align_self": null,
            "height": null,
            "min_height": null,
            "padding": null,
            "grid_auto_rows": null,
            "grid_gap": null,
            "max_width": null,
            "order": null,
            "_view_module_version": "1.2.0",
            "grid_template_areas": null,
            "object_position": null,
            "object_fit": null,
            "grid_auto_columns": null,
            "margin": null,
            "display": null,
            "left": null
          }
        },
        "04e66aae56a64e659cb951f63b316dc2": {
          "model_module": "@jupyter-widgets/controls",
          "model_name": "HTMLModel",
          "model_module_version": "1.5.0",
          "state": {
            "_view_name": "HTMLView",
            "style": "IPY_MODEL_e3cba78c23684886b03e01af46960765",
            "_dom_classes": [],
            "description": "",
            "_model_name": "HTMLModel",
            "placeholder": "​",
            "_view_module": "@jupyter-widgets/controls",
            "_model_module_version": "1.5.0",
            "value": "100%",
            "_view_count": null,
            "_view_module_version": "1.5.0",
            "description_tooltip": null,
            "_model_module": "@jupyter-widgets/controls",
            "layout": "IPY_MODEL_e0f03398aefa4252adab7964e34cd973"
          }
        },
        "789501d8c78a4f578a3de953e31cd9e1": {
          "model_module": "@jupyter-widgets/controls",
          "model_name": "FloatProgressModel",
          "model_module_version": "1.5.0",
          "state": {
            "_view_name": "ProgressView",
            "style": "IPY_MODEL_d445a1ffc9f944bea30057747b6c4cb4",
            "_dom_classes": [],
            "description": "",
            "_model_name": "FloatProgressModel",
            "bar_style": "success",
            "max": 3,
            "_view_module": "@jupyter-widgets/controls",
            "_model_module_version": "1.5.0",
            "value": 3,
            "_view_count": null,
            "_view_module_version": "1.5.0",
            "orientation": "horizontal",
            "min": 0,
            "description_tooltip": null,
            "_model_module": "@jupyter-widgets/controls",
            "layout": "IPY_MODEL_06e685e264fb408a96d9c7563be94bb8"
          }
        },
        "096ac6eb1eef4b88a4e82f6499a50718": {
          "model_module": "@jupyter-widgets/controls",
          "model_name": "HTMLModel",
          "model_module_version": "1.5.0",
          "state": {
            "_view_name": "HTMLView",
            "style": "IPY_MODEL_cd0974bc59364679a99e48d2a8a9ade5",
            "_dom_classes": [],
            "description": "",
            "_model_name": "HTMLModel",
            "placeholder": "​",
            "_view_module": "@jupyter-widgets/controls",
            "_model_module_version": "1.5.0",
            "value": " 3/3 [00:00&lt;00:00, 19.92it/s]",
            "_view_count": null,
            "_view_module_version": "1.5.0",
            "description_tooltip": null,
            "_model_module": "@jupyter-widgets/controls",
            "layout": "IPY_MODEL_4ac8d2d7c223420a8d184caf3971ea81"
          }
        },
        "e3cba78c23684886b03e01af46960765": {
          "model_module": "@jupyter-widgets/controls",
          "model_name": "DescriptionStyleModel",
          "model_module_version": "1.5.0",
          "state": {
            "_view_name": "StyleView",
            "_model_name": "DescriptionStyleModel",
            "description_width": "",
            "_view_module": "@jupyter-widgets/base",
            "_model_module_version": "1.5.0",
            "_view_count": null,
            "_view_module_version": "1.2.0",
            "_model_module": "@jupyter-widgets/controls"
          }
        },
        "e0f03398aefa4252adab7964e34cd973": {
          "model_module": "@jupyter-widgets/base",
          "model_name": "LayoutModel",
          "model_module_version": "1.2.0",
          "state": {
            "_view_name": "LayoutView",
            "grid_template_rows": null,
            "right": null,
            "justify_content": null,
            "_view_module": "@jupyter-widgets/base",
            "overflow": null,
            "_model_module_version": "1.2.0",
            "_view_count": null,
            "flex_flow": null,
            "width": null,
            "min_width": null,
            "border": null,
            "align_items": null,
            "bottom": null,
            "_model_module": "@jupyter-widgets/base",
            "top": null,
            "grid_column": null,
            "overflow_y": null,
            "overflow_x": null,
            "grid_auto_flow": null,
            "grid_area": null,
            "grid_template_columns": null,
            "flex": null,
            "_model_name": "LayoutModel",
            "justify_items": null,
            "grid_row": null,
            "max_height": null,
            "align_content": null,
            "visibility": null,
            "align_self": null,
            "height": null,
            "min_height": null,
            "padding": null,
            "grid_auto_rows": null,
            "grid_gap": null,
            "max_width": null,
            "order": null,
            "_view_module_version": "1.2.0",
            "grid_template_areas": null,
            "object_position": null,
            "object_fit": null,
            "grid_auto_columns": null,
            "margin": null,
            "display": null,
            "left": null
          }
        },
        "d445a1ffc9f944bea30057747b6c4cb4": {
          "model_module": "@jupyter-widgets/controls",
          "model_name": "ProgressStyleModel",
          "model_module_version": "1.5.0",
          "state": {
            "_view_name": "StyleView",
            "_model_name": "ProgressStyleModel",
            "description_width": "",
            "_view_module": "@jupyter-widgets/base",
            "_model_module_version": "1.5.0",
            "_view_count": null,
            "_view_module_version": "1.2.0",
            "bar_color": null,
            "_model_module": "@jupyter-widgets/controls"
          }
        },
        "06e685e264fb408a96d9c7563be94bb8": {
          "model_module": "@jupyter-widgets/base",
          "model_name": "LayoutModel",
          "model_module_version": "1.2.0",
          "state": {
            "_view_name": "LayoutView",
            "grid_template_rows": null,
            "right": null,
            "justify_content": null,
            "_view_module": "@jupyter-widgets/base",
            "overflow": null,
            "_model_module_version": "1.2.0",
            "_view_count": null,
            "flex_flow": null,
            "width": null,
            "min_width": null,
            "border": null,
            "align_items": null,
            "bottom": null,
            "_model_module": "@jupyter-widgets/base",
            "top": null,
            "grid_column": null,
            "overflow_y": null,
            "overflow_x": null,
            "grid_auto_flow": null,
            "grid_area": null,
            "grid_template_columns": null,
            "flex": null,
            "_model_name": "LayoutModel",
            "justify_items": null,
            "grid_row": null,
            "max_height": null,
            "align_content": null,
            "visibility": null,
            "align_self": null,
            "height": null,
            "min_height": null,
            "padding": null,
            "grid_auto_rows": null,
            "grid_gap": null,
            "max_width": null,
            "order": null,
            "_view_module_version": "1.2.0",
            "grid_template_areas": null,
            "object_position": null,
            "object_fit": null,
            "grid_auto_columns": null,
            "margin": null,
            "display": null,
            "left": null
          }
        },
        "cd0974bc59364679a99e48d2a8a9ade5": {
          "model_module": "@jupyter-widgets/controls",
          "model_name": "DescriptionStyleModel",
          "model_module_version": "1.5.0",
          "state": {
            "_view_name": "StyleView",
            "_model_name": "DescriptionStyleModel",
            "description_width": "",
            "_view_module": "@jupyter-widgets/base",
            "_model_module_version": "1.5.0",
            "_view_count": null,
            "_view_module_version": "1.2.0",
            "_model_module": "@jupyter-widgets/controls"
          }
        },
        "4ac8d2d7c223420a8d184caf3971ea81": {
          "model_module": "@jupyter-widgets/base",
          "model_name": "LayoutModel",
          "model_module_version": "1.2.0",
          "state": {
            "_view_name": "LayoutView",
            "grid_template_rows": null,
            "right": null,
            "justify_content": null,
            "_view_module": "@jupyter-widgets/base",
            "overflow": null,
            "_model_module_version": "1.2.0",
            "_view_count": null,
            "flex_flow": null,
            "width": null,
            "min_width": null,
            "border": null,
            "align_items": null,
            "bottom": null,
            "_model_module": "@jupyter-widgets/base",
            "top": null,
            "grid_column": null,
            "overflow_y": null,
            "overflow_x": null,
            "grid_auto_flow": null,
            "grid_area": null,
            "grid_template_columns": null,
            "flex": null,
            "_model_name": "LayoutModel",
            "justify_items": null,
            "grid_row": null,
            "max_height": null,
            "align_content": null,
            "visibility": null,
            "align_self": null,
            "height": null,
            "min_height": null,
            "padding": null,
            "grid_auto_rows": null,
            "grid_gap": null,
            "max_width": null,
            "order": null,
            "_view_module_version": "1.2.0",
            "grid_template_areas": null,
            "object_position": null,
            "object_fit": null,
            "grid_auto_columns": null,
            "margin": null,
            "display": null,
            "left": null
          }
        }
      }
    }
  },
  "cells": [
    {
      "cell_type": "markdown",
      "metadata": {
        "id": "PGnlRWvkY-2c"
      },
      "source": [
        "# Использование BERT для задачи классификации последовательности\n",
        "\n"
      ]
    },
    {
      "cell_type": "markdown",
      "metadata": {
        "id": "-S077NiGIrid"
      },
      "source": [
        "\n",
        "[Исходный туториал](https://curiousily.com/posts/sentiment-analysis-with-bert-and-hugging-face-using-pytorch-and-python/) + материалы курса Кати Артемовой  на ФКН\n",
        "\n",
        "**Важные ссылки про BERT**\n",
        "\n",
        "[Devlin et al 2019](https://arxiv.org/pdf/1810.04805.pdf) - BERT: Pre-training of Deep Bidirectional Transformers for Language Understanding - статья, презентующая BERT\n",
        "\n",
        "[Vaswani et al 2017](https://papers.nips.cc/paper/2017/file/3f5ee243547dee91fbd053c1c4a845aa-Paper.pdf) - Attention is all you need - статья, презентующая трансформеры\n",
        "\n",
        "[Illustrated Transformer](http://jalammar.github.io/illustrated-transformer/) by Jay Allamar - архитектура трансформера в картингах и гифках\n",
        "\n",
        "[Annotated Transformer](https://nlp.seas.harvard.edu/2018/04/03/attention.html) by harvardnlp -код трансформера на торче, реализующий статью по абзацам\n",
        "\n",
        "[Transformers](https://huggingface.co/transformers/) by hugging face -  главная open source библиотека, откуда можно брать предобученные бертоподобные модели\n"
      ]
    },
    {
      "cell_type": "markdown",
      "metadata": {
        "id": "tdEVgoes6Nc0"
      },
      "source": [
        "Сегодня посмотрим, как можно использовать BERT (или любую другую подобную модель) с помощью библиотеки Transformers.\n",
        "\n",
        "Общий пайплайн:\n",
        "BERT используется как начальный блок модели и считает контекстные вектора для слов.\n",
        "Поверх этого блока мы добавляем \"голову\" модели, ее архитектура зависит от задачи.\n",
        "Веса BERT предобучены, но мы проводим дообучение (fine-tuning) на целевой задаче.\n",
        "\n",
        "\n"
      ]
    },
    {
      "cell_type": "markdown",
      "metadata": {
        "id": "i0hpp2ZX8YkG"
      },
      "source": [
        "![image.png](data:image/png;base64,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)"
      ]
    },
    {
      "cell_type": "markdown",
      "metadata": {
        "id": "2xs_m3fW8Ux3"
      },
      "source": [
        "Наша сегодняшняя задача - классификация отзывов.\n",
        "Данные - отзывы на приложения в Google Play, классы:  negative (1,2), neutral (3), positive (4,5) "
      ]
    },
    {
      "cell_type": "markdown",
      "metadata": {
        "id": "ufzPdoTtNikq"
      },
      "source": [
        "## Загрузка данных"
      ]
    },
    {
      "cell_type": "markdown",
      "metadata": {
        "id": "xnMnfH86v9OZ"
      },
      "source": [
        "Мы будем использовать библиотеку [Transformers](https://huggingface.co/transformers/) от Hugging Face "
      ]
    },
    {
      "cell_type": "code",
      "metadata": {
        "id": "Kj_7Tz0-pK69",
        "colab": {
          "base_uri": "https://localhost:8080/"
        },
        "outputId": "bd1c30ab-b229-4df8-a183-ef94b176cf44"
      },
      "source": [
        "!pip install -q -U watermark"
      ],
      "execution_count": null,
      "outputs": [
        {
          "output_type": "stream",
          "name": "stdout",
          "text": [
            "\u001b[31mERROR: pip's dependency resolver does not currently take into account all the packages that are installed. This behaviour is the source of the following dependency conflicts.\n",
            "markdown 3.3.6 requires importlib-metadata>=4.4; python_version < \"3.10\", but you have importlib-metadata 2.1.3 which is incompatible.\u001b[0m\n"
          ]
        }
      ]
    },
    {
      "cell_type": "code",
      "metadata": {
        "id": "Jjsbi1u3QFEM",
        "colab": {
          "base_uri": "https://localhost:8080/"
        },
        "outputId": "6dadf473-78c8-4f90-a89b-264163b484fd"
      },
      "source": [
        "!pip install transformers"
      ],
      "execution_count": null,
      "outputs": [
        {
          "output_type": "stream",
          "name": "stdout",
          "text": [
            "Collecting transformers\n",
            "  Downloading transformers-4.16.2-py3-none-any.whl (3.5 MB)\n",
            "\u001b[K     |████████████████████████████████| 3.5 MB 5.0 MB/s \n",
            "\u001b[?25hCollecting pyyaml>=5.1\n",
            "  Downloading PyYAML-6.0-cp37-cp37m-manylinux_2_5_x86_64.manylinux1_x86_64.manylinux_2_12_x86_64.manylinux2010_x86_64.whl (596 kB)\n",
            "\u001b[K     |████████████████████████████████| 596 kB 50.0 MB/s \n",
            "\u001b[?25hRequirement already satisfied: filelock in /usr/local/lib/python3.7/dist-packages (from transformers) (3.6.0)\n",
            "Requirement already satisfied: importlib-metadata in /usr/local/lib/python3.7/dist-packages (from transformers) (2.1.3)\n",
            "Requirement already satisfied: requests in /usr/local/lib/python3.7/dist-packages (from transformers) (2.23.0)\n",
            "Collecting tokenizers!=0.11.3,>=0.10.1\n",
            "  Downloading tokenizers-0.11.6-cp37-cp37m-manylinux_2_12_x86_64.manylinux2010_x86_64.whl (6.5 MB)\n",
            "\u001b[K     |████████████████████████████████| 6.5 MB 42.2 MB/s \n",
            "\u001b[?25hRequirement already satisfied: regex!=2019.12.17 in /usr/local/lib/python3.7/dist-packages (from transformers) (2019.12.20)\n",
            "Collecting huggingface-hub<1.0,>=0.1.0\n",
            "  Downloading huggingface_hub-0.4.0-py3-none-any.whl (67 kB)\n",
            "\u001b[K     |████████████████████████████████| 67 kB 3.9 MB/s \n",
            "\u001b[?25hRequirement already satisfied: tqdm>=4.27 in /usr/local/lib/python3.7/dist-packages (from transformers) (4.62.3)\n",
            "Requirement already satisfied: numpy>=1.17 in /usr/local/lib/python3.7/dist-packages (from transformers) (1.21.5)\n",
            "Collecting sacremoses\n",
            "  Downloading sacremoses-0.0.47-py2.py3-none-any.whl (895 kB)\n",
            "\u001b[K     |████████████████████████████████| 895 kB 64.7 MB/s \n",
            "\u001b[?25hRequirement already satisfied: packaging>=20.0 in /usr/local/lib/python3.7/dist-packages (from transformers) (21.3)\n",
            "Requirement already satisfied: typing-extensions>=3.7.4.3 in /usr/local/lib/python3.7/dist-packages (from huggingface-hub<1.0,>=0.1.0->transformers) (3.10.0.2)\n",
            "Requirement already satisfied: pyparsing!=3.0.5,>=2.0.2 in /usr/local/lib/python3.7/dist-packages (from packaging>=20.0->transformers) (3.0.7)\n",
            "Requirement already satisfied: zipp>=0.5 in /usr/local/lib/python3.7/dist-packages (from importlib-metadata->transformers) (3.7.0)\n",
            "Requirement already satisfied: urllib3!=1.25.0,!=1.25.1,<1.26,>=1.21.1 in /usr/local/lib/python3.7/dist-packages (from requests->transformers) (1.24.3)\n",
            "Requirement already satisfied: idna<3,>=2.5 in /usr/local/lib/python3.7/dist-packages (from requests->transformers) (2.10)\n",
            "Requirement already satisfied: chardet<4,>=3.0.2 in /usr/local/lib/python3.7/dist-packages (from requests->transformers) (3.0.4)\n",
            "Requirement already satisfied: certifi>=2017.4.17 in /usr/local/lib/python3.7/dist-packages (from requests->transformers) (2021.10.8)\n",
            "Requirement already satisfied: six in /usr/local/lib/python3.7/dist-packages (from sacremoses->transformers) (1.15.0)\n",
            "Requirement already satisfied: click in /usr/local/lib/python3.7/dist-packages (from sacremoses->transformers) (7.1.2)\n",
            "Requirement already satisfied: joblib in /usr/local/lib/python3.7/dist-packages (from sacremoses->transformers) (1.1.0)\n",
            "Installing collected packages: pyyaml, tokenizers, sacremoses, huggingface-hub, transformers\n",
            "  Attempting uninstall: pyyaml\n",
            "    Found existing installation: PyYAML 3.13\n",
            "    Uninstalling PyYAML-3.13:\n",
            "      Successfully uninstalled PyYAML-3.13\n",
            "Successfully installed huggingface-hub-0.4.0 pyyaml-6.0 sacremoses-0.0.47 tokenizers-0.11.6 transformers-4.16.2\n"
          ]
        }
      ]
    },
    {
      "cell_type": "code",
      "metadata": {
        "id": "AJqoaFpVpoM8",
        "colab": {
          "base_uri": "https://localhost:8080/"
        },
        "outputId": "bf2bad8d-4e51-4fd5-f693-56f4889bde13"
      },
      "source": [
        "%reload_ext watermark\n",
        "%watermark -v -p numpy,pandas,torch,transformers"
      ],
      "execution_count": null,
      "outputs": [
        {
          "output_type": "stream",
          "name": "stdout",
          "text": [
            "Python implementation: CPython\n",
            "Python version       : 3.7.12\n",
            "IPython version      : 5.5.0\n",
            "\n",
            "numpy       : 1.21.5\n",
            "pandas      : 1.3.5\n",
            "torch       : 1.10.0+cu111\n",
            "transformers: 4.16.2\n",
            "\n"
          ]
        }
      ]
    },
    {
      "cell_type": "markdown",
      "metadata": {
        "id": "jcsWUODBwScb"
      },
      "source": [
        "Загрузим набор данных, который мы будем использовать для обучения и тестирования модели -- отзывы на приложения в Google Play.\n"
      ]
    },
    {
      "cell_type": "code",
      "metadata": {
        "id": "SgPRhuMzi9ot",
        "colab": {
          "base_uri": "https://localhost:8080/"
        },
        "outputId": "c65168aa-ab2f-48b4-8d91-3c6a89f2d88d"
      },
      "source": [
        "!gdown --id 1S6qMioqPJjyBLpLVz4gmRTnJHnjitnuV\n",
        "!gdown --id 1zdmewp7ayS4js4VtrJEHzAheSW-5NBZv"
      ],
      "execution_count": null,
      "outputs": [
        {
          "output_type": "stream",
          "name": "stdout",
          "text": [
            "Downloading...\n",
            "From: https://drive.google.com/uc?id=1S6qMioqPJjyBLpLVz4gmRTnJHnjitnuV\n",
            "To: /content/apps.csv\n",
            "100% 134k/134k [00:00<00:00, 79.5MB/s]\n",
            "Downloading...\n",
            "From: https://drive.google.com/uc?id=1zdmewp7ayS4js4VtrJEHzAheSW-5NBZv\n",
            "To: /content/reviews.csv\n",
            "100% 7.17M/7.17M [00:00<00:00, 163MB/s]\n"
          ]
        }
      ]
    },
    {
      "cell_type": "code",
      "metadata": {
        "id": "Z1jvVHb6CaW-"
      },
      "source": [
        "import transformers\n",
        "from transformers import BertModel, AutoTokenizer, BertTokenizer, PreTrainedTokenizerFast, AdamW, get_linear_schedule_with_warmup\n",
        "import torch.nn.functional as F\n",
        "\n",
        "import torch\n",
        "import numpy as np\n",
        "import pandas as pd\n",
        "import seaborn as sns\n",
        "from pylab import rcParams\n",
        "import matplotlib.pyplot as plt\n",
        "from matplotlib import rc\n",
        "from sklearn.model_selection import train_test_split\n",
        "from sklearn.metrics import confusion_matrix, classification_report\n",
        "from collections import defaultdict\n",
        "from textwrap import wrap\n",
        "from torch import nn, optim\n",
        "from torch.nn.utils import clip_grad_norm_\n",
        "from torch.utils.data import Dataset, DataLoader\n"
      ],
      "execution_count": null,
      "outputs": []
    },
    {
      "cell_type": "code",
      "metadata": {
        "id": "co9bB2BPWiA6"
      },
      "source": [
        "%matplotlib inline\n",
        "%config InlineBackend.figure_format='retina'\n",
        "sns.set(style='whitegrid', palette='muted', font_scale=1.2)\n",
        "HAPPY_COLORS_PALETTE = [\"#01BEFE\", \"#FFDD00\", \"#FF7D00\", \"#FF006D\", \"#ADFF02\", \"#8F00FF\"]\n",
        "sns.set_palette(sns.color_palette(HAPPY_COLORS_PALETTE))\n",
        "rcParams['figure.figsize'] = 8, 6"
      ],
      "execution_count": null,
      "outputs": []
    },
    {
      "cell_type": "code",
      "metadata": {
        "id": "mUKLyKc7I6Qp"
      },
      "source": [
        "df = pd.read_csv(\"reviews.csv\")"
      ],
      "execution_count": null,
      "outputs": []
    },
    {
      "cell_type": "code",
      "metadata": {
        "id": "dB2jE6am7Dpo",
        "colab": {
          "base_uri": "https://localhost:8080/"
        },
        "outputId": "f0209fb1-b546-412d-bd9d-23184d4d4fe6"
      },
      "source": [
        "df.shape"
      ],
      "execution_count": null,
      "outputs": [
        {
          "output_type": "execute_result",
          "data": {
            "text/plain": [
              "(15746, 11)"
            ]
          },
          "metadata": {},
          "execution_count": 8
        }
      ]
    },
    {
      "cell_type": "code",
      "metadata": {
        "id": "VA_wGSLQLKCh",
        "colab": {
          "base_uri": "https://localhost:8080/"
        },
        "outputId": "5ba07f29-3a21-46f5-d22b-872b88a78ec6"
      },
      "source": [
        "df.info()"
      ],
      "execution_count": null,
      "outputs": [
        {
          "output_type": "stream",
          "name": "stdout",
          "text": [
            "<class 'pandas.core.frame.DataFrame'>\n",
            "RangeIndex: 15746 entries, 0 to 15745\n",
            "Data columns (total 11 columns):\n",
            " #   Column                Non-Null Count  Dtype \n",
            "---  ------                --------------  ----- \n",
            " 0   userName              15746 non-null  object\n",
            " 1   userImage             15746 non-null  object\n",
            " 2   content               15746 non-null  object\n",
            " 3   score                 15746 non-null  int64 \n",
            " 4   thumbsUpCount         15746 non-null  int64 \n",
            " 5   reviewCreatedVersion  13533 non-null  object\n",
            " 6   at                    15746 non-null  object\n",
            " 7   replyContent          7367 non-null   object\n",
            " 8   repliedAt             7367 non-null   object\n",
            " 9   sortOrder             15746 non-null  object\n",
            " 10  appId                 15746 non-null  object\n",
            "dtypes: int64(2), object(9)\n",
            "memory usage: 1.3+ MB\n"
          ]
        }
      ]
    },
    {
      "cell_type": "code",
      "source": [
        "from google.colab import data_table\n",
        "data_table.disable_dataframe_formatter()"
      ],
      "metadata": {
        "id": "I6M1dS5AiMuY"
      },
      "execution_count": null,
      "outputs": []
    },
    {
      "cell_type": "code",
      "metadata": {
        "id": "r8oY_X-euY6e",
        "colab": {
          "base_uri": "https://localhost:8080/",
          "height": 686
        },
        "outputId": "65d20492-3fcf-470e-b918-d66f73314c89"
      },
      "source": [
        "df.head()"
      ],
      "execution_count": null,
      "outputs": [
        {
          "output_type": "execute_result",
          "data": {
            "text/html": [
              "\n",
              "  <div id=\"df-998ae532-b474-4960-99eb-d9a57e812819\">\n",
              "    <div class=\"colab-df-container\">\n",
              "      <div>\n",
              "<style scoped>\n",
              "    .dataframe tbody tr th:only-of-type {\n",
              "        vertical-align: middle;\n",
              "    }\n",
              "\n",
              "    .dataframe tbody tr th {\n",
              "        vertical-align: top;\n",
              "    }\n",
              "\n",
              "    .dataframe thead th {\n",
              "        text-align: right;\n",
              "    }\n",
              "</style>\n",
              "<table border=\"1\" class=\"dataframe\">\n",
              "  <thead>\n",
              "    <tr style=\"text-align: right;\">\n",
              "      <th></th>\n",
              "      <th>userName</th>\n",
              "      <th>userImage</th>\n",
              "      <th>content</th>\n",
              "      <th>score</th>\n",
              "      <th>thumbsUpCount</th>\n",
              "      <th>reviewCreatedVersion</th>\n",
              "      <th>at</th>\n",
              "      <th>replyContent</th>\n",
              "      <th>repliedAt</th>\n",
              "      <th>sortOrder</th>\n",
              "      <th>appId</th>\n",
              "    </tr>\n",
              "  </thead>\n",
              "  <tbody>\n",
              "    <tr>\n",
              "      <th>0</th>\n",
              "      <td>Andrew Thomas</td>\n",
              "      <td>https://lh3.googleusercontent.com/a-/AOh14GiHd...</td>\n",
              "      <td>Update: After getting a response from the deve...</td>\n",
              "      <td>1</td>\n",
              "      <td>21</td>\n",
              "      <td>4.17.0.3</td>\n",
              "      <td>2020-04-05 22:25:57</td>\n",
              "      <td>According to our TOS, and the term you have ag...</td>\n",
              "      <td>2020-04-05 15:10:24</td>\n",
              "      <td>most_relevant</td>\n",
              "      <td>com.anydo</td>\n",
              "    </tr>\n",
              "    <tr>\n",
              "      <th>1</th>\n",
              "      <td>Craig Haines</td>\n",
              "      <td>https://lh3.googleusercontent.com/-hoe0kwSJgPQ...</td>\n",
              "      <td>Used it for a fair amount of time without any ...</td>\n",
              "      <td>1</td>\n",
              "      <td>11</td>\n",
              "      <td>4.17.0.3</td>\n",
              "      <td>2020-04-04 13:40:01</td>\n",
              "      <td>It sounds like you logged in with a different ...</td>\n",
              "      <td>2020-04-05 15:11:35</td>\n",
              "      <td>most_relevant</td>\n",
              "      <td>com.anydo</td>\n",
              "    </tr>\n",
              "    <tr>\n",
              "      <th>2</th>\n",
              "      <td>steven adkins</td>\n",
              "      <td>https://lh3.googleusercontent.com/a-/AOh14GiXw...</td>\n",
              "      <td>Your app sucks now!!!!! Used to be good but no...</td>\n",
              "      <td>1</td>\n",
              "      <td>17</td>\n",
              "      <td>4.17.0.3</td>\n",
              "      <td>2020-04-01 16:18:13</td>\n",
              "      <td>This sounds odd! We are not aware of any issue...</td>\n",
              "      <td>2020-04-02 16:05:56</td>\n",
              "      <td>most_relevant</td>\n",
              "      <td>com.anydo</td>\n",
              "    </tr>\n",
              "    <tr>\n",
              "      <th>3</th>\n",
              "      <td>Lars Panzerbjørn</td>\n",
              "      <td>https://lh3.googleusercontent.com/a-/AOh14Gg-h...</td>\n",
              "      <td>It seems OK, but very basic. Recurring tasks n...</td>\n",
              "      <td>1</td>\n",
              "      <td>192</td>\n",
              "      <td>4.17.0.2</td>\n",
              "      <td>2020-03-12 08:17:34</td>\n",
              "      <td>We do offer this option as part of the Advance...</td>\n",
              "      <td>2020-03-15 06:20:13</td>\n",
              "      <td>most_relevant</td>\n",
              "      <td>com.anydo</td>\n",
              "    </tr>\n",
              "    <tr>\n",
              "      <th>4</th>\n",
              "      <td>Scott Prewitt</td>\n",
              "      <td>https://lh3.googleusercontent.com/-K-X1-YsVd6U...</td>\n",
              "      <td>Absolutely worthless. This app runs a prohibit...</td>\n",
              "      <td>1</td>\n",
              "      <td>42</td>\n",
              "      <td>4.17.0.2</td>\n",
              "      <td>2020-03-14 17:41:01</td>\n",
              "      <td>We're sorry you feel this way! 90% of the app ...</td>\n",
              "      <td>2020-03-15 23:45:51</td>\n",
              "      <td>most_relevant</td>\n",
              "      <td>com.anydo</td>\n",
              "    </tr>\n",
              "  </tbody>\n",
              "</table>\n",
              "</div>\n",
              "      <button class=\"colab-df-convert\" onclick=\"convertToInteractive('df-998ae532-b474-4960-99eb-d9a57e812819')\"\n",
              "              title=\"Convert this dataframe to an interactive table.\"\n",
              "              style=\"display:none;\">\n",
              "        \n",
              "  <svg xmlns=\"http://www.w3.org/2000/svg\" height=\"24px\"viewBox=\"0 0 24 24\"\n",
              "       width=\"24px\">\n",
              "    <path d=\"M0 0h24v24H0V0z\" fill=\"none\"/>\n",
              "    <path d=\"M18.56 5.44l.94 2.06.94-2.06 2.06-.94-2.06-.94-.94-2.06-.94 2.06-2.06.94zm-11 1L8.5 8.5l.94-2.06 2.06-.94-2.06-.94L8.5 2.5l-.94 2.06-2.06.94zm10 10l.94 2.06.94-2.06 2.06-.94-2.06-.94-.94-2.06-.94 2.06-2.06.94z\"/><path d=\"M17.41 7.96l-1.37-1.37c-.4-.4-.92-.59-1.43-.59-.52 0-1.04.2-1.43.59L10.3 9.45l-7.72 7.72c-.78.78-.78 2.05 0 2.83L4 21.41c.39.39.9.59 1.41.59.51 0 1.02-.2 1.41-.59l7.78-7.78 2.81-2.81c.8-.78.8-2.07 0-2.86zM5.41 20L4 18.59l7.72-7.72 1.47 1.35L5.41 20z\"/>\n",
              "  </svg>\n",
              "      </button>\n",
              "      \n",
              "  <style>\n",
              "    .colab-df-container {\n",
              "      display:flex;\n",
              "      flex-wrap:wrap;\n",
              "      gap: 12px;\n",
              "    }\n",
              "\n",
              "    .colab-df-convert {\n",
              "      background-color: #E8F0FE;\n",
              "      border: none;\n",
              "      border-radius: 50%;\n",
              "      cursor: pointer;\n",
              "      display: none;\n",
              "      fill: #1967D2;\n",
              "      height: 32px;\n",
              "      padding: 0 0 0 0;\n",
              "      width: 32px;\n",
              "    }\n",
              "\n",
              "    .colab-df-convert:hover {\n",
              "      background-color: #E2EBFA;\n",
              "      box-shadow: 0px 1px 2px rgba(60, 64, 67, 0.3), 0px 1px 3px 1px rgba(60, 64, 67, 0.15);\n",
              "      fill: #174EA6;\n",
              "    }\n",
              "\n",
              "    [theme=dark] .colab-df-convert {\n",
              "      background-color: #3B4455;\n",
              "      fill: #D2E3FC;\n",
              "    }\n",
              "\n",
              "    [theme=dark] .colab-df-convert:hover {\n",
              "      background-color: #434B5C;\n",
              "      box-shadow: 0px 1px 3px 1px rgba(0, 0, 0, 0.15);\n",
              "      filter: drop-shadow(0px 1px 2px rgba(0, 0, 0, 0.3));\n",
              "      fill: #FFFFFF;\n",
              "    }\n",
              "  </style>\n",
              "\n",
              "      <script>\n",
              "        const buttonEl =\n",
              "          document.querySelector('#df-998ae532-b474-4960-99eb-d9a57e812819 button.colab-df-convert');\n",
              "        buttonEl.style.display =\n",
              "          google.colab.kernel.accessAllowed ? 'block' : 'none';\n",
              "\n",
              "        async function convertToInteractive(key) {\n",
              "          const element = document.querySelector('#df-998ae532-b474-4960-99eb-d9a57e812819');\n",
              "          const dataTable =\n",
              "            await google.colab.kernel.invokeFunction('convertToInteractive',\n",
              "                                                     [key], {});\n",
              "          if (!dataTable) return;\n",
              "\n",
              "          const docLinkHtml = 'Like what you see? Visit the ' +\n",
              "            '<a target=\"_blank\" href=https://colab.research.google.com/notebooks/data_table.ipynb>data table notebook</a>'\n",
              "            + ' to learn more about interactive tables.';\n",
              "          element.innerHTML = '';\n",
              "          dataTable['output_type'] = 'display_data';\n",
              "          await google.colab.output.renderOutput(dataTable, element);\n",
              "          const docLink = document.createElement('div');\n",
              "          docLink.innerHTML = docLinkHtml;\n",
              "          element.appendChild(docLink);\n",
              "        }\n",
              "      </script>\n",
              "    </div>\n",
              "  </div>\n",
              "  "
            ],
            "text/plain": [
              "           userName  ...      appId\n",
              "0     Andrew Thomas  ...  com.anydo\n",
              "1      Craig Haines  ...  com.anydo\n",
              "2     steven adkins  ...  com.anydo\n",
              "3  Lars Panzerbjørn  ...  com.anydo\n",
              "4     Scott Prewitt  ...  com.anydo\n",
              "\n",
              "[5 rows x 11 columns]"
            ]
          },
          "metadata": {},
          "execution_count": 11
        }
      ]
    },
    {
      "cell_type": "markdown",
      "metadata": {
        "id": "mPqoVTjJwpDF"
      },
      "source": [
        "Посмотрим на распределение классов в выборке"
      ]
    },
    {
      "cell_type": "code",
      "metadata": {
        "id": "Wwh_rW4Efhs3",
        "colab": {
          "base_uri": "https://localhost:8080/",
          "height": 455
        },
        "outputId": "98e6d52c-ae04-46be-a660-ecd775cb400d"
      },
      "source": [
        "sns.countplot(df.score)\n",
        "plt.xlabel('review score');"
      ],
      "execution_count": null,
      "outputs": [
        {
          "output_type": "stream",
          "name": "stderr",
          "text": [
            "/usr/local/lib/python3.7/dist-packages/seaborn/_decorators.py:43: FutureWarning: Pass the following variable as a keyword arg: x. From version 0.12, the only valid positional argument will be `data`, and passing other arguments without an explicit keyword will result in an error or misinterpretation.\n",
            "  FutureWarning\n"
          ]
        },
        {
          "output_type": "display_data",
          "data": {
            "image/png": "[encoded data removed]",
            "text/plain": [
              "<Figure size 576x432 with 1 Axes>"
            ]
          },
          "metadata": {
            "image/png": {
              "width": 521,
              "height": 381
            }
          }
        }
      ]
    },
    {
      "cell_type": "markdown",
      "metadata": {
        "id": "vdDtjvRsw9PT"
      },
      "source": [
        "Можно видеть, что данные несбалансированы. \n",
        "Теперь приведем метки классов к другому виду -- разделим их на 3 класса: негативные, нейтральные и позитивные."
      ]
    },
    {
      "cell_type": "code",
      "metadata": {
        "id": "ei0xmdi1Chp0"
      },
      "source": [
        "def to_sentiment(rating):\n",
        "  rating = int(rating)\n",
        "  if rating <= 2:\n",
        "    return 0\n",
        "  elif rating == 3:\n",
        "    return 1\n",
        "  else: \n",
        "    return 2\n",
        "\n",
        "df['sentiment'] = df.score.apply(to_sentiment)"
      ],
      "execution_count": null,
      "outputs": []
    },
    {
      "cell_type": "code",
      "metadata": {
        "id": "V-155O-SFSqE"
      },
      "source": [
        "class_names = ['negative', 'neutral', 'positive']"
      ],
      "execution_count": null,
      "outputs": []
    },
    {
      "cell_type": "code",
      "metadata": {
        "id": "y3tY3ECJDPaz",
        "colab": {
          "base_uri": "https://localhost:8080/",
          "height": 455
        },
        "outputId": "673e929e-d2c1-4796-93ee-da9e31951a68"
      },
      "source": [
        "ax = sns.countplot(df.sentiment)\n",
        "plt.xlabel('review sentiment')\n",
        "ax.set_xticklabels(class_names);"
      ],
      "execution_count": null,
      "outputs": [
        {
          "output_type": "stream",
          "name": "stderr",
          "text": [
            "/usr/local/lib/python3.7/dist-packages/seaborn/_decorators.py:43: FutureWarning: Pass the following variable as a keyword arg: x. From version 0.12, the only valid positional argument will be `data`, and passing other arguments without an explicit keyword will result in an error or misinterpretation.\n",
            "  FutureWarning\n"
          ]
        },
        {
          "output_type": "display_data",
          "data": {
            "image/png": "[encoded data removed]",
            "text/plain": [
              "<Figure size 576x432 with 1 Axes>"
            ]
          },
          "metadata": {
            "image/png": {
              "width": 521,
              "height": 381
            }
          }
        }
      ]
    },
    {
      "cell_type": "markdown",
      "metadata": {
        "id": "ptzUBxnkxPNx"
      },
      "source": [
        "В таком виде классы почти сбалансированы."
      ]
    },
    {
      "cell_type": "markdown",
      "metadata": {
        "id": "9aHyGuTFgyPO"
      },
      "source": [
        "## Предобработка данных\n",
        "\n",
        "Для обучение модели BERT нам нужно обработать исходный текст определенным образом:\n",
        "* Добавить служебные символы для разделения предложений и классификации\n",
        "* Привести все последовательности к единой длине (используя padding)\n",
        "* Создать список (*attention mask*) из 0 и 1, в котором 0 будут соответствовать вспомогательным токенам (padding), а 1 $-$ настоящим.\n",
        "\n"
      ]
    },
    {
      "cell_type": "markdown",
      "metadata": {
        "id": "YYTtCjBw6mcS"
      },
      "source": [
        "Бертоподобных моделей огромное множество, но если они интегрированы в библиотеку Transformers, сменить одну модель на другую очень просто. Вот [здесь](https://huggingface.co/transformers/pretrained_models.html) можно посмотреть, какие модели есть библиотеке. \n",
        "\n",
        "Model id в таблице используются для двух вещей - подгрузки весов в саму модель и подгрузки правильного токенизатора. Вам не нужно самим добавлять спецсимволы и строить индексы словаря, это сделает токенайзер, соотвествующий выбранной модели.\n",
        "Сегодняшний выбор - модель 'bert-base-cased'"
      ]
    },
    {
      "cell_type": "code",
      "metadata": {
        "id": "E7Mj-0ne--5t"
      },
      "source": [
        "PRE_TRAINED_MODEL_NAME = 'bert-base-cased'"
      ],
      "execution_count": null,
      "outputs": []
    },
    {
      "cell_type": "markdown",
      "metadata": {
        "id": "NiLb-ltM-ZRz"
      },
      "source": [
        "Загрузим предобученный [BertTokenizer](https://huggingface.co/transformers/model_doc/bert.html#berttokenizer):"
      ]
    },
    {
      "cell_type": "code",
      "metadata": {
        "id": "H3AfJSZ8NNLF",
        "colab": {
          "base_uri": "https://localhost:8080/",
          "height": 145,
          "referenced_widgets": [
            "f521b4d2ae59406eab63472354801e94",
            "2d93e45c5e6044b381276f5a8fc61f69",
            "7e50612db033455899381dfa39d18e08",
            "a0e4e079bda64fc08fbf9e4aade52d58",
            "b4569479b54d44cf933f7db7c75bf4aa",
            "018aa70fe2c642fc9f8ab67e3058f12f",
            "e6befee7c7a94c6fb56cd005d662a638",
            "6ed184a8563d43c090416d60ad5c3467",
            "51061feb0e4f4e8d88b36d68b80040c4",
            "58031c8d7e604cb59f760ea83859e30e",
            "73b6466e35db497dbbea2896237605ec",
            "a9bc34dfcffc4e0ea29907071ada921d",
            "b757fc632587426f94b97a6c37e1dc91",
            "bca60daa71684821b4eef416eeffc5d2",
            "6a6c83884f5942ce88dd4a3200a9d185",
            "92419b4278d54f2b8daa8103ab66243e",
            "b8350ae5a2f64b6cacefc637d9857111",
            "8597ae34cb7d418f83632b26be78f2a9",
            "07cd7a86e113402bbb626b863611f151",
            "5a71a326e505472a8e49ef81a9e8ec4b",
            "8129be16e0c24808a3873d939e0a8978",
            "4997703bc37a486087744677014531ce",
            "f9b3d73c4fea4d1884f5bad9cb7ceeae",
            "7928f953ac0e421192ea693c90973b36",
            "5fa1ec4fa9b54019b0b8a6a1a04e93e2",
            "54ed07f6e41549e1933d43bfaff4cb3c",
            "cbe811dc05c1498ba413b5995c09409f",
            "9c441a89454f4574922d04cf40fb548a",
            "3b39b03d9a5442f7a7a1d6f1b530d13c",
            "a7dbf7d043a7465280dd16af9d00866d",
            "7c3c0160f9be4935aae81799c75b24a6",
            "e943030335a2419b8bd5d9e577aa9b68",
            "685bea73351649feafc1cc65e0281053",
            "027c2534556c4922ae6abddc8f271cfe",
            "d711602a03804121b194534fb0e0cb6d",
            "78badafd49cc4d5fa27dacd3e35ef3db",
            "7a45dad239e1444fbd48d8750810014f",
            "6a2029853f084b5896eb62ac3884ded2",
            "b556031234004154af817e1c7e382cdc",
            "ecdfd51f425542f28242c1d0af2f710c",
            "52e6bfab3ee74f09827034e3d84a0110",
            "69b2b041fcfa45e3a6c43a44ea283ca8",
            "6a514105025245b9be83088b7b2153cd",
            "6e93da6ae6874705a9e66cedad3cdeae"
          ]
        },
        "outputId": "698f9692-c53e-4b1d-c455-de31b8fb77e4"
      },
      "source": [
        "tokenizer = BertTokenizer.from_pretrained(PRE_TRAINED_MODEL_NAME)"
      ],
      "execution_count": null,
      "outputs": [
        {
          "output_type": "display_data",
          "data": {
            "application/vnd.jupyter.widget-view+json": {
              "model_id": "f521b4d2ae59406eab63472354801e94",
              "version_minor": 0,
              "version_major": 2
            },
            "text/plain": [
              "Downloading:   0%|          | 0.00/29.0 [00:00<?, ?B/s]"
            ]
          },
          "metadata": {}
        },
        {
          "output_type": "display_data",
          "data": {
            "application/vnd.jupyter.widget-view+json": {
              "model_id": "a9bc34dfcffc4e0ea29907071ada921d",
              "version_minor": 0,
              "version_major": 2
            },
            "text/plain": [
              "Downloading:   0%|          | 0.00/208k [00:00<?, ?B/s]"
            ]
          },
          "metadata": {}
        },
        {
          "output_type": "display_data",
          "data": {
            "application/vnd.jupyter.widget-view+json": {
              "model_id": "f9b3d73c4fea4d1884f5bad9cb7ceeae",
              "version_minor": 0,
              "version_major": 2
            },
            "text/plain": [
              "Downloading:   0%|          | 0.00/426k [00:00<?, ?B/s]"
            ]
          },
          "metadata": {}
        },
        {
          "output_type": "display_data",
          "data": {
            "application/vnd.jupyter.widget-view+json": {
              "model_id": "027c2534556c4922ae6abddc8f271cfe",
              "version_minor": 0,
              "version_major": 2
            },
            "text/plain": [
              "Downloading:   0%|          | 0.00/570 [00:00<?, ?B/s]"
            ]
          },
          "metadata": {}
        }
      ]
    },
    {
      "cell_type": "markdown",
      "metadata": {
        "id": "CfrSbwTQ-wi_"
      },
      "source": [
        "Посмотрим, как работает модель токенизации для BERT.\n",
        "\n"
      ]
    },
    {
      "cell_type": "code",
      "metadata": {
        "id": "iTFhpHpsoWO7",
        "colab": {
          "base_uri": "https://localhost:8080/"
        },
        "outputId": "d91d4fbf-afdd-49b5-aa46-cde60a7fbdd4"
      },
      "source": [
        "sample_txt = 'When was I last outside? I am stuck at home for 2 weeks.'\n",
        "tokens = tokenizer.tokenize(sample_txt)\n",
        "token_ids = tokenizer.convert_tokens_to_ids(tokens)\n",
        "\n",
        "print(f' Sentence: {sample_txt}')\n",
        "print(f'   Tokens: {tokens}')\n",
        "print(f'Token IDs: {token_ids}')"
      ],
      "execution_count": null,
      "outputs": [
        {
          "output_type": "stream",
          "name": "stdout",
          "text": [
            " Sentence: When was I last outside? I am stuck at home for 2 weeks.\n",
            "   Tokens: ['When', 'was', 'I', 'last', 'outside', '?', 'I', 'am', 'stuck', 'at', 'home', 'for', '2', 'weeks', '.']\n",
            "Token IDs: [1332, 1108, 146, 1314, 1796, 136, 146, 1821, 5342, 1120, 1313, 1111, 123, 2277, 119]\n"
          ]
        }
      ]
    },
    {
      "cell_type": "code",
      "metadata": {
        "id": "DX_JNJpSDnP1",
        "colab": {
          "base_uri": "https://localhost:8080/"
        },
        "outputId": "dc96f279-dce5-434e-d87f-8d91a935a70f"
      },
      "source": [
        "sample_txt = 'He started a new book, it was quite readable'\n",
        "\n",
        "tokens = tokenizer.tokenize(sample_txt)\n",
        "token_ids = tokenizer.convert_tokens_to_ids(tokens)\n",
        "\n",
        "print(f' Sentence: {sample_txt}')\n",
        "print(f'   Tokens: {tokens}')\n",
        "print(f'Token IDs: {token_ids}')"
      ],
      "execution_count": null,
      "outputs": [
        {
          "output_type": "stream",
          "name": "stdout",
          "text": [
            " Sentence: He started a new book, it was quite readable\n",
            "   Tokens: ['He', 'started', 'a', 'new', 'book', ',', 'it', 'was', 'quite', 'read', '##able']\n",
            "Token IDs: [1124, 1408, 170, 1207, 1520, 117, 1122, 1108, 2385, 2373, 1895]\n"
          ]
        }
      ]
    },
    {
      "cell_type": "markdown",
      "metadata": {
        "id": "Ga00TIuH-nz-"
      },
      "source": [
        "##  Специальные токены\n",
        "\n",
        "![image.png](data:image/png;base64,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)"
      ]
    },
    {
      "cell_type": "markdown",
      "metadata": {
        "id": "bzbbKLR8lZbu"
      },
      "source": [
        "\n",
        "\n",
        "`[SEP]` - метка конца предложения\n"
      ]
    },
    {
      "cell_type": "code",
      "metadata": {
        "id": "EXwz47bQvCbc",
        "colab": {
          "base_uri": "https://localhost:8080/"
        },
        "outputId": "de294ff6-a610-4098-d00f-f67f3deeb8b2"
      },
      "source": [
        "tokenizer.sep_token, tokenizer.sep_token_id"
      ],
      "execution_count": null,
      "outputs": [
        {
          "output_type": "execute_result",
          "data": {
            "text/plain": [
              "('[SEP]', 102)"
            ]
          },
          "metadata": {},
          "execution_count": 20
        }
      ]
    },
    {
      "cell_type": "markdown",
      "metadata": {
        "id": "Mip_eGeXwLFF"
      },
      "source": [
        "`[CLS]` - чтобы использовать модель BERT для классификации, мы должны добавить этот токен в начало каждого предложения"
      ]
    },
    {
      "cell_type": "code",
      "metadata": {
        "id": "_6K4it5HwE6l",
        "colab": {
          "base_uri": "https://localhost:8080/"
        },
        "outputId": "ab2b20e7-76e7-4d2d-ea1b-8b3a78222d5f"
      },
      "source": [
        "tokenizer.cls_token, tokenizer.cls_token_id"
      ],
      "execution_count": null,
      "outputs": [
        {
          "output_type": "execute_result",
          "data": {
            "text/plain": [
              "('[CLS]', 101)"
            ]
          },
          "metadata": {},
          "execution_count": 21
        }
      ]
    },
    {
      "cell_type": "markdown",
      "metadata": {
        "id": "Qi6O-yEY09gl"
      },
      "source": [
        "Также существует специальный вспомогательный токен для выравнивания длин последовательностей"
      ]
    },
    {
      "cell_type": "code",
      "metadata": {
        "id": "Vx7gD5xf1AFK",
        "colab": {
          "base_uri": "https://localhost:8080/"
        },
        "outputId": "e16e1d58-e630-4fcf-ee5e-8ed90286a136"
      },
      "source": [
        "tokenizer.pad_token, tokenizer.pad_token_id"
      ],
      "execution_count": null,
      "outputs": [
        {
          "output_type": "execute_result",
          "data": {
            "text/plain": [
              "('[PAD]', 0)"
            ]
          },
          "metadata": {},
          "execution_count": 22
        }
      ]
    },
    {
      "cell_type": "markdown",
      "metadata": {
        "id": "W9ap7jdL0LYU"
      },
      "source": [
        "Вся эта предобработка может быть сделана с помощью метода encode_plus"
      ]
    },
    {
      "cell_type": "code",
      "metadata": {
        "id": "Vea9edaaxSPO",
        "colab": {
          "base_uri": "https://localhost:8080/"
        },
        "outputId": "f1678fd7-bc23-4443-dc1c-4228c74cedc0"
      },
      "source": [
        "encoding = tokenizer.encode_plus(\n",
        "  sample_txt,\n",
        "  max_length=32,\n",
        "  add_special_tokens=True, # Добавить '[CLS]' и '[SEP]'\n",
        "  return_token_type_ids=False,\n",
        "  padding='max_length',\n",
        "  return_attention_mask=True,\n",
        "  return_tensors='pt',  # Вернуть тензор PyTorch\n",
        "  truncation=True\n",
        ")\n",
        "\n",
        "encoding.keys()"
      ],
      "execution_count": null,
      "outputs": [
        {
          "output_type": "execute_result",
          "data": {
            "text/plain": [
              "dict_keys(['input_ids', 'attention_mask'])"
            ]
          },
          "metadata": {},
          "execution_count": 23
        }
      ]
    },
    {
      "cell_type": "code",
      "metadata": {
        "id": "YzBmcOla0yQR",
        "colab": {
          "base_uri": "https://localhost:8080/"
        },
        "outputId": "c76ee1f9-376e-4228-cf3e-372ed6a28bd7"
      },
      "source": [
        "print(len(encoding['input_ids'][0]))\n",
        "encoding['input_ids'][0]"
      ],
      "execution_count": null,
      "outputs": [
        {
          "output_type": "stream",
          "name": "stdout",
          "text": [
            "32\n"
          ]
        },
        {
          "output_type": "execute_result",
          "data": {
            "text/plain": [
              "tensor([ 101, 1124, 1408,  170, 1207, 1520,  117, 1122, 1108, 2385, 2373, 1895,\n",
              "         102,    0,    0,    0,    0,    0,    0,    0,    0,    0,    0,    0,\n",
              "           0,    0,    0,    0,    0,    0,    0,    0])"
            ]
          },
          "metadata": {},
          "execution_count": 24
        }
      ]
    },
    {
      "cell_type": "markdown",
      "metadata": {
        "id": "itAyVPsNdyc1"
      },
      "source": [
        "Такая же длина будет и у *attention mask*"
      ]
    },
    {
      "cell_type": "code",
      "metadata": {
        "id": "Wiv5LLiw03Ox",
        "colab": {
          "base_uri": "https://localhost:8080/"
        },
        "outputId": "be4fd617-8e99-49a6-d4ae-59eed2a3a2bb"
      },
      "source": [
        "print(len(encoding['attention_mask'][0]))\n",
        "encoding['attention_mask']"
      ],
      "execution_count": null,
      "outputs": [
        {
          "output_type": "stream",
          "name": "stdout",
          "text": [
            "32\n"
          ]
        },
        {
          "output_type": "execute_result",
          "data": {
            "text/plain": [
              "tensor([[1, 1, 1, 1, 1, 1, 1, 1, 1, 1, 1, 1, 1, 0, 0, 0, 0, 0, 0, 0, 0, 0, 0, 0,\n",
              "         0, 0, 0, 0, 0, 0, 0, 0]])"
            ]
          },
          "metadata": {},
          "execution_count": 25
        }
      ]
    },
    {
      "cell_type": "code",
      "metadata": {
        "id": "0FZjMJzFKbA2",
        "colab": {
          "base_uri": "https://localhost:8080/"
        },
        "outputId": "654151c8-622e-4073-8c17-7a9f99ce2679"
      },
      "source": [
        "tokenizer.convert_ids_to_tokens(encoding['input_ids'][0])\n"
      ],
      "execution_count": null,
      "outputs": [
        {
          "output_type": "execute_result",
          "data": {
            "text/plain": [
              "['[CLS]',\n",
              " 'He',\n",
              " 'started',\n",
              " 'a',\n",
              " 'new',\n",
              " 'book',\n",
              " ',',\n",
              " 'it',\n",
              " 'was',\n",
              " 'quite',\n",
              " 'read',\n",
              " '##able',\n",
              " '[SEP]',\n",
              " '[PAD]',\n",
              " '[PAD]',\n",
              " '[PAD]',\n",
              " '[PAD]',\n",
              " '[PAD]',\n",
              " '[PAD]',\n",
              " '[PAD]',\n",
              " '[PAD]',\n",
              " '[PAD]',\n",
              " '[PAD]',\n",
              " '[PAD]',\n",
              " '[PAD]',\n",
              " '[PAD]',\n",
              " '[PAD]',\n",
              " '[PAD]',\n",
              " '[PAD]',\n",
              " '[PAD]',\n",
              " '[PAD]',\n",
              " '[PAD]']"
            ]
          },
          "metadata": {},
          "execution_count": 26
        }
      ]
    },
    {
      "cell_type": "markdown",
      "metadata": {
        "id": "kC0YgbzcFvpZ"
      },
      "source": [
        "Установим максимальную длину последовательности равной 160"
      ]
    },
    {
      "cell_type": "code",
      "metadata": {
        "id": "t7xSmJtLuoxW"
      },
      "source": [
        "MAX_LEN = 160"
      ],
      "execution_count": null,
      "outputs": []
    },
    {
      "cell_type": "markdown",
      "metadata": {
        "id": "XvvcoU6nurHy"
      },
      "source": [
        "Теперь создадим датасет PyTorch, который понадобится в дальнейшем для обучения модели"
      ]
    },
    {
      "cell_type": "code",
      "metadata": {
        "id": "E2BPgRJ7YBK0"
      },
      "source": [
        "\n",
        "class GPReviewDataset(Dataset):\n",
        "\n",
        "  def __init__(self, reviews, targets, tokenizer, max_len):\n",
        "    self.reviews = reviews\n",
        "    self.targets = targets\n",
        "    self.tokenizer = tokenizer\n",
        "    self.max_len = max_len\n",
        "  \n",
        "  def __len__(self):\n",
        "    return len(self.reviews)\n",
        "  \n",
        "  def __getitem__(self, item):\n",
        "    review = str(self.reviews[item])\n",
        "    target = self.targets[item]\n",
        "\n",
        "    encoding = self.tokenizer.encode_plus(\n",
        "      review,\n",
        "      add_special_tokens=True,\n",
        "      max_length=self.max_len,\n",
        "      return_token_type_ids=False,\n",
        "      padding='max_length',\n",
        "      return_attention_mask=True,\n",
        "      return_tensors='pt',\n",
        "      truncation=True\n",
        "    )\n",
        "\n",
        "    return {\n",
        "      'review_text': review,\n",
        "      'input_ids': encoding['input_ids'].flatten(),\n",
        "      'attention_mask': encoding['attention_mask'].flatten(),\n",
        "      'targets': torch.tensor(target, dtype=torch.long)\n",
        "    }"
      ],
      "execution_count": null,
      "outputs": []
    },
    {
      "cell_type": "markdown",
      "metadata": {
        "id": "x2uwsvCYqDJK"
      },
      "source": [
        "Разделим данные на обучающую, тестовую и валидационную выборки "
      ]
    },
    {
      "cell_type": "code",
      "metadata": {
        "id": "S7_ACkTsHxF8"
      },
      "source": [
        "RANDOM_SEED = 1\n",
        "np.random.seed(RANDOM_SEED)\n",
        "torch.manual_seed(RANDOM_SEED)\n",
        "device = torch.device(\"cuda:0\" if torch.cuda.is_available() else \"cpu\")"
      ],
      "execution_count": null,
      "outputs": []
    },
    {
      "cell_type": "code",
      "source": [
        "device"
      ],
      "metadata": {
        "id": "h_MfBUiNjDuq",
        "colab": {
          "base_uri": "https://localhost:8080/"
        },
        "outputId": "1d086fc2-91e4-4fc5-d521-d4b9e91ce9a9"
      },
      "execution_count": null,
      "outputs": [
        {
          "output_type": "execute_result",
          "data": {
            "text/plain": [
              "device(type='cpu')"
            ]
          },
          "metadata": {},
          "execution_count": 30
        }
      ]
    },
    {
      "cell_type": "code",
      "metadata": {
        "id": "B-vWzoo81dvO"
      },
      "source": [
        "df_train, df_test = train_test_split(df, test_size=0.1, random_state=RANDOM_SEED)\n",
        "df_val, df_test = train_test_split(df_test, test_size=0.5, random_state=RANDOM_SEED)"
      ],
      "execution_count": null,
      "outputs": []
    },
    {
      "cell_type": "code",
      "metadata": {
        "id": "xz3ZOQXVPCwh",
        "colab": {
          "base_uri": "https://localhost:8080/"
        },
        "outputId": "a3e88ed0-985c-4fca-b9c2-0e798f70d096"
      },
      "source": [
        "df_train.shape, df_val.shape, df_test.shape"
      ],
      "execution_count": null,
      "outputs": [
        {
          "output_type": "execute_result",
          "data": {
            "text/plain": [
              "((14171, 12), (787, 12), (788, 12))"
            ]
          },
          "metadata": {},
          "execution_count": 32
        }
      ]
    },
    {
      "cell_type": "markdown",
      "metadata": {
        "id": "J4tQ1x-vqNab"
      },
      "source": [
        "\n",
        "Создадим итераторы по данным\n",
        "- train_data_loader - данные для обучения\n",
        "- val_data_loader - данные для валидации модели при обучении\n",
        "- test_data_loader - данные для тестирования модели"
      ]
    },
    {
      "cell_type": "code",
      "metadata": {
        "id": "Ttz8BULb785N"
      },
      "source": [
        "import warnings\n",
        "warnings.filterwarnings('ignore')"
      ],
      "execution_count": null,
      "outputs": []
    },
    {
      "cell_type": "code",
      "metadata": {
        "id": "KEGqcvkuOuTX"
      },
      "source": [
        "def create_data_loader(df, tokenizer, max_len, batch_size):\n",
        "  ds = GPReviewDataset(\n",
        "    reviews=df.content.to_numpy(),\n",
        "    targets=df.sentiment.to_numpy(),\n",
        "    tokenizer=tokenizer,\n",
        "    max_len=max_len\n",
        "  )\n",
        "\n",
        "  return DataLoader(\n",
        "    ds,\n",
        "    batch_size=batch_size,\n",
        "    num_workers=1\n",
        "  )"
      ],
      "execution_count": null,
      "outputs": []
    },
    {
      "cell_type": "code",
      "metadata": {
        "id": "vODDxMKsPHqI"
      },
      "source": [
        "BATCH_SIZE = 16\n",
        "\n",
        "train_data_loader = create_data_loader(df_train, tokenizer, MAX_LEN, BATCH_SIZE)\n",
        "val_data_loader = create_data_loader(df_val, tokenizer, MAX_LEN, BATCH_SIZE)\n",
        "test_data_loader = create_data_loader(df_test, tokenizer, MAX_LEN, BATCH_SIZE)"
      ],
      "execution_count": null,
      "outputs": []
    },
    {
      "cell_type": "markdown",
      "metadata": {
        "id": "A6dlOptwqlhF"
      },
      "source": [
        "Посмотрим на пример одного батча из нашего итератора train_data_loader\n",
        "\n"
      ]
    },
    {
      "cell_type": "code",
      "metadata": {
        "id": "Y93ldSN47FeT"
      },
      "source": [
        "data = next(iter(train_data_loader))"
      ],
      "execution_count": null,
      "outputs": []
    },
    {
      "cell_type": "code",
      "metadata": {
        "id": "SXOrMv10UPyu",
        "colab": {
          "base_uri": "https://localhost:8080/"
        },
        "outputId": "bcdf1ae5-eb22-4819-d2fc-f238ed2ec52e"
      },
      "source": [
        "data.keys()"
      ],
      "execution_count": null,
      "outputs": [
        {
          "output_type": "execute_result",
          "data": {
            "text/plain": [
              "dict_keys(['review_text', 'input_ids', 'attention_mask', 'targets'])"
            ]
          },
          "metadata": {},
          "execution_count": 37
        }
      ]
    },
    {
      "cell_type": "code",
      "metadata": {
        "id": "IdU4YVqb7N8M",
        "colab": {
          "base_uri": "https://localhost:8080/"
        },
        "outputId": "bd7be315-9e5f-48bf-faed-c8345c4fcac3"
      },
      "source": [
        "print(data['review_text'])\n",
        "print(data['input_ids'].shape)\n",
        "print(data['attention_mask'].shape)\n",
        "print(data['targets'].shape)"
      ],
      "execution_count": null,
      "outputs": [
        {
          "output_type": "stream",
          "name": "stdout",
          "text": [
            "[\"I had a problem with upgrading to Premium. They were quick with their response and fixed the problem right away. It's a good app for those familiar with the Franklin Covey system, and syncs well across devices.\", 'Same issue as Don Smith who wrote a review on 10/10/19. Will consider this app but the lack of slide visuals and character visuals makes the app in-op. Current phone is the Google pixel 4xl......perhaps I misspoke in regards to the reply. My issue is not with the visuals but the lack of visuals. Everything is blank for me so literally can not see half of the content.', \"I actually really love this app. I used it to create some serious personal progress. I purchased the full app but when I bought a new phone, it wouldn't let me sign out of my old device and into my new device. I emailed support about it...crickets. Never heard from them. If they can put together a decent support team I would give the app a 5 for sure.\", 'But of a downgrade from wunderlist. Please add a button to create a task from the main screen', 'This is truley an amazing app. It helps me study, clean, and workout without being tempted to get on my phone. I suggest silencing your phone while using this app so you arent tempted to kill your tree. Thank you for this app and keep up the good work!!', 'Long time user across 4 locations.', 'when you switch the language, you get wierd bug that your app is half in English half in selected language', 'The fact there are no predefined tasks makes it super hard to use. Or rather this will work if user can just define the task (quest) easily. Or maybe we can import (by purchasing) some set of quests. For me it is still quite confusing and hard to manage with all the options offered. would be use it furthere more if not too complicated', 'Inspite of the event or task completed tasks being shown on the list. As per the reminders and their timing auto arrangements of list is not there. The first and most early created event is reflecting on the top rather than time based or priority based. If an event created on my day if that was not completed, its not getting carried over to next day as due.', \"I like the concept... But it don't work. :( I am able to go on Facebook even if the tree is growing! Even now, I have a tree growing as I type. I really like the idea... but it don't work (on my phone).\", \"I used to love it. It was my go to app for many years. But over the time it is losing the special status. It doesn't have travel time anymore which was the main reason why i could stay on top of things without mentally having to calculate each meeting and setting the times. They removed that!\", \"Pretty good app to take notes and lists, +1 for the smart Snooze feature. However it's disappointing that there's no reliable way of backing up all your data, even with Premium. The only option is to log in using a browser and manually export a backup, but an automated scheduled export within the app would be way better.\", 'Nice but cost too much yearly to buy.', \"Hello! I love the app as the tree is cute and creative. However my tree doesn't die when i press the homescreen button for forest. It doesn't die when i leave the app and go to another app. What i want is the tree to die when i leave the app so that i can increase my focus and productivity in doing work. Help please?\", 'Looks clean and this app have those details which other apps doesnt have. This can complete functions which I needed. Great App.', \"Stuck in lists screen but none of my lists are showing and the only option is to add a new list. What am I doing wrong? (BTW- I love what I've seen so far. Being able to add sub tasks under sub tasks? Awesome! 5th star awaits...\"]\n",
            "torch.Size([16, 160])\n",
            "torch.Size([16, 160])\n",
            "torch.Size([16])\n"
          ]
        }
      ]
    },
    {
      "cell_type": "code",
      "source": [
        "data['targets']"
      ],
      "metadata": {
        "id": "Hy-YKJ86lO_e",
        "colab": {
          "base_uri": "https://localhost:8080/"
        },
        "outputId": "be97255d-88c1-405f-f2a3-ab251fb85644"
      },
      "execution_count": null,
      "outputs": [
        {
          "output_type": "execute_result",
          "data": {
            "text/plain": [
              "tensor([2, 0, 1, 1, 2, 2, 0, 1, 1, 1, 0, 1, 2, 2, 2, 2])"
            ]
          },
          "metadata": {},
          "execution_count": 39
        }
      ]
    },
    {
      "cell_type": "markdown",
      "metadata": {
        "id": "H63Y-TjyRC7S"
      },
      "source": [
        "## Классификация сентимента с использованием модели BERT от Hugging Face"
      ]
    },
    {
      "cell_type": "markdown",
      "metadata": {
        "id": "440Nd31VTHER"
      },
      "source": [
        "\n",
        "В библиотеке Transformers от Hugging Face есть много моделей для разных задач: [BertForSequenceClassification](https://huggingface.co/transformers/model_doc/bert.html#bertforsequenceclassification), [BertForQuestionAnswering](https://huggingface.co/transformers/model_doc/bert.html#bertforquestionanswering) и другие. Все они являются надстройками над базовой моделью BERT.\n",
        "\n",
        "В данном случае мы будем использовать базовую модель [BertModel](https://huggingface.co/transformers/model_doc/bert.html#bertmodel) и реализуем на её основе свой классификатор текстов по тональности."
      ]
    },
    {
      "cell_type": "code",
      "metadata": {
        "id": "0P41FayISNRI",
        "colab": {
          "base_uri": "https://localhost:8080/",
          "height": 124,
          "referenced_widgets": [
            "6c29f5389b0e463b8f1bc48ac32bcbdb",
            "0bfe551156144da9a996f0f6168f9654",
            "155b2135ff744e47b3b797072d450e61",
            "6f5522f03523414fbba81f2ffd7624f7",
            "4aae591b99c44c1e8c5176ea3f9d7d28",
            "6eda88dc61d4456db88a25f2041e5cd2",
            "1b86a2abb7054ab48a7e25c56a26fa94",
            "7c4f34070c7349579e53765e2687331c",
            "b20d64a567864875b8189144a7718493",
            "b7ecab6b138c4c01b96717e1916c8ec5",
            "c34a6d33de4d48b4bed65fba1caf5245"
          ]
        },
        "outputId": "bf7d1bc1-33d5-4bb6-a5fd-26d627ef2e2b"
      },
      "source": [
        "bert_model = BertModel.from_pretrained(PRE_TRAINED_MODEL_NAME)"
      ],
      "execution_count": null,
      "outputs": [
        {
          "output_type": "display_data",
          "data": {
            "application/vnd.jupyter.widget-view+json": {
              "model_id": "6c29f5389b0e463b8f1bc48ac32bcbdb",
              "version_minor": 0,
              "version_major": 2
            },
            "text/plain": [
              "Downloading:   0%|          | 0.00/416M [00:00<?, ?B/s]"
            ]
          },
          "metadata": {}
        },
        {
          "output_type": "stream",
          "name": "stderr",
          "text": [
            "Some weights of the model checkpoint at bert-base-cased were not used when initializing BertModel: ['cls.predictions.transform.dense.weight', 'cls.predictions.bias', 'cls.seq_relationship.bias', 'cls.predictions.transform.dense.bias', 'cls.predictions.transform.LayerNorm.bias', 'cls.seq_relationship.weight', 'cls.predictions.decoder.weight', 'cls.predictions.transform.LayerNorm.weight']\n",
            "- This IS expected if you are initializing BertModel from the checkpoint of a model trained on another task or with another architecture (e.g. initializing a BertForSequenceClassification model from a BertForPreTraining model).\n",
            "- This IS NOT expected if you are initializing BertModel from the checkpoint of a model that you expect to be exactly identical (initializing a BertForSequenceClassification model from a BertForSequenceClassification model).\n"
          ]
        }
      ]
    },
    {
      "cell_type": "code",
      "source": [
        "bert_model"
      ],
      "metadata": {
        "id": "T84mYvr88YQ2",
        "colab": {
          "base_uri": "https://localhost:8080/"
        },
        "outputId": "ec3c8cd3-a13d-4f63-90b4-b14e57162878"
      },
      "execution_count": null,
      "outputs": [
        {
          "output_type": "execute_result",
          "data": {
            "text/plain": [
              "BertModel(\n",
              "  (embeddings): BertEmbeddings(\n",
              "    (word_embeddings): Embedding(28996, 768, padding_idx=0)\n",
              "    (position_embeddings): Embedding(512, 768)\n",
              "    (token_type_embeddings): Embedding(2, 768)\n",
              "    (LayerNorm): LayerNorm((768,), eps=1e-12, elementwise_affine=True)\n",
              "    (dropout): Dropout(p=0.1, inplace=False)\n",
              "  )\n",
              "  (encoder): BertEncoder(\n",
              "    (layer): ModuleList(\n",
              "      (0): BertLayer(\n",
              "        (attention): BertAttention(\n",
              "          (self): BertSelfAttention(\n",
              "            (query): Linear(in_features=768, out_features=768, bias=True)\n",
              "            (key): Linear(in_features=768, out_features=768, bias=True)\n",
              "            (value): Linear(in_features=768, out_features=768, bias=True)\n",
              "            (dropout): Dropout(p=0.1, inplace=False)\n",
              "          )\n",
              "          (output): BertSelfOutput(\n",
              "            (dense): Linear(in_features=768, out_features=768, bias=True)\n",
              "            (LayerNorm): LayerNorm((768,), eps=1e-12, elementwise_affine=True)\n",
              "            (dropout): Dropout(p=0.1, inplace=False)\n",
              "          )\n",
              "        )\n",
              "        (intermediate): BertIntermediate(\n",
              "          (dense): Linear(in_features=768, out_features=3072, bias=True)\n",
              "        )\n",
              "        (output): BertOutput(\n",
              "          (dense): Linear(in_features=3072, out_features=768, bias=True)\n",
              "          (LayerNorm): LayerNorm((768,), eps=1e-12, elementwise_affine=True)\n",
              "          (dropout): Dropout(p=0.1, inplace=False)\n",
              "        )\n",
              "      )\n",
              "      (1): BertLayer(\n",
              "        (attention): BertAttention(\n",
              "          (self): BertSelfAttention(\n",
              "            (query): Linear(in_features=768, out_features=768, bias=True)\n",
              "            (key): Linear(in_features=768, out_features=768, bias=True)\n",
              "            (value): Linear(in_features=768, out_features=768, bias=True)\n",
              "            (dropout): Dropout(p=0.1, inplace=False)\n",
              "          )\n",
              "          (output): BertSelfOutput(\n",
              "            (dense): Linear(in_features=768, out_features=768, bias=True)\n",
              "            (LayerNorm): LayerNorm((768,), eps=1e-12, elementwise_affine=True)\n",
              "            (dropout): Dropout(p=0.1, inplace=False)\n",
              "          )\n",
              "        )\n",
              "        (intermediate): BertIntermediate(\n",
              "          (dense): Linear(in_features=768, out_features=3072, bias=True)\n",
              "        )\n",
              "        (output): BertOutput(\n",
              "          (dense): Linear(in_features=3072, out_features=768, bias=True)\n",
              "          (LayerNorm): LayerNorm((768,), eps=1e-12, elementwise_affine=True)\n",
              "          (dropout): Dropout(p=0.1, inplace=False)\n",
              "        )\n",
              "      )\n",
              "      (2): BertLayer(\n",
              "        (attention): BertAttention(\n",
              "          (self): BertSelfAttention(\n",
              "            (query): Linear(in_features=768, out_features=768, bias=True)\n",
              "            (key): Linear(in_features=768, out_features=768, bias=True)\n",
              "            (value): Linear(in_features=768, out_features=768, bias=True)\n",
              "            (dropout): Dropout(p=0.1, inplace=False)\n",
              "          )\n",
              "          (output): BertSelfOutput(\n",
              "            (dense): Linear(in_features=768, out_features=768, bias=True)\n",
              "            (LayerNorm): LayerNorm((768,), eps=1e-12, elementwise_affine=True)\n",
              "            (dropout): Dropout(p=0.1, inplace=False)\n",
              "          )\n",
              "        )\n",
              "        (intermediate): BertIntermediate(\n",
              "          (dense): Linear(in_features=768, out_features=3072, bias=True)\n",
              "        )\n",
              "        (output): BertOutput(\n",
              "          (dense): Linear(in_features=3072, out_features=768, bias=True)\n",
              "          (LayerNorm): LayerNorm((768,), eps=1e-12, elementwise_affine=True)\n",
              "          (dropout): Dropout(p=0.1, inplace=False)\n",
              "        )\n",
              "      )\n",
              "      (3): BertLayer(\n",
              "        (attention): BertAttention(\n",
              "          (self): BertSelfAttention(\n",
              "            (query): Linear(in_features=768, out_features=768, bias=True)\n",
              "            (key): Linear(in_features=768, out_features=768, bias=True)\n",
              "            (value): Linear(in_features=768, out_features=768, bias=True)\n",
              "            (dropout): Dropout(p=0.1, inplace=False)\n",
              "          )\n",
              "          (output): BertSelfOutput(\n",
              "            (dense): Linear(in_features=768, out_features=768, bias=True)\n",
              "            (LayerNorm): LayerNorm((768,), eps=1e-12, elementwise_affine=True)\n",
              "            (dropout): Dropout(p=0.1, inplace=False)\n",
              "          )\n",
              "        )\n",
              "        (intermediate): BertIntermediate(\n",
              "          (dense): Linear(in_features=768, out_features=3072, bias=True)\n",
              "        )\n",
              "        (output): BertOutput(\n",
              "          (dense): Linear(in_features=3072, out_features=768, bias=True)\n",
              "          (LayerNorm): LayerNorm((768,), eps=1e-12, elementwise_affine=True)\n",
              "          (dropout): Dropout(p=0.1, inplace=False)\n",
              "        )\n",
              "      )\n",
              "      (4): BertLayer(\n",
              "        (attention): BertAttention(\n",
              "          (self): BertSelfAttention(\n",
              "            (query): Linear(in_features=768, out_features=768, bias=True)\n",
              "            (key): Linear(in_features=768, out_features=768, bias=True)\n",
              "            (value): Linear(in_features=768, out_features=768, bias=True)\n",
              "            (dropout): Dropout(p=0.1, inplace=False)\n",
              "          )\n",
              "          (output): BertSelfOutput(\n",
              "            (dense): Linear(in_features=768, out_features=768, bias=True)\n",
              "            (LayerNorm): LayerNorm((768,), eps=1e-12, elementwise_affine=True)\n",
              "            (dropout): Dropout(p=0.1, inplace=False)\n",
              "          )\n",
              "        )\n",
              "        (intermediate): BertIntermediate(\n",
              "          (dense): Linear(in_features=768, out_features=3072, bias=True)\n",
              "        )\n",
              "        (output): BertOutput(\n",
              "          (dense): Linear(in_features=3072, out_features=768, bias=True)\n",
              "          (LayerNorm): LayerNorm((768,), eps=1e-12, elementwise_affine=True)\n",
              "          (dropout): Dropout(p=0.1, inplace=False)\n",
              "        )\n",
              "      )\n",
              "      (5): BertLayer(\n",
              "        (attention): BertAttention(\n",
              "          (self): BertSelfAttention(\n",
              "            (query): Linear(in_features=768, out_features=768, bias=True)\n",
              "            (key): Linear(in_features=768, out_features=768, bias=True)\n",
              "            (value): Linear(in_features=768, out_features=768, bias=True)\n",
              "            (dropout): Dropout(p=0.1, inplace=False)\n",
              "          )\n",
              "          (output): BertSelfOutput(\n",
              "            (dense): Linear(in_features=768, out_features=768, bias=True)\n",
              "            (LayerNorm): LayerNorm((768,), eps=1e-12, elementwise_affine=True)\n",
              "            (dropout): Dropout(p=0.1, inplace=False)\n",
              "          )\n",
              "        )\n",
              "        (intermediate): BertIntermediate(\n",
              "          (dense): Linear(in_features=768, out_features=3072, bias=True)\n",
              "        )\n",
              "        (output): BertOutput(\n",
              "          (dense): Linear(in_features=3072, out_features=768, bias=True)\n",
              "          (LayerNorm): LayerNorm((768,), eps=1e-12, elementwise_affine=True)\n",
              "          (dropout): Dropout(p=0.1, inplace=False)\n",
              "        )\n",
              "      )\n",
              "      (6): BertLayer(\n",
              "        (attention): BertAttention(\n",
              "          (self): BertSelfAttention(\n",
              "            (query): Linear(in_features=768, out_features=768, bias=True)\n",
              "            (key): Linear(in_features=768, out_features=768, bias=True)\n",
              "            (value): Linear(in_features=768, out_features=768, bias=True)\n",
              "            (dropout): Dropout(p=0.1, inplace=False)\n",
              "          )\n",
              "          (output): BertSelfOutput(\n",
              "            (dense): Linear(in_features=768, out_features=768, bias=True)\n",
              "            (LayerNorm): LayerNorm((768,), eps=1e-12, elementwise_affine=True)\n",
              "            (dropout): Dropout(p=0.1, inplace=False)\n",
              "          )\n",
              "        )\n",
              "        (intermediate): BertIntermediate(\n",
              "          (dense): Linear(in_features=768, out_features=3072, bias=True)\n",
              "        )\n",
              "        (output): BertOutput(\n",
              "          (dense): Linear(in_features=3072, out_features=768, bias=True)\n",
              "          (LayerNorm): LayerNorm((768,), eps=1e-12, elementwise_affine=True)\n",
              "          (dropout): Dropout(p=0.1, inplace=False)\n",
              "        )\n",
              "      )\n",
              "      (7): BertLayer(\n",
              "        (attention): BertAttention(\n",
              "          (self): BertSelfAttention(\n",
              "            (query): Linear(in_features=768, out_features=768, bias=True)\n",
              "            (key): Linear(in_features=768, out_features=768, bias=True)\n",
              "            (value): Linear(in_features=768, out_features=768, bias=True)\n",
              "            (dropout): Dropout(p=0.1, inplace=False)\n",
              "          )\n",
              "          (output): BertSelfOutput(\n",
              "            (dense): Linear(in_features=768, out_features=768, bias=True)\n",
              "            (LayerNorm): LayerNorm((768,), eps=1e-12, elementwise_affine=True)\n",
              "            (dropout): Dropout(p=0.1, inplace=False)\n",
              "          )\n",
              "        )\n",
              "        (intermediate): BertIntermediate(\n",
              "          (dense): Linear(in_features=768, out_features=3072, bias=True)\n",
              "        )\n",
              "        (output): BertOutput(\n",
              "          (dense): Linear(in_features=3072, out_features=768, bias=True)\n",
              "          (LayerNorm): LayerNorm((768,), eps=1e-12, elementwise_affine=True)\n",
              "          (dropout): Dropout(p=0.1, inplace=False)\n",
              "        )\n",
              "      )\n",
              "      (8): BertLayer(\n",
              "        (attention): BertAttention(\n",
              "          (self): BertSelfAttention(\n",
              "            (query): Linear(in_features=768, out_features=768, bias=True)\n",
              "            (key): Linear(in_features=768, out_features=768, bias=True)\n",
              "            (value): Linear(in_features=768, out_features=768, bias=True)\n",
              "            (dropout): Dropout(p=0.1, inplace=False)\n",
              "          )\n",
              "          (output): BertSelfOutput(\n",
              "            (dense): Linear(in_features=768, out_features=768, bias=True)\n",
              "            (LayerNorm): LayerNorm((768,), eps=1e-12, elementwise_affine=True)\n",
              "            (dropout): Dropout(p=0.1, inplace=False)\n",
              "          )\n",
              "        )\n",
              "        (intermediate): BertIntermediate(\n",
              "          (dense): Linear(in_features=768, out_features=3072, bias=True)\n",
              "        )\n",
              "        (output): BertOutput(\n",
              "          (dense): Linear(in_features=3072, out_features=768, bias=True)\n",
              "          (LayerNorm): LayerNorm((768,), eps=1e-12, elementwise_affine=True)\n",
              "          (dropout): Dropout(p=0.1, inplace=False)\n",
              "        )\n",
              "      )\n",
              "      (9): BertLayer(\n",
              "        (attention): BertAttention(\n",
              "          (self): BertSelfAttention(\n",
              "            (query): Linear(in_features=768, out_features=768, bias=True)\n",
              "            (key): Linear(in_features=768, out_features=768, bias=True)\n",
              "            (value): Linear(in_features=768, out_features=768, bias=True)\n",
              "            (dropout): Dropout(p=0.1, inplace=False)\n",
              "          )\n",
              "          (output): BertSelfOutput(\n",
              "            (dense): Linear(in_features=768, out_features=768, bias=True)\n",
              "            (LayerNorm): LayerNorm((768,), eps=1e-12, elementwise_affine=True)\n",
              "            (dropout): Dropout(p=0.1, inplace=False)\n",
              "          )\n",
              "        )\n",
              "        (intermediate): BertIntermediate(\n",
              "          (dense): Linear(in_features=768, out_features=3072, bias=True)\n",
              "        )\n",
              "        (output): BertOutput(\n",
              "          (dense): Linear(in_features=3072, out_features=768, bias=True)\n",
              "          (LayerNorm): LayerNorm((768,), eps=1e-12, elementwise_affine=True)\n",
              "          (dropout): Dropout(p=0.1, inplace=False)\n",
              "        )\n",
              "      )\n",
              "      (10): BertLayer(\n",
              "        (attention): BertAttention(\n",
              "          (self): BertSelfAttention(\n",
              "            (query): Linear(in_features=768, out_features=768, bias=True)\n",
              "            (key): Linear(in_features=768, out_features=768, bias=True)\n",
              "            (value): Linear(in_features=768, out_features=768, bias=True)\n",
              "            (dropout): Dropout(p=0.1, inplace=False)\n",
              "          )\n",
              "          (output): BertSelfOutput(\n",
              "            (dense): Linear(in_features=768, out_features=768, bias=True)\n",
              "            (LayerNorm): LayerNorm((768,), eps=1e-12, elementwise_affine=True)\n",
              "            (dropout): Dropout(p=0.1, inplace=False)\n",
              "          )\n",
              "        )\n",
              "        (intermediate): BertIntermediate(\n",
              "          (dense): Linear(in_features=768, out_features=3072, bias=True)\n",
              "        )\n",
              "        (output): BertOutput(\n",
              "          (dense): Linear(in_features=3072, out_features=768, bias=True)\n",
              "          (LayerNorm): LayerNorm((768,), eps=1e-12, elementwise_affine=True)\n",
              "          (dropout): Dropout(p=0.1, inplace=False)\n",
              "        )\n",
              "      )\n",
              "      (11): BertLayer(\n",
              "        (attention): BertAttention(\n",
              "          (self): BertSelfAttention(\n",
              "            (query): Linear(in_features=768, out_features=768, bias=True)\n",
              "            (key): Linear(in_features=768, out_features=768, bias=True)\n",
              "            (value): Linear(in_features=768, out_features=768, bias=True)\n",
              "            (dropout): Dropout(p=0.1, inplace=False)\n",
              "          )\n",
              "          (output): BertSelfOutput(\n",
              "            (dense): Linear(in_features=768, out_features=768, bias=True)\n",
              "            (LayerNorm): LayerNorm((768,), eps=1e-12, elementwise_affine=True)\n",
              "            (dropout): Dropout(p=0.1, inplace=False)\n",
              "          )\n",
              "        )\n",
              "        (intermediate): BertIntermediate(\n",
              "          (dense): Linear(in_features=768, out_features=3072, bias=True)\n",
              "        )\n",
              "        (output): BertOutput(\n",
              "          (dense): Linear(in_features=3072, out_features=768, bias=True)\n",
              "          (LayerNorm): LayerNorm((768,), eps=1e-12, elementwise_affine=True)\n",
              "          (dropout): Dropout(p=0.1, inplace=False)\n",
              "        )\n",
              "      )\n",
              "    )\n",
              "  )\n",
              "  (pooler): BertPooler(\n",
              "    (dense): Linear(in_features=768, out_features=768, bias=True)\n",
              "    (activation): Tanh()\n",
              "  )\n",
              ")"
            ]
          },
          "metadata": {},
          "execution_count": 42
        }
      ]
    },
    {
      "cell_type": "markdown",
      "metadata": {
        "id": "aFE7YSbFdY4t"
      },
      "source": [
        "Попробуем использовать эту модель "
      ]
    },
    {
      "cell_type": "code",
      "metadata": {
        "id": "WCCJYiBPcxGF",
        "colab": {
          "base_uri": "https://localhost:8080/"
        },
        "outputId": "dcbeb5e3-fd8a-4c34-866b-66cdc258d5d6"
      },
      "source": [
        "tokenizer.convert_ids_to_tokens(encoding['input_ids'][0])"
      ],
      "execution_count": null,
      "outputs": [
        {
          "output_type": "execute_result",
          "data": {
            "text/plain": [
              "['[CLS]',\n",
              " 'He',\n",
              " 'started',\n",
              " 'a',\n",
              " 'new',\n",
              " 'book',\n",
              " ',',\n",
              " 'it',\n",
              " 'was',\n",
              " 'quite',\n",
              " 'read',\n",
              " '##able',\n",
              " '[SEP]',\n",
              " '[PAD]',\n",
              " '[PAD]',\n",
              " '[PAD]',\n",
              " '[PAD]',\n",
              " '[PAD]',\n",
              " '[PAD]',\n",
              " '[PAD]',\n",
              " '[PAD]',\n",
              " '[PAD]',\n",
              " '[PAD]',\n",
              " '[PAD]',\n",
              " '[PAD]',\n",
              " '[PAD]',\n",
              " '[PAD]',\n",
              " '[PAD]',\n",
              " '[PAD]',\n",
              " '[PAD]',\n",
              " '[PAD]',\n",
              " '[PAD]']"
            ]
          },
          "metadata": {},
          "execution_count": 43
        }
      ]
    },
    {
      "cell_type": "code",
      "source": [
        "encoding['attention_mask']"
      ],
      "metadata": {
        "id": "TV34Z0dElxlh",
        "colab": {
          "base_uri": "https://localhost:8080/"
        },
        "outputId": "ac84e6ce-9049-4054-f6ba-426c49c78ba0"
      },
      "execution_count": null,
      "outputs": [
        {
          "output_type": "execute_result",
          "data": {
            "text/plain": [
              "tensor([[1, 1, 1, 1, 1, 1, 1, 1, 1, 1, 1, 1, 1, 0, 0, 0, 0, 0, 0, 0, 0, 0, 0, 0,\n",
              "         0, 0, 0, 0, 0, 0, 0, 0]])"
            ]
          },
          "metadata": {},
          "execution_count": 44
        }
      ]
    },
    {
      "cell_type": "code",
      "metadata": {
        "id": "s1aoFxbQSn15"
      },
      "source": [
        "last_hidden_state, pooled_output, hidden_states = bert_model( \n",
        "  input_ids=encoding['input_ids'], \n",
        "  attention_mask=encoding['attention_mask'],\n",
        "  output_hidden_states=True,\n",
        "  return_dict=False)"
      ],
      "execution_count": null,
      "outputs": []
    },
    {
      "cell_type": "markdown",
      "metadata": {
        "id": "mLLu8zmqbaHV"
      },
      "source": [
        "\n",
        "В переменную last_hidden_state теперь записана последовательность скрытых состояний последнего слоя модели. "
      ]
    },
    {
      "cell_type": "code",
      "metadata": {
        "id": "Com9YcXq56s4",
        "colab": {
          "base_uri": "https://localhost:8080/"
        },
        "outputId": "58940aa0-6f6b-4040-8ad9-bb12b01b12e2"
      },
      "source": [
        "print(last_hidden_state.shape)\n",
        "print(pooled_output.shape)\n",
        "print(len(hidden_states))"
      ],
      "execution_count": null,
      "outputs": [
        {
          "output_type": "stream",
          "name": "stdout",
          "text": [
            "torch.Size([1, 32, 768])\n",
            "torch.Size([1, 768])\n",
            "13\n"
          ]
        }
      ]
    },
    {
      "cell_type": "code",
      "source": [
        "for state in hidden_states:\n",
        "  print(state.shape)"
      ],
      "metadata": {
        "colab": {
          "base_uri": "https://localhost:8080/"
        },
        "id": "TrR0vTdEBxBc",
        "outputId": "924a1ac2-5117-4bd7-89cd-9cbe756ecacd"
      },
      "execution_count": null,
      "outputs": [
        {
          "output_type": "stream",
          "name": "stdout",
          "text": [
            "torch.Size([1, 32, 768])\n",
            "torch.Size([1, 32, 768])\n",
            "torch.Size([1, 32, 768])\n",
            "torch.Size([1, 32, 768])\n",
            "torch.Size([1, 32, 768])\n",
            "torch.Size([1, 32, 768])\n",
            "torch.Size([1, 32, 768])\n",
            "torch.Size([1, 32, 768])\n",
            "torch.Size([1, 32, 768])\n",
            "torch.Size([1, 32, 768])\n",
            "torch.Size([1, 32, 768])\n",
            "torch.Size([1, 32, 768])\n",
            "torch.Size([1, 32, 768])\n"
          ]
        }
      ]
    },
    {
      "cell_type": "markdown",
      "metadata": {
        "id": "X037LcAV57be"
      },
      "source": [
        "Посмотрим на BERT эмбеддинги некоторых слов в предложениях."
      ]
    },
    {
      "cell_type": "code",
      "metadata": {
        "id": "ha5q0lci1FRq",
        "colab": {
          "base_uri": "https://localhost:8080/"
        },
        "outputId": "3b2a4ff6-6e4c-4534-d12e-b891e6ea5fad"
      },
      "source": [
        "text1 = df.loc[16]['content']\n",
        "text2 = df.loc[338]['content']\n",
        "print(text1)\n",
        "print(text2)"
      ],
      "execution_count": null,
      "outputs": [
        {
          "output_type": "stream",
          "name": "stdout",
          "text": [
            "Couldn't even set up one single recurring reminder without being required to pay monthly subscription. Get your greedy hand off it dev. It's only only a reminder app not a useful service.\n",
            "Well designed and all however alot of the crutial features are locked behind the premium which u need to pay for\n"
          ]
        }
      ]
    },
    {
      "cell_type": "code",
      "source": [
        "tokenizer = BertTokenizer.from_pretrained(PRE_TRAINED_MODEL_NAME)\n",
        "tokenizer2 = PreTrainedTokenizerFast.from_pretrained(PRE_TRAINED_MODEL_NAME)"
      ],
      "metadata": {
        "id": "bV7Wda1fW4P-",
        "colab": {
          "base_uri": "https://localhost:8080/"
        },
        "outputId": "60551511-40e7-4b5d-d539-bd0b946c8380"
      },
      "execution_count": null,
      "outputs": [
        {
          "output_type": "stream",
          "name": "stderr",
          "text": [
            "The tokenizer class you load from this checkpoint is not the same type as the class this function is called from. It may result in unexpected tokenization. \n",
            "The tokenizer class you load from this checkpoint is 'BertTokenizer'. \n",
            "The class this function is called from is 'PreTrainedTokenizerFast'.\n"
          ]
        }
      ]
    },
    {
      "cell_type": "code",
      "source": [
        "tokenizer2.sep_token = tokenizer.sep_token\n",
        "tokenizer2.pad_token = tokenizer.pad_token"
      ],
      "metadata": {
        "id": "zM08bP1uXiP6"
      },
      "execution_count": null,
      "outputs": []
    },
    {
      "cell_type": "code",
      "source": [
        "encoding = tokenizer.encode_plus(\n",
        "  text1,\n",
        "  max_length=30,\n",
        "  add_special_tokens=True, # Добавить '[CLS]' и '[SEP]'\n",
        "  return_token_type_ids=False,\n",
        "  padding='max_length',\n",
        "  return_attention_mask=True,\n",
        "  return_tensors='pt',  # Вернуть тензор PyTorch\n",
        "  truncation=True\n",
        ")"
      ],
      "metadata": {
        "id": "INqZId8frnqQ"
      },
      "execution_count": null,
      "outputs": []
    },
    {
      "cell_type": "code",
      "metadata": {
        "id": "reqA4ZdT1A3C"
      },
      "source": [
        "encoding2 = tokenizer2.encode_plus(\n",
        "  text1,\n",
        "  max_length=50,\n",
        "  add_special_tokens=True, # Добавить '[CLS]' и '[SEP]'\n",
        "  return_token_type_ids=False,\n",
        "  padding='max_length',\n",
        "  return_attention_mask=True,\n",
        "  return_tensors='pt',  # Вернуть тензор PyTorch\n",
        "  truncation=True,\n",
        "  return_offsets_mapping=True\n",
        ")"
      ],
      "execution_count": null,
      "outputs": []
    },
    {
      "cell_type": "code",
      "source": [
        "print(encoding.keys())\n",
        "print(encoding2.keys())"
      ],
      "metadata": {
        "id": "t60ByFGAYT7Q",
        "colab": {
          "base_uri": "https://localhost:8080/"
        },
        "outputId": "f93ccec2-fd7f-47e7-ecf7-4ba68334cce0"
      },
      "execution_count": null,
      "outputs": [
        {
          "output_type": "stream",
          "name": "stdout",
          "text": [
            "dict_keys(['input_ids', 'attention_mask'])\n",
            "dict_keys(['input_ids', 'attention_mask', 'offset_mapping'])\n"
          ]
        }
      ]
    },
    {
      "cell_type": "code",
      "source": [
        "encoding2['offset_mapping']"
      ],
      "metadata": {
        "id": "-9nt2Ddysl70",
        "colab": {
          "base_uri": "https://localhost:8080/"
        },
        "outputId": "cf6496a8-f108-41a5-b97e-c80694d08d57"
      },
      "execution_count": null,
      "outputs": [
        {
          "output_type": "execute_result",
          "data": {
            "text/plain": [
              "tensor([[[  0,   0],\n",
              "         [  0,   6],\n",
              "         [  6,   7],\n",
              "         [  7,   8],\n",
              "         [  9,  13],\n",
              "         [ 14,  17],\n",
              "         [ 18,  20],\n",
              "         [ 21,  24],\n",
              "         [ 25,  31],\n",
              "         [ 32,  41],\n",
              "         [ 42,  50],\n",
              "         [ 51,  58],\n",
              "         [ 59,  64],\n",
              "         [ 65,  73],\n",
              "         [ 74,  76],\n",
              "         [ 77,  80],\n",
              "         [ 81,  88],\n",
              "         [ 89, 101],\n",
              "         [101, 102],\n",
              "         [103, 106],\n",
              "         [107, 111],\n",
              "         [112, 118],\n",
              "         [119, 123],\n",
              "         [124, 127],\n",
              "         [128, 130],\n",
              "         [131, 133],\n",
              "         [133, 134],\n",
              "         [134, 135],\n",
              "         [136, 138],\n",
              "         [138, 139],\n",
              "         [139, 140],\n",
              "         [141, 145],\n",
              "         [146, 150],\n",
              "         [151, 152],\n",
              "         [153, 161],\n",
              "         [162, 165],\n",
              "         [166, 169],\n",
              "         [170, 171],\n",
              "         [172, 178],\n",
              "         [179, 186],\n",
              "         [186, 187],\n",
              "         [  0,   0],\n",
              "         [  0,   0],\n",
              "         [  0,   0],\n",
              "         [  0,   0],\n",
              "         [  0,   0],\n",
              "         [  0,   0],\n",
              "         [  0,   0],\n",
              "         [  0,   0],\n",
              "         [  0,   0]]])"
            ]
          },
          "metadata": {},
          "execution_count": 153
        }
      ]
    },
    {
      "cell_type": "code",
      "source": [
        "encoding['input_ids']"
      ],
      "metadata": {
        "id": "yt0K8ik0iO5Q",
        "colab": {
          "base_uri": "https://localhost:8080/"
        },
        "outputId": "2aa1187c-ab2c-443e-982c-b307e5264e24"
      },
      "execution_count": null,
      "outputs": [
        {
          "output_type": "execute_result",
          "data": {
            "text/plain": [
              "tensor([[  101, 23320,   112,   189,  1256,  1383,  1146,  1141,  1423, 10993,\n",
              "         15656,  1443,  1217,  2320,  1106,  2653,  7868, 16759,   119,  3949,\n",
              "          1240, 24007,  1289,  1228,  1122,  1260,  1964,   119,  1135,   102]])"
            ]
          },
          "metadata": {},
          "execution_count": 154
        }
      ]
    },
    {
      "cell_type": "code",
      "metadata": {
        "id": "T8nygWZx1PZ7"
      },
      "source": [
        "last_hidden_state, pooled_output = bert_model(\n",
        "  input_ids=encoding['input_ids'], \n",
        "  attention_mask=encoding['attention_mask'],\n",
        "  return_dict=False)"
      ],
      "execution_count": null,
      "outputs": []
    },
    {
      "cell_type": "code",
      "metadata": {
        "id": "g6TrIX_C1qug",
        "colab": {
          "base_uri": "https://localhost:8080/"
        },
        "outputId": "aabc43ab-450a-449b-b025-4db4692bda3a"
      },
      "source": [
        "print(tokenizer.convert_ids_to_tokens(encoding['input_ids'][0]))"
      ],
      "execution_count": null,
      "outputs": [
        {
          "output_type": "stream",
          "name": "stdout",
          "text": [
            "['[CLS]', 'Couldn', \"'\", 't', 'even', 'set', 'up', 'one', 'single', 'recurring', 'reminder', 'without', 'being', 'required', 'to', 'pay', 'monthly', 'subscription', '.', 'Get', 'your', 'greedy', 'hand', 'off', 'it', 'de', '##v', '.', 'It', '[SEP]']\n"
          ]
        }
      ]
    },
    {
      "cell_type": "code",
      "metadata": {
        "id": "XBnMYX6d1vle",
        "colab": {
          "base_uri": "https://localhost:8080/"
        },
        "outputId": "5fd4b875-ca34-4aed-9adf-9d7a94a1c59c"
      },
      "source": [
        "tokenizer.convert_ids_to_tokens(encoding['input_ids'][0]).index('subscription')"
      ],
      "execution_count": null,
      "outputs": [
        {
          "output_type": "execute_result",
          "data": {
            "text/plain": [
              "17"
            ]
          },
          "metadata": {},
          "execution_count": 51
        }
      ]
    },
    {
      "cell_type": "code",
      "metadata": {
        "id": "z-lnim963UXB",
        "colab": {
          "base_uri": "https://localhost:8080/"
        },
        "outputId": "e97b353b-e96e-48be-ba9a-7601f50c5116"
      },
      "source": [
        "emb1 = last_hidden_state[0, 17]\n",
        "emb1.shape"
      ],
      "execution_count": null,
      "outputs": [
        {
          "output_type": "execute_result",
          "data": {
            "text/plain": [
              "torch.Size([768])"
            ]
          },
          "metadata": {},
          "execution_count": 52
        }
      ]
    },
    {
      "cell_type": "code",
      "metadata": {
        "id": "TRWIeY_x4j1g"
      },
      "source": [
        "encoding2 = tokenizer.encode_plus(\n",
        "  text2,\n",
        "  max_length=30,\n",
        "  add_special_tokens=True, # Добавить '[CLS]' и '[SEP]'\n",
        "  return_token_type_ids=False,\n",
        "  padding='max_length',\n",
        "  return_attention_mask=True,\n",
        "  return_tensors='pt',  # Вернуть тензор PyTorch\n",
        "  truncation=True\n",
        ")\n",
        "\n",
        "last_hidden_state2, pooled_output2 = bert_model(\n",
        "  input_ids=encoding2['input_ids'], \n",
        "  attention_mask=encoding2['attention_mask'],\n",
        "  return_dict=False)"
      ],
      "execution_count": null,
      "outputs": []
    },
    {
      "cell_type": "code",
      "source": [
        "tokenizer.convert_ids_to_tokens(encoding2['input_ids'][0])"
      ],
      "metadata": {
        "id": "mbxcdGBTnweB",
        "colab": {
          "base_uri": "https://localhost:8080/"
        },
        "outputId": "4b46cbc0-2748-40f2-d6b9-4377884fa041"
      },
      "execution_count": null,
      "outputs": [
        {
          "output_type": "execute_result",
          "data": {
            "text/plain": [
              "['[CLS]',\n",
              " 'Well',\n",
              " 'designed',\n",
              " 'and',\n",
              " 'all',\n",
              " 'however',\n",
              " 'al',\n",
              " '##ot',\n",
              " 'of',\n",
              " 'the',\n",
              " 'c',\n",
              " '##ru',\n",
              " '##tial',\n",
              " 'features',\n",
              " 'are',\n",
              " 'locked',\n",
              " 'behind',\n",
              " 'the',\n",
              " 'premium',\n",
              " 'which',\n",
              " 'u',\n",
              " 'need',\n",
              " 'to',\n",
              " 'pay',\n",
              " 'for',\n",
              " '[SEP]',\n",
              " '[PAD]',\n",
              " '[PAD]',\n",
              " '[PAD]',\n",
              " '[PAD]']"
            ]
          },
          "metadata": {},
          "execution_count": 54
        }
      ]
    },
    {
      "cell_type": "code",
      "metadata": {
        "id": "o_GGHWTF4ygd",
        "colab": {
          "base_uri": "https://localhost:8080/"
        },
        "outputId": "3603880c-7127-4a96-fb58-72a5ebd5503f"
      },
      "source": [
        "tokenizer.convert_ids_to_tokens(encoding2['input_ids'][0]).index('premium')"
      ],
      "execution_count": null,
      "outputs": [
        {
          "output_type": "execute_result",
          "data": {
            "text/plain": [
              "18"
            ]
          },
          "metadata": {},
          "execution_count": 55
        }
      ]
    },
    {
      "cell_type": "code",
      "metadata": {
        "id": "hb9dLMbj41Z7",
        "colab": {
          "base_uri": "https://localhost:8080/"
        },
        "outputId": "83edf862-d9a3-4176-c343-06c7810c7036"
      },
      "source": [
        "emb2 = last_hidden_state2[0, 1]\n",
        "emb2.shape"
      ],
      "execution_count": null,
      "outputs": [
        {
          "output_type": "execute_result",
          "data": {
            "text/plain": [
              "torch.Size([768])"
            ]
          },
          "metadata": {},
          "execution_count": 60
        }
      ]
    },
    {
      "cell_type": "code",
      "metadata": {
        "id": "ux9mPEW_4OUg"
      },
      "source": [
        "from sklearn.metrics.pairwise import cosine_similarity"
      ],
      "execution_count": null,
      "outputs": []
    },
    {
      "cell_type": "code",
      "metadata": {
        "id": "mur06LJn5Mw9",
        "colab": {
          "base_uri": "https://localhost:8080/"
        },
        "outputId": "f9d8464f-376f-4a8c-faed-34eb21a4d060"
      },
      "source": [
        "cosine_similarity( [emb1.detach().cpu().numpy()], [emb2.detach().cpu().numpy()])"
      ],
      "execution_count": null,
      "outputs": [
        {
          "output_type": "execute_result",
          "data": {
            "text/plain": [
              "array([[0.50464517]], dtype=float32)"
            ]
          },
          "metadata": {},
          "execution_count": 61
        }
      ]
    },
    {
      "cell_type": "markdown",
      "metadata": {
        "id": "0o_NiS3WgOFf"
      },
      "source": [
        "Опишем наконец наш классификатор на основе BertModel"
      ]
    },
    {
      "cell_type": "code",
      "metadata": {
        "id": "m_mRflxPl32F"
      },
      "source": [
        "class SentimentClassifier(nn.Module):\n",
        "\n",
        "  def __init__(self, n_classes):\n",
        "    super().__init__()\n",
        "    self.bert = BertModel.from_pretrained(PRE_TRAINED_MODEL_NAME)\n",
        "    self.drop = nn.Dropout(p=0.3)\n",
        "    self.out = nn.Linear(self.bert.config.hidden_size, n_classes)\n",
        "  \n",
        "  def forward(self, input_ids, attention_mask):\n",
        "    _, pooled_output = self.bert(\n",
        "      input_ids=input_ids,\n",
        "      attention_mask=attention_mask,\n",
        "      return_dict=False)\n",
        "    output = self.drop(pooled_output)\n",
        "    return self.out(output)"
      ],
      "execution_count": null,
      "outputs": []
    },
    {
      "cell_type": "code",
      "metadata": {
        "id": "i0yQnuSFsjDp",
        "colab": {
          "base_uri": "https://localhost:8080/"
        },
        "outputId": "aa26211a-f548-425f-c785-0c3acf3b25eb"
      },
      "source": [
        "model = SentimentClassifier(len(class_names))\n",
        "model = model.to(device)"
      ],
      "execution_count": null,
      "outputs": [
        {
          "output_type": "stream",
          "name": "stderr",
          "text": [
            "Some weights of the model checkpoint at bert-base-cased were not used when initializing BertModel: ['cls.predictions.transform.dense.weight', 'cls.predictions.bias', 'cls.seq_relationship.bias', 'cls.predictions.transform.dense.bias', 'cls.predictions.transform.LayerNorm.bias', 'cls.seq_relationship.weight', 'cls.predictions.decoder.weight', 'cls.predictions.transform.LayerNorm.weight']\n",
            "- This IS expected if you are initializing BertModel from the checkpoint of a model trained on another task or with another architecture (e.g. initializing a BertForSequenceClassification model from a BertForPreTraining model).\n",
            "- This IS NOT expected if you are initializing BertModel from the checkpoint of a model that you expect to be exactly identical (initializing a BertForSequenceClassification model from a BertForSequenceClassification model).\n"
          ]
        }
      ]
    },
    {
      "cell_type": "code",
      "metadata": {
        "id": "WkSFYJ3a6aEr",
        "colab": {
          "base_uri": "https://localhost:8080/"
        },
        "outputId": "372ba54e-00da-4a2c-e69d-5b4daa988375"
      },
      "source": [
        "model"
      ],
      "execution_count": null,
      "outputs": [
        {
          "output_type": "execute_result",
          "data": {
            "text/plain": [
              "SentimentClassifier(\n",
              "  (bert): BertModel(\n",
              "    (embeddings): BertEmbeddings(\n",
              "      (word_embeddings): Embedding(28996, 768, padding_idx=0)\n",
              "      (position_embeddings): Embedding(512, 768)\n",
              "      (token_type_embeddings): Embedding(2, 768)\n",
              "      (LayerNorm): LayerNorm((768,), eps=1e-12, elementwise_affine=True)\n",
              "      (dropout): Dropout(p=0.1, inplace=False)\n",
              "    )\n",
              "    (encoder): BertEncoder(\n",
              "      (layer): ModuleList(\n",
              "        (0): BertLayer(\n",
              "          (attention): BertAttention(\n",
              "            (self): BertSelfAttention(\n",
              "              (query): Linear(in_features=768, out_features=768, bias=True)\n",
              "              (key): Linear(in_features=768, out_features=768, bias=True)\n",
              "              (value): Linear(in_features=768, out_features=768, bias=True)\n",
              "              (dropout): Dropout(p=0.1, inplace=False)\n",
              "            )\n",
              "            (output): BertSelfOutput(\n",
              "              (dense): Linear(in_features=768, out_features=768, bias=True)\n",
              "              (LayerNorm): LayerNorm((768,), eps=1e-12, elementwise_affine=True)\n",
              "              (dropout): Dropout(p=0.1, inplace=False)\n",
              "            )\n",
              "          )\n",
              "          (intermediate): BertIntermediate(\n",
              "            (dense): Linear(in_features=768, out_features=3072, bias=True)\n",
              "          )\n",
              "          (output): BertOutput(\n",
              "            (dense): Linear(in_features=3072, out_features=768, bias=True)\n",
              "            (LayerNorm): LayerNorm((768,), eps=1e-12, elementwise_affine=True)\n",
              "            (dropout): Dropout(p=0.1, inplace=False)\n",
              "          )\n",
              "        )\n",
              "        (1): BertLayer(\n",
              "          (attention): BertAttention(\n",
              "            (self): BertSelfAttention(\n",
              "              (query): Linear(in_features=768, out_features=768, bias=True)\n",
              "              (key): Linear(in_features=768, out_features=768, bias=True)\n",
              "              (value): Linear(in_features=768, out_features=768, bias=True)\n",
              "              (dropout): Dropout(p=0.1, inplace=False)\n",
              "            )\n",
              "            (output): BertSelfOutput(\n",
              "              (dense): Linear(in_features=768, out_features=768, bias=True)\n",
              "              (LayerNorm): LayerNorm((768,), eps=1e-12, elementwise_affine=True)\n",
              "              (dropout): Dropout(p=0.1, inplace=False)\n",
              "            )\n",
              "          )\n",
              "          (intermediate): BertIntermediate(\n",
              "            (dense): Linear(in_features=768, out_features=3072, bias=True)\n",
              "          )\n",
              "          (output): BertOutput(\n",
              "            (dense): Linear(in_features=3072, out_features=768, bias=True)\n",
              "            (LayerNorm): LayerNorm((768,), eps=1e-12, elementwise_affine=True)\n",
              "            (dropout): Dropout(p=0.1, inplace=False)\n",
              "          )\n",
              "        )\n",
              "        (2): BertLayer(\n",
              "          (attention): BertAttention(\n",
              "            (self): BertSelfAttention(\n",
              "              (query): Linear(in_features=768, out_features=768, bias=True)\n",
              "              (key): Linear(in_features=768, out_features=768, bias=True)\n",
              "              (value): Linear(in_features=768, out_features=768, bias=True)\n",
              "              (dropout): Dropout(p=0.1, inplace=False)\n",
              "            )\n",
              "            (output): BertSelfOutput(\n",
              "              (dense): Linear(in_features=768, out_features=768, bias=True)\n",
              "              (LayerNorm): LayerNorm((768,), eps=1e-12, elementwise_affine=True)\n",
              "              (dropout): Dropout(p=0.1, inplace=False)\n",
              "            )\n",
              "          )\n",
              "          (intermediate): BertIntermediate(\n",
              "            (dense): Linear(in_features=768, out_features=3072, bias=True)\n",
              "          )\n",
              "          (output): BertOutput(\n",
              "            (dense): Linear(in_features=3072, out_features=768, bias=True)\n",
              "            (LayerNorm): LayerNorm((768,), eps=1e-12, elementwise_affine=True)\n",
              "            (dropout): Dropout(p=0.1, inplace=False)\n",
              "          )\n",
              "        )\n",
              "        (3): BertLayer(\n",
              "          (attention): BertAttention(\n",
              "            (self): BertSelfAttention(\n",
              "              (query): Linear(in_features=768, out_features=768, bias=True)\n",
              "              (key): Linear(in_features=768, out_features=768, bias=True)\n",
              "              (value): Linear(in_features=768, out_features=768, bias=True)\n",
              "              (dropout): Dropout(p=0.1, inplace=False)\n",
              "            )\n",
              "            (output): BertSelfOutput(\n",
              "              (dense): Linear(in_features=768, out_features=768, bias=True)\n",
              "              (LayerNorm): LayerNorm((768,), eps=1e-12, elementwise_affine=True)\n",
              "              (dropout): Dropout(p=0.1, inplace=False)\n",
              "            )\n",
              "          )\n",
              "          (intermediate): BertIntermediate(\n",
              "            (dense): Linear(in_features=768, out_features=3072, bias=True)\n",
              "          )\n",
              "          (output): BertOutput(\n",
              "            (dense): Linear(in_features=3072, out_features=768, bias=True)\n",
              "            (LayerNorm): LayerNorm((768,), eps=1e-12, elementwise_affine=True)\n",
              "            (dropout): Dropout(p=0.1, inplace=False)\n",
              "          )\n",
              "        )\n",
              "        (4): BertLayer(\n",
              "          (attention): BertAttention(\n",
              "            (self): BertSelfAttention(\n",
              "              (query): Linear(in_features=768, out_features=768, bias=True)\n",
              "              (key): Linear(in_features=768, out_features=768, bias=True)\n",
              "              (value): Linear(in_features=768, out_features=768, bias=True)\n",
              "              (dropout): Dropout(p=0.1, inplace=False)\n",
              "            )\n",
              "            (output): BertSelfOutput(\n",
              "              (dense): Linear(in_features=768, out_features=768, bias=True)\n",
              "              (LayerNorm): LayerNorm((768,), eps=1e-12, elementwise_affine=True)\n",
              "              (dropout): Dropout(p=0.1, inplace=False)\n",
              "            )\n",
              "          )\n",
              "          (intermediate): BertIntermediate(\n",
              "            (dense): Linear(in_features=768, out_features=3072, bias=True)\n",
              "          )\n",
              "          (output): BertOutput(\n",
              "            (dense): Linear(in_features=3072, out_features=768, bias=True)\n",
              "            (LayerNorm): LayerNorm((768,), eps=1e-12, elementwise_affine=True)\n",
              "            (dropout): Dropout(p=0.1, inplace=False)\n",
              "          )\n",
              "        )\n",
              "        (5): BertLayer(\n",
              "          (attention): BertAttention(\n",
              "            (self): BertSelfAttention(\n",
              "              (query): Linear(in_features=768, out_features=768, bias=True)\n",
              "              (key): Linear(in_features=768, out_features=768, bias=True)\n",
              "              (value): Linear(in_features=768, out_features=768, bias=True)\n",
              "              (dropout): Dropout(p=0.1, inplace=False)\n",
              "            )\n",
              "            (output): BertSelfOutput(\n",
              "              (dense): Linear(in_features=768, out_features=768, bias=True)\n",
              "              (LayerNorm): LayerNorm((768,), eps=1e-12, elementwise_affine=True)\n",
              "              (dropout): Dropout(p=0.1, inplace=False)\n",
              "            )\n",
              "          )\n",
              "          (intermediate): BertIntermediate(\n",
              "            (dense): Linear(in_features=768, out_features=3072, bias=True)\n",
              "          )\n",
              "          (output): BertOutput(\n",
              "            (dense): Linear(in_features=3072, out_features=768, bias=True)\n",
              "            (LayerNorm): LayerNorm((768,), eps=1e-12, elementwise_affine=True)\n",
              "            (dropout): Dropout(p=0.1, inplace=False)\n",
              "          )\n",
              "        )\n",
              "        (6): BertLayer(\n",
              "          (attention): BertAttention(\n",
              "            (self): BertSelfAttention(\n",
              "              (query): Linear(in_features=768, out_features=768, bias=True)\n",
              "              (key): Linear(in_features=768, out_features=768, bias=True)\n",
              "              (value): Linear(in_features=768, out_features=768, bias=True)\n",
              "              (dropout): Dropout(p=0.1, inplace=False)\n",
              "            )\n",
              "            (output): BertSelfOutput(\n",
              "              (dense): Linear(in_features=768, out_features=768, bias=True)\n",
              "              (LayerNorm): LayerNorm((768,), eps=1e-12, elementwise_affine=True)\n",
              "              (dropout): Dropout(p=0.1, inplace=False)\n",
              "            )\n",
              "          )\n",
              "          (intermediate): BertIntermediate(\n",
              "            (dense): Linear(in_features=768, out_features=3072, bias=True)\n",
              "          )\n",
              "          (output): BertOutput(\n",
              "            (dense): Linear(in_features=3072, out_features=768, bias=True)\n",
              "            (LayerNorm): LayerNorm((768,), eps=1e-12, elementwise_affine=True)\n",
              "            (dropout): Dropout(p=0.1, inplace=False)\n",
              "          )\n",
              "        )\n",
              "        (7): BertLayer(\n",
              "          (attention): BertAttention(\n",
              "            (self): BertSelfAttention(\n",
              "              (query): Linear(in_features=768, out_features=768, bias=True)\n",
              "              (key): Linear(in_features=768, out_features=768, bias=True)\n",
              "              (value): Linear(in_features=768, out_features=768, bias=True)\n",
              "              (dropout): Dropout(p=0.1, inplace=False)\n",
              "            )\n",
              "            (output): BertSelfOutput(\n",
              "              (dense): Linear(in_features=768, out_features=768, bias=True)\n",
              "              (LayerNorm): LayerNorm((768,), eps=1e-12, elementwise_affine=True)\n",
              "              (dropout): Dropout(p=0.1, inplace=False)\n",
              "            )\n",
              "          )\n",
              "          (intermediate): BertIntermediate(\n",
              "            (dense): Linear(in_features=768, out_features=3072, bias=True)\n",
              "          )\n",
              "          (output): BertOutput(\n",
              "            (dense): Linear(in_features=3072, out_features=768, bias=True)\n",
              "            (LayerNorm): LayerNorm((768,), eps=1e-12, elementwise_affine=True)\n",
              "            (dropout): Dropout(p=0.1, inplace=False)\n",
              "          )\n",
              "        )\n",
              "        (8): BertLayer(\n",
              "          (attention): BertAttention(\n",
              "            (self): BertSelfAttention(\n",
              "              (query): Linear(in_features=768, out_features=768, bias=True)\n",
              "              (key): Linear(in_features=768, out_features=768, bias=True)\n",
              "              (value): Linear(in_features=768, out_features=768, bias=True)\n",
              "              (dropout): Dropout(p=0.1, inplace=False)\n",
              "            )\n",
              "            (output): BertSelfOutput(\n",
              "              (dense): Linear(in_features=768, out_features=768, bias=True)\n",
              "              (LayerNorm): LayerNorm((768,), eps=1e-12, elementwise_affine=True)\n",
              "              (dropout): Dropout(p=0.1, inplace=False)\n",
              "            )\n",
              "          )\n",
              "          (intermediate): BertIntermediate(\n",
              "            (dense): Linear(in_features=768, out_features=3072, bias=True)\n",
              "          )\n",
              "          (output): BertOutput(\n",
              "            (dense): Linear(in_features=3072, out_features=768, bias=True)\n",
              "            (LayerNorm): LayerNorm((768,), eps=1e-12, elementwise_affine=True)\n",
              "            (dropout): Dropout(p=0.1, inplace=False)\n",
              "          )\n",
              "        )\n",
              "        (9): BertLayer(\n",
              "          (attention): BertAttention(\n",
              "            (self): BertSelfAttention(\n",
              "              (query): Linear(in_features=768, out_features=768, bias=True)\n",
              "              (key): Linear(in_features=768, out_features=768, bias=True)\n",
              "              (value): Linear(in_features=768, out_features=768, bias=True)\n",
              "              (dropout): Dropout(p=0.1, inplace=False)\n",
              "            )\n",
              "            (output): BertSelfOutput(\n",
              "              (dense): Linear(in_features=768, out_features=768, bias=True)\n",
              "              (LayerNorm): LayerNorm((768,), eps=1e-12, elementwise_affine=True)\n",
              "              (dropout): Dropout(p=0.1, inplace=False)\n",
              "            )\n",
              "          )\n",
              "          (intermediate): BertIntermediate(\n",
              "            (dense): Linear(in_features=768, out_features=3072, bias=True)\n",
              "          )\n",
              "          (output): BertOutput(\n",
              "            (dense): Linear(in_features=3072, out_features=768, bias=True)\n",
              "            (LayerNorm): LayerNorm((768,), eps=1e-12, elementwise_affine=True)\n",
              "            (dropout): Dropout(p=0.1, inplace=False)\n",
              "          )\n",
              "        )\n",
              "        (10): BertLayer(\n",
              "          (attention): BertAttention(\n",
              "            (self): BertSelfAttention(\n",
              "              (query): Linear(in_features=768, out_features=768, bias=True)\n",
              "              (key): Linear(in_features=768, out_features=768, bias=True)\n",
              "              (value): Linear(in_features=768, out_features=768, bias=True)\n",
              "              (dropout): Dropout(p=0.1, inplace=False)\n",
              "            )\n",
              "            (output): BertSelfOutput(\n",
              "              (dense): Linear(in_features=768, out_features=768, bias=True)\n",
              "              (LayerNorm): LayerNorm((768,), eps=1e-12, elementwise_affine=True)\n",
              "              (dropout): Dropout(p=0.1, inplace=False)\n",
              "            )\n",
              "          )\n",
              "          (intermediate): BertIntermediate(\n",
              "            (dense): Linear(in_features=768, out_features=3072, bias=True)\n",
              "          )\n",
              "          (output): BertOutput(\n",
              "            (dense): Linear(in_features=3072, out_features=768, bias=True)\n",
              "            (LayerNorm): LayerNorm((768,), eps=1e-12, elementwise_affine=True)\n",
              "            (dropout): Dropout(p=0.1, inplace=False)\n",
              "          )\n",
              "        )\n",
              "        (11): BertLayer(\n",
              "          (attention): BertAttention(\n",
              "            (self): BertSelfAttention(\n",
              "              (query): Linear(in_features=768, out_features=768, bias=True)\n",
              "              (key): Linear(in_features=768, out_features=768, bias=True)\n",
              "              (value): Linear(in_features=768, out_features=768, bias=True)\n",
              "              (dropout): Dropout(p=0.1, inplace=False)\n",
              "            )\n",
              "            (output): BertSelfOutput(\n",
              "              (dense): Linear(in_features=768, out_features=768, bias=True)\n",
              "              (LayerNorm): LayerNorm((768,), eps=1e-12, elementwise_affine=True)\n",
              "              (dropout): Dropout(p=0.1, inplace=False)\n",
              "            )\n",
              "          )\n",
              "          (intermediate): BertIntermediate(\n",
              "            (dense): Linear(in_features=768, out_features=3072, bias=True)\n",
              "          )\n",
              "          (output): BertOutput(\n",
              "            (dense): Linear(in_features=3072, out_features=768, bias=True)\n",
              "            (LayerNorm): LayerNorm((768,), eps=1e-12, elementwise_affine=True)\n",
              "            (dropout): Dropout(p=0.1, inplace=False)\n",
              "          )\n",
              "        )\n",
              "      )\n",
              "    )\n",
              "    (pooler): BertPooler(\n",
              "      (dense): Linear(in_features=768, out_features=768, bias=True)\n",
              "      (activation): Tanh()\n",
              "    )\n",
              "  )\n",
              "  (drop): Dropout(p=0.3, inplace=False)\n",
              "  (out): Linear(in_features=768, out_features=3, bias=True)\n",
              ")"
            ]
          },
          "metadata": {},
          "execution_count": 65
        }
      ]
    },
    {
      "cell_type": "markdown",
      "metadata": {
        "id": "VCPCFDLlKIQd"
      },
      "source": [
        "Перенесем на GPU один из наших батчей (для примера)."
      ]
    },
    {
      "cell_type": "code",
      "metadata": {
        "id": "mz7p__CqdaMO",
        "colab": {
          "base_uri": "https://localhost:8080/"
        },
        "outputId": "55aec670-bc39-449d-b7de-195409521dd4"
      },
      "source": [
        "input_ids = data['input_ids'].to(device)\n",
        "attention_mask = data['attention_mask'].to(device)\n",
        "\n",
        "print(input_ids.shape) # batch size x seq length\n",
        "print(attention_mask.shape) # batch size x seq length"
      ],
      "execution_count": null,
      "outputs": [
        {
          "output_type": "stream",
          "name": "stdout",
          "text": [
            "torch.Size([16, 160])\n",
            "torch.Size([16, 160])\n"
          ]
        }
      ]
    },
    {
      "cell_type": "markdown",
      "source": [
        "Применим модель к данным."
      ],
      "metadata": {
        "id": "8LEkpdZtvJU9"
      }
    },
    {
      "cell_type": "code",
      "source": [
        "output = model(input_ids, attention_mask)\n",
        "output"
      ],
      "metadata": {
        "colab": {
          "base_uri": "https://localhost:8080/"
        },
        "id": "GifanMwVvHus",
        "outputId": "edab873d-1fa7-47a2-f564-1281e341c33e"
      },
      "execution_count": null,
      "outputs": [
        {
          "output_type": "execute_result",
          "data": {
            "text/plain": [
              "tensor([[ 0.5297, -0.3704,  0.3508],\n",
              "        [ 0.7211, -0.9522, -0.3788],\n",
              "        [ 0.3662, -0.2921, -0.1734],\n",
              "        [ 0.3625, -0.5185,  0.4058],\n",
              "        [ 0.7734,  0.0146, -0.7344],\n",
              "        [ 0.5222, -0.5815, -0.4113],\n",
              "        [ 0.5610, -0.1680, -0.3687],\n",
              "        [-0.2049,  0.5436, -0.5340],\n",
              "        [ 0.5701, -0.3247, -0.7452],\n",
              "        [ 0.7474, -0.8923, -0.4439],\n",
              "        [ 0.6459, -0.7971, -0.5833],\n",
              "        [ 0.1213, -1.0518, -0.4651],\n",
              "        [ 0.2027,  0.2440, -0.9495],\n",
              "        [ 0.2665,  0.1556, -0.4168],\n",
              "        [ 0.4015, -0.1666, -0.2669],\n",
              "        [ 0.1709,  0.0257, -0.4017]], grad_fn=<AddmmBackward0>)"
            ]
          },
          "metadata": {},
          "execution_count": 67
        }
      ]
    },
    {
      "cell_type": "markdown",
      "metadata": {
        "id": "Hr1EgkEtKOIB"
      },
      "source": [
        "Если хотим получить вероятности классов, применяем SoftMax к выходу модели."
      ]
    },
    {
      "cell_type": "code",
      "metadata": {
        "id": "2rTCj46Zamry",
        "colab": {
          "base_uri": "https://localhost:8080/"
        },
        "outputId": "97a9d108-eaf8-48cc-8430-efdd3c0935f8"
      },
      "source": [
        "F.softmax(output, dim=1)"
      ],
      "execution_count": null,
      "outputs": [
        {
          "output_type": "execute_result",
          "data": {
            "text/plain": [
              "tensor([[0.3961, 0.2909, 0.3130],\n",
              "        [0.4446, 0.2422, 0.3132],\n",
              "        [0.6045, 0.1625, 0.2330],\n",
              "        [0.5477, 0.2357, 0.2167],\n",
              "        [0.6289, 0.1761, 0.1950],\n",
              "        [0.5411, 0.2177, 0.2412],\n",
              "        [0.5020, 0.2836, 0.2144],\n",
              "        [0.5496, 0.3105, 0.1398],\n",
              "        [0.3299, 0.2894, 0.3806],\n",
              "        [0.4371, 0.3016, 0.2613],\n",
              "        [0.5042, 0.2752, 0.2205],\n",
              "        [0.5012, 0.3035, 0.1953],\n",
              "        [0.5399, 0.2124, 0.2477],\n",
              "        [0.3931, 0.2966, 0.3103],\n",
              "        [0.5776, 0.2105, 0.2120],\n",
              "        [0.4582, 0.2764, 0.2654]], device='cuda:0', grad_fn=<SoftmaxBackward0>)"
            ]
          },
          "metadata": {},
          "execution_count": 74
        }
      ]
    },
    {
      "cell_type": "markdown",
      "metadata": {
        "id": "g9xikRdtRN1N"
      },
      "source": [
        "## Обучение модели"
      ]
    },
    {
      "cell_type": "markdown",
      "metadata": {
        "id": "76g7FV85H-T8"
      },
      "source": [
        "Для дообучения модели будем использовать оптимизатор [AdamW](https://huggingface.co/transformers/main_classes/optimizer_schedules.html#adamw) из библиотеки Hugging Face. \n",
        "\n"
      ]
    },
    {
      "cell_type": "markdown",
      "metadata": {
        "id": "Ku3RfLMEBYSe"
      },
      "source": [
        "Авторы модели BERT рекомендуют использовать следующие параметры для дообучения модели:\n",
        "- Размер батча: 16, 32\n",
        "- Learning rate (с оптимайзером Adam): 5e-5, 3e-5, 2e-5\n",
        "- Количество эпох: 2, 3, 4"
      ]
    },
    {
      "cell_type": "code",
      "source": [
        "\n",
        "#как заморозить отдельные слои\n",
        "freeze_layers = list(range(5))\n",
        "for layer_id in freeze_layers:\n",
        "  for param in list(model.bert.encoder.layer[layer_id].parameters()):\n",
        "    param.requires_grad = False\n"
      ],
      "metadata": {
        "id": "Z6wtSetV5Qr5"
      },
      "execution_count": null,
      "outputs": []
    },
    {
      "cell_type": "code",
      "source": [
        "list(model.bert.encoder.layer[3].parameters())[0]"
      ],
      "metadata": {
        "id": "aSo8SlrH9GGF",
        "colab": {
          "base_uri": "https://localhost:8080/"
        },
        "outputId": "15fb0c29-773b-435e-ec98-dd9d6d683bc0"
      },
      "execution_count": null,
      "outputs": [
        {
          "output_type": "execute_result",
          "data": {
            "text/plain": [
              "Parameter containing:\n",
              "tensor([[ 0.0408,  0.0030,  0.0493,  ..., -0.0447,  0.0018,  0.0092],\n",
              "        [-0.0179,  0.0101,  0.0018,  ..., -0.0078,  0.0205,  0.0202],\n",
              "        [ 0.0064, -0.0355,  0.0388,  ...,  0.0118,  0.0331, -0.0531],\n",
              "        ...,\n",
              "        [ 0.1221, -0.0232,  0.1091,  ..., -0.0366, -0.0166,  0.0676],\n",
              "        [-0.0261,  0.0560,  0.0429,  ...,  0.0124, -0.0057, -0.0347],\n",
              "        [ 0.0665, -0.0589,  0.0258,  ...,  0.0240,  0.0202,  0.0290]],\n",
              "       requires_grad=True)"
            ]
          },
          "metadata": {},
          "execution_count": 77
        }
      ]
    },
    {
      "cell_type": "code",
      "metadata": {
        "id": "5v-ArJ2fCCcU"
      },
      "source": [
        "EPOCHS = 2\n",
        "\n",
        "#optimizer = AdamW(model.parameters(), lr=2e-5, correct_bias=False)\n",
        "optimizer = AdamW(filter(lambda p: p.requires_grad, model.parameters()), lr=2e-5, correct_bias=False)\n",
        "total_steps = len(train_data_loader) * EPOCHS\n",
        "\n",
        "scheduler = get_linear_schedule_with_warmup(\n",
        "  optimizer,\n",
        "  num_warmup_steps=0,\n",
        "  num_training_steps=total_steps\n",
        ")\n",
        "\n",
        "loss_fn = nn.CrossEntropyLoss().to(device)"
      ],
      "execution_count": null,
      "outputs": []
    },
    {
      "cell_type": "markdown",
      "metadata": {
        "id": "A8522g7JIu5J"
      },
      "source": [
        "Реализуем функцию для одной эпохи обучения"
      ]
    },
    {
      "cell_type": "code",
      "metadata": {
        "id": "bzl9UhuNx1_Q"
      },
      "source": [
        "def train_epoch(\n",
        "  model, \n",
        "  data_loader, \n",
        "  loss_fn, \n",
        "  optimizer, \n",
        "  device, \n",
        "  scheduler, \n",
        "  n_examples\n",
        "):\n",
        "  model = model.train()\n",
        "\n",
        "  losses = []\n",
        "  correct_predictions = 0\n",
        "  \n",
        "  for d in data_loader:\n",
        "    input_ids = d[\"input_ids\"].to(device)\n",
        "    attention_mask = d[\"attention_mask\"].to(device)\n",
        "    targets = d[\"targets\"].to(device)\n",
        "\n",
        "    outputs = model(\n",
        "      input_ids=input_ids,\n",
        "      attention_mask=attention_mask\n",
        "    )\n",
        "\n",
        "    preds = torch.argmax(outputs, dim=1)\n",
        "    loss = loss_fn(outputs, targets)\n",
        "\n",
        "    correct_predictions += torch.sum(preds == targets)\n",
        "    losses.append(loss.item())\n",
        "\n",
        "    loss.backward()\n",
        "    optimizer.step()\n",
        "    scheduler.step()\n",
        "    optimizer.zero_grad()\n",
        "\n",
        "  return correct_predictions / n_examples, np.mean(losses)"
      ],
      "execution_count": null,
      "outputs": []
    },
    {
      "cell_type": "markdown",
      "metadata": {
        "id": "E4PniYIte0fr"
      },
      "source": [
        "Также реализуем функцию для оценки качества модели на данных из data_loader"
      ]
    },
    {
      "cell_type": "code",
      "metadata": {
        "id": "CXeRorVGIKre"
      },
      "source": [
        "def eval_model(model, data_loader, loss_fn, device, n_examples):\n",
        "  model = model.eval()\n",
        "\n",
        "  losses = []\n",
        "  correct_predictions = 0\n",
        "\n",
        "  with torch.no_grad():\n",
        "    for d in data_loader:\n",
        "      input_ids = d[\"input_ids\"].to(device)\n",
        "      attention_mask = d[\"attention_mask\"].to(device)\n",
        "      targets = d[\"targets\"].to(device)\n",
        "\n",
        "      outputs = model(\n",
        "        input_ids=input_ids,\n",
        "        attention_mask=attention_mask\n",
        "      )\n",
        "      preds = torch.argmax(outputs, dim=1)\n",
        "\n",
        "      loss = loss_fn(outputs, targets)\n",
        "\n",
        "      correct_predictions += torch.sum(preds == targets)\n",
        "      losses.append(loss.item())\n",
        "\n",
        "  return correct_predictions / n_examples, np.mean(losses)"
      ],
      "execution_count": null,
      "outputs": []
    },
    {
      "cell_type": "markdown",
      "metadata": {
        "id": "a_rdSDBHhhCh"
      },
      "source": [
        "Используя эти две функции, описанные выше, реализуем процедуру дообучения нашей модели "
      ]
    },
    {
      "cell_type": "code",
      "metadata": {
        "id": "xHbOmV_hJ5Ny",
        "colab": {
          "base_uri": "https://localhost:8080/"
        },
        "outputId": "e95277e2-9463-423c-aa9b-d7323af90d18"
      },
      "source": [
        "%%time\n",
        "\n",
        "history = defaultdict(list)\n",
        "best_accuracy = 0\n",
        "\n",
        "for epoch in range(EPOCHS):\n",
        "\n",
        "  print(f'Epoch {epoch + 1}/{EPOCHS}')\n",
        "  print('-' * 10)\n",
        "\n",
        "  train_acc, train_loss = train_epoch(\n",
        "    model,\n",
        "    train_data_loader,    \n",
        "    loss_fn, \n",
        "    optimizer, \n",
        "    device, \n",
        "    scheduler, \n",
        "    len(df_train)\n",
        "  )\n",
        "\n",
        "  print(f'Train loss {train_loss} accuracy {train_acc}')\n",
        "\n",
        "  val_acc, val_loss = eval_model(\n",
        "    model,\n",
        "    val_data_loader,\n",
        "    loss_fn, \n",
        "    device, \n",
        "    len(df_val)\n",
        "  )\n",
        "\n",
        "  print(f'Val loss {val_loss} accuracy {val_acc}')\n",
        "  print()\n",
        "\n",
        "  history['train_acc'].append(train_acc)\n",
        "  history['train_loss'].append(train_loss)\n",
        "  history['val_acc'].append(val_acc)\n",
        "  history['val_loss'].append(val_loss)\n",
        "\n",
        "  if val_acc > best_accuracy:\n",
        "    torch.save(model.state_dict(), 'best_model_state.bin')\n",
        "    best_accuracy = val_acc"
      ],
      "execution_count": null,
      "outputs": [
        {
          "output_type": "stream",
          "name": "stdout",
          "text": [
            "Epoch 1/2\n",
            "----------\n",
            "Train loss 0.7657513116942571 accuracy 0.63898104429245\n",
            "Val loss 0.6620123326778412 accuracy 0.7064802646636963\n",
            "\n",
            "Epoch 2/2\n",
            "----------\n",
            "Train loss 0.6457155160858185 accuracy 0.711876392364502\n",
            "Val loss 0.6364050817489624 accuracy 0.714104175567627\n",
            "\n",
            "CPU times: user 18min 25s, sys: 4.96 s, total: 18min 30s\n",
            "Wall time: 18min 46s\n"
          ]
        }
      ]
    },
    {
      "cell_type": "markdown",
      "metadata": {
        "id": "4r8-5zWsiVur"
      },
      "source": [
        "\n",
        "При обучении модели мы сохраняем веса наилучшей модели на основе точности на валидационной выборке.\n",
        "\n",
        "Обучение модели занимает некоторое время. Теперь мы можем сравнить точность на валидационной и на обучающей выборке."
      ]
    },
    {
      "cell_type": "code",
      "source": [
        "history['train_acc'] = [score.to('cpu') for score in  history['train_acc']]\n",
        "history['val_acc'] = [score.to('cpu') for score in  history['val_acc']]"
      ],
      "metadata": {
        "id": "VUsQT31nIKJL"
      },
      "execution_count": null,
      "outputs": []
    },
    {
      "cell_type": "code",
      "metadata": {
        "id": "60vAuburGsBk",
        "colab": {
          "base_uri": "https://localhost:8080/",
          "height": 415
        },
        "outputId": "82f9bce6-f6af-456d-e7d9-66ac610e8e03"
      },
      "source": [
        "plt.plot(history['train_acc'], label='train accuracy')\n",
        "plt.plot(history['val_acc'], label='validation accuracy')\n",
        "\n",
        "plt.title('Training history')\n",
        "plt.ylabel('Accuracy')\n",
        "plt.xlabel('Epoch')\n",
        "plt.legend()\n",
        "plt.ylim([0, 1]);"
      ],
      "execution_count": null,
      "outputs": [
        {
          "output_type": "display_data",
          "data": {
            "image/png": "[encoded data removed]",
            "text/plain": [
              "<Figure size 576x432 with 1 Axes>"
            ]
          },
          "metadata": {
            "image/png": {
              "width": 509,
              "height": 398
            }
          }
        }
      ]
    },
    {
      "cell_type": "code",
      "source": [
        "'''\n",
        "model = SentimentClassifier(len(class_names))\n",
        "model.load_state_dict(torch.load('best_model_state.bin'))\n",
        "model = model.to(device)\n",
        "'''"
      ],
      "metadata": {
        "id": "z3QEuCDb_EzD"
      },
      "execution_count": null,
      "outputs": []
    },
    {
      "cell_type": "markdown",
      "metadata": {
        "id": "kU9MfvTQC9wh"
      },
      "source": [
        "## Оценка результатов работы модели"
      ]
    },
    {
      "cell_type": "markdown",
      "metadata": {
        "id": "dnaSaPXMCuBJ"
      },
      "source": [
        "Подсчитаем точность (accuracy) модели на тестовой выборке."
      ]
    },
    {
      "cell_type": "code",
      "metadata": {
        "id": "jS3gJ_qBEljD",
        "colab": {
          "base_uri": "https://localhost:8080/"
        },
        "outputId": "4fb69280-f5e8-49d8-ee26-6a9881640c2c"
      },
      "source": [
        "test_acc, _ = eval_model(\n",
        "  model,\n",
        "  test_data_loader,\n",
        "  loss_fn,\n",
        "  device,\n",
        "  len(df_test)\n",
        ")\n",
        "\n",
        "test_acc.item()"
      ],
      "execution_count": null,
      "outputs": [
        {
          "output_type": "execute_result",
          "data": {
            "text/plain": [
              "0.7068527936935425"
            ]
          },
          "metadata": {},
          "execution_count": 185
        }
      ]
    },
    {
      "cell_type": "markdown",
      "metadata": {
        "id": "PRfeDJUSDKel"
      },
      "source": [
        "Accuracy на тестовых данных и на валидационной выборке дают близкие значения. Из этого можно сделать вывод, что получившаяся модель обладает хорошей обобщающей способностью."
      ]
    },
    {
      "cell_type": "markdown",
      "metadata": {
        "id": "s1z8MZ3GDZsl"
      },
      "source": [
        "Теперь реализуем вспомогательную функцию, которая будет получать предсказания из нашей модели."
      ]
    },
    {
      "cell_type": "code",
      "metadata": {
        "id": "EgR6MuNS8jr_"
      },
      "source": [
        "def get_predictions(model, data_loader):\n",
        "  model = model.eval()\n",
        "  \n",
        "  review_texts = []\n",
        "  predictions = []\n",
        "  prediction_probs = []\n",
        "  real_values = []\n",
        "\n",
        "  with torch.no_grad():\n",
        "    for d in data_loader:\n",
        "\n",
        "      texts = d[\"review_text\"]\n",
        "      input_ids = d[\"input_ids\"].to(device)\n",
        "      attention_mask = d[\"attention_mask\"].to(device)\n",
        "      targets = d[\"targets\"].to(device)\n",
        "\n",
        "      outputs = model(\n",
        "        input_ids=input_ids,\n",
        "        attention_mask=attention_mask\n",
        "      )\n",
        "      preds = torch.argmax(outputs, dim=1)\n",
        "\n",
        "      probs = F.softmax(outputs, dim=1)\n",
        "\n",
        "      review_texts.extend(texts)\n",
        "      predictions.extend(preds)\n",
        "      prediction_probs.extend(probs)\n",
        "      real_values.extend(targets)\n",
        "\n",
        "  predictions = torch.stack(predictions).cpu()\n",
        "  prediction_probs = torch.stack(prediction_probs).cpu()\n",
        "  real_values = torch.stack(real_values).cpu()\n",
        "  return review_texts, predictions, prediction_probs, real_values"
      ],
      "execution_count": null,
      "outputs": []
    },
    {
      "cell_type": "code",
      "metadata": {
        "id": "zHdPZr60-0c_"
      },
      "source": [
        "y_review_texts, y_pred, y_pred_probs, y_test = get_predictions(model, test_data_loader)"
      ],
      "execution_count": null,
      "outputs": []
    },
    {
      "cell_type": "markdown",
      "metadata": {
        "id": "rnVDSjRyCK68"
      },
      "source": [
        "Давайте посмотрим на результаты работы модели на тестовой выборке."
      ]
    },
    {
      "cell_type": "code",
      "metadata": {
        "id": "iDbqogdAHPkp",
        "colab": {
          "base_uri": "https://localhost:8080/"
        },
        "outputId": "d18a7832-936e-430e-d1dd-b1d707d67d1b"
      },
      "source": [
        "print(classification_report(y_test, y_pred, target_names=class_names))"
      ],
      "execution_count": null,
      "outputs": [
        {
          "output_type": "stream",
          "name": "stdout",
          "text": [
            "              precision    recall  f1-score   support\n",
            "\n",
            "    negative       0.74      0.69      0.72       262\n",
            "     neutral       0.55      0.59      0.57       235\n",
            "    positive       0.81      0.81      0.81       291\n",
            "\n",
            "    accuracy                           0.71       788\n",
            "   macro avg       0.70      0.70      0.70       788\n",
            "weighted avg       0.71      0.71      0.71       788\n",
            "\n"
          ]
        }
      ]
    },
    {
      "cell_type": "markdown",
      "metadata": {
        "id": "4sCG_6yOCHdU"
      },
      "source": [
        "Из данного отчета видно, что сложнее всего классифицировать нейтральные отзывы. \n",
        "\n",
        "Посмотрим также на confusion matrix предсказаний модели на тестовой выборке."
      ]
    },
    {
      "cell_type": "code",
      "metadata": {
        "id": "NdDoXRERHXLb",
        "colab": {
          "base_uri": "https://localhost:8080/",
          "height": 425
        },
        "outputId": "56dd7cea-2444-40cd-acb1-90557ea32ef4"
      },
      "source": [
        "def show_confusion_matrix(confusion_matrix):\n",
        "  hmap = sns.heatmap(confusion_matrix, annot=True, fmt=\"d\", cmap=\"Blues\")\n",
        "  hmap.yaxis.set_ticklabels(hmap.yaxis.get_ticklabels(), rotation=0, ha='right')\n",
        "  hmap.xaxis.set_ticklabels(hmap.xaxis.get_ticklabels(), rotation=30, ha='right')\n",
        "  plt.ylabel('True sentiment')\n",
        "  plt.xlabel('Predicted sentiment');\n",
        "\n",
        "cm = confusion_matrix(y_test, y_pred)\n",
        "df_cm = pd.DataFrame(cm, index=class_names, columns=class_names)\n",
        "show_confusion_matrix(df_cm)"
      ],
      "execution_count": null,
      "outputs": [
        {
          "output_type": "display_data",
          "data": {
            "image/png": "[encoded data removed]",
            "text/plain": [
              "<Figure size 576x432 with 2 Axes>"
            ]
          },
          "metadata": {
            "image/png": {
              "width": 530,
              "height": 408
            }
          }
        }
      ]
    },
    {
      "cell_type": "markdown",
      "metadata": {
        "id": "GNoVbpaAChVs"
      },
      "source": [
        "Здесь также можно видеть, что модели сложнее всего классифицировать нейтральные отзывы. "
      ]
    },
    {
      "cell_type": "code",
      "metadata": {
        "id": "iANBiY3sLo-K"
      },
      "source": [
        "idx = 2\n",
        "\n",
        "review_text = y_review_texts[idx]\n",
        "true_sentiment = y_test[idx]\n",
        "pred_df = pd.DataFrame({\n",
        "  'class_names': class_names,\n",
        "  'values': y_pred_probs[idx]\n",
        "})"
      ],
      "execution_count": null,
      "outputs": []
    },
    {
      "cell_type": "code",
      "metadata": {
        "id": "86tsR-3fHf4a",
        "colab": {
          "base_uri": "https://localhost:8080/"
        },
        "outputId": "accb8a88-5d45-4514-f4d4-b6f797924db6"
      },
      "source": [
        "print(\"\\n\".join(wrap(review_text)))\n",
        "print()\n",
        "print(f'True sentiment: {class_names[true_sentiment]}')"
      ],
      "execution_count": null,
      "outputs": [
        {
          "output_type": "stream",
          "name": "stdout",
          "text": [
            "Good\n",
            "\n",
            "True sentiment: negative\n"
          ]
        }
      ]
    },
    {
      "cell_type": "markdown",
      "metadata": {
        "id": "7WL5pDmvFyaU"
      },
      "source": [
        "## Предсказание на произвольных текстах"
      ]
    },
    {
      "cell_type": "markdown",
      "metadata": {
        "id": "G1cg2r4SvLrT"
      },
      "source": [
        "Теперь нам осталось научиться использовать нашу модель для предсказания тональности любого текста."
      ]
    },
    {
      "cell_type": "code",
      "metadata": {
        "id": "QEPi7zQRsDhH"
      },
      "source": [
        "review_text = \"I love completing my todos! Best app ever!!!\""
      ],
      "execution_count": null,
      "outputs": []
    },
    {
      "cell_type": "markdown",
      "metadata": {
        "id": "SBSHv23kvXeO"
      },
      "source": [
        "Для использования нашей модели нам следует токенизировать текст соответствующим образом."
      ]
    },
    {
      "cell_type": "code",
      "metadata": {
        "id": "zA5Or4D2sLc9"
      },
      "source": [
        "encoded_review = tokenizer.encode_plus(\n",
        "  review_text,\n",
        "  max_length=MAX_LEN,\n",
        "  add_special_tokens=True,\n",
        "  return_token_type_ids=False,\n",
        "  padding='max_length',\n",
        "  return_attention_mask=True,\n",
        "  return_tensors='pt',\n",
        "  truncation=True\n",
        ")"
      ],
      "execution_count": null,
      "outputs": []
    },
    {
      "cell_type": "markdown",
      "metadata": {
        "id": "foCrgUbJvF1R"
      },
      "source": [
        "Теперь получим предсказания нашей модели."
      ]
    },
    {
      "cell_type": "code",
      "metadata": {
        "id": "5Ue9pEDKHmFo",
        "colab": {
          "base_uri": "https://localhost:8080/"
        },
        "outputId": "56a1b9ad-873b-41e0-fe2e-c827b01c3762"
      },
      "source": [
        "input_ids = encoded_review['input_ids'].to(device)\n",
        "attention_mask = encoded_review['attention_mask'].to(device)\n",
        "\n",
        "output = model(input_ids, attention_mask)\n",
        "prediction = torch.argmax(output, dim=1)\n",
        "\n",
        "print(f'Review text: {review_text}')\n",
        "print(f'Sentiment  : {class_names[prediction]}')"
      ],
      "execution_count": null,
      "outputs": [
        {
          "output_type": "stream",
          "name": "stdout",
          "text": [
            "Review text: I love completing my todos! Best app ever!!!\n",
            "Sentiment  : positive\n"
          ]
        }
      ]
    },
    {
      "cell_type": "markdown",
      "source": [
        "##Trainer от HuggingFace"
      ],
      "metadata": {
        "id": "AFKxh5qXH_LK"
      }
    },
    {
      "cell_type": "markdown",
      "metadata": {
        "id": "64DRqKO6tJl_"
      },
      "source": [
        "Библиотека HuggingFace предоставляет инструменты, которые упрощают обучение и оценку моделей, выложенных в репозиторий библиотеки. Рассмотрим эти инструменты на примере задачи анализа тональности. Будем обучать и оценивать модели на датасете imdb, состоящем из отзывов пользователей о фильмах. "
      ]
    },
    {
      "cell_type": "markdown",
      "metadata": {
        "id": "tvylLzPExI-s"
      },
      "source": [
        "Оригинал: https://huggingface.co/transformers/custom_datasets.html#sequence-classification-with-imdb-reviews"
      ]
    },
    {
      "cell_type": "markdown",
      "metadata": {
        "id": "raN5EbyzCEGk"
      },
      "source": [
        "Для загрузки датасета воспользуемся библиотекой datasets, реализованной HuggingFace. Данная библиотека предоставляет возможность быстро и удобно скачивать различные бенчмарки: https://huggingface.co/datasets"
      ]
    },
    {
      "cell_type": "code",
      "metadata": {
        "id": "oXw9Ekh-_AtO"
      },
      "source": [
        "!pip install datasets"
      ],
      "execution_count": null,
      "outputs": []
    },
    {
      "cell_type": "code",
      "metadata": {
        "id": "7P8PRBML_Idu",
        "colab": {
          "base_uri": "https://localhost:8080/",
          "height": 67,
          "referenced_widgets": [
            "225b2a1d46514844926bf611e8e1d8a0",
            "6386df0c86c448b3a1737977e5085fdf",
            "04e66aae56a64e659cb951f63b316dc2",
            "789501d8c78a4f578a3de953e31cd9e1",
            "096ac6eb1eef4b88a4e82f6499a50718",
            "e3cba78c23684886b03e01af46960765",
            "e0f03398aefa4252adab7964e34cd973",
            "d445a1ffc9f944bea30057747b6c4cb4",
            "06e685e264fb408a96d9c7563be94bb8",
            "cd0974bc59364679a99e48d2a8a9ade5",
            "4ac8d2d7c223420a8d184caf3971ea81"
          ]
        },
        "outputId": "c687f1db-5d59-46ed-c190-bebabc800887"
      },
      "source": [
        "from datasets import load_dataset\n",
        "\n",
        "imdb_dataset = load_dataset('imdb')"
      ],
      "execution_count": null,
      "outputs": [
        {
          "output_type": "stream",
          "name": "stderr",
          "text": [
            "Reusing dataset imdb (/root/.cache/huggingface/datasets/imdb/plain_text/1.0.0/2fdd8b9bcadd6e7055e742a706876ba43f19faee861df134affd7a3f60fc38a1)\n"
          ]
        },
        {
          "output_type": "display_data",
          "data": {
            "application/vnd.jupyter.widget-view+json": {
              "model_id": "225b2a1d46514844926bf611e8e1d8a0",
              "version_minor": 0,
              "version_major": 2
            },
            "text/plain": [
              "  0%|          | 0/3 [00:00<?, ?it/s]"
            ]
          },
          "metadata": {}
        }
      ]
    },
    {
      "cell_type": "code",
      "metadata": {
        "id": "OiDZ4HtX_lBj",
        "colab": {
          "base_uri": "https://localhost:8080/"
        },
        "outputId": "76f4431c-c0b1-4be2-d52b-d33105c4265a"
      },
      "source": [
        "imdb_dataset"
      ],
      "execution_count": null,
      "outputs": [
        {
          "output_type": "execute_result",
          "data": {
            "text/plain": [
              "DatasetDict({\n",
              "    train: Dataset({\n",
              "        features: ['text', 'label'],\n",
              "        num_rows: 25000\n",
              "    })\n",
              "    test: Dataset({\n",
              "        features: ['text', 'label'],\n",
              "        num_rows: 25000\n",
              "    })\n",
              "    unsupervised: Dataset({\n",
              "        features: ['text', 'label'],\n",
              "        num_rows: 50000\n",
              "    })\n",
              "})"
            ]
          },
          "metadata": {},
          "execution_count": 3
        }
      ]
    },
    {
      "cell_type": "code",
      "metadata": {
        "id": "1_6QoQ6d_4H1",
        "colab": {
          "base_uri": "https://localhost:8080/"
        },
        "outputId": "cfaedc74-b110-45a6-d834-abf200499b29"
      },
      "source": [
        "imdb_dataset[\"train\"][\"text\"][:10]"
      ],
      "execution_count": null,
      "outputs": [
        {
          "output_type": "execute_result",
          "data": {
            "text/plain": [
              "['I rented I AM CURIOUS-YELLOW from my video store because of all the controversy that surrounded it when it was first released in 1967. I also heard that at first it was seized by U.S. customs if it ever tried to enter this country, therefore being a fan of films considered \"controversial\" I really had to see this for myself.<br /><br />The plot is centered around a young Swedish drama student named Lena who wants to learn everything she can about life. In particular she wants to focus her attentions to making some sort of documentary on what the average Swede thought about certain political issues such as the Vietnam War and race issues in the United States. In between asking politicians and ordinary denizens of Stockholm about their opinions on politics, she has sex with her drama teacher, classmates, and married men.<br /><br />What kills me about I AM CURIOUS-YELLOW is that 40 years ago, this was considered pornographic. Really, the sex and nudity scenes are few and far between, even then it\\'s not shot like some cheaply made porno. While my countrymen mind find it shocking, in reality sex and nudity are a major staple in Swedish cinema. Even Ingmar Bergman, arguably their answer to good old boy John Ford, had sex scenes in his films.<br /><br />I do commend the filmmakers for the fact that any sex shown in the film is shown for artistic purposes rather than just to shock people and make money to be shown in pornographic theaters in America. I AM CURIOUS-YELLOW is a good film for anyone wanting to study the meat and potatoes (no pun intended) of Swedish cinema. But really, this film doesn\\'t have much of a plot.',\n",
              " '\"I Am Curious: Yellow\" is a risible and pretentious steaming pile. It doesn\\'t matter what one\\'s political views are because this film can hardly be taken seriously on any level. As for the claim that frontal male nudity is an automatic NC-17, that isn\\'t true. I\\'ve seen R-rated films with male nudity. Granted, they only offer some fleeting views, but where are the R-rated films with gaping vulvas and flapping labia? Nowhere, because they don\\'t exist. The same goes for those crappy cable shows: schlongs swinging in the breeze but not a clitoris in sight. And those pretentious indie movies like The Brown Bunny, in which we\\'re treated to the site of Vincent Gallo\\'s throbbing johnson, but not a trace of pink visible on Chloe Sevigny. Before crying (or implying) \"double-standard\" in matters of nudity, the mentally obtuse should take into account one unavoidably obvious anatomical difference between men and women: there are no genitals on display when actresses appears nude, and the same cannot be said for a man. In fact, you generally won\\'t see female genitals in an American film in anything short of porn or explicit erotica. This alleged double-standard is less a double standard than an admittedly depressing ability to come to terms culturally with the insides of women\\'s bodies.',\n",
              " \"If only to avoid making this type of film in the future. This film is interesting as an experiment but tells no cogent story.<br /><br />One might feel virtuous for sitting thru it because it touches on so many IMPORTANT issues but it does so without any discernable motive. The viewer comes away with no new perspectives (unless one comes up with one while one's mind wanders, as it will invariably do during this pointless film).<br /><br />One might better spend one's time staring out a window at a tree growing.<br /><br />\",\n",
              " \"This film was probably inspired by Godard's Masculin, féminin and I urge you to see that film instead.<br /><br />The film has two strong elements and those are, (1) the realistic acting (2) the impressive, undeservedly good, photo. Apart from that, what strikes me most is the endless stream of silliness. Lena Nyman has to be most annoying actress in the world. She acts so stupid and with all the nudity in this film,...it's unattractive. Comparing to Godard's film, intellectuality has been replaced with stupidity. Without going too far on this subject, I would say that follows from the difference in ideals between the French and the Swedish society.<br /><br />A movie of its time, and place. 2/10.\",\n",
              " 'Oh, brother...after hearing about this ridiculous film for umpteen years all I can think of is that old Peggy Lee song..<br /><br />\"Is that all there is??\" ...I was just an early teen when this smoked fish hit the U.S. I was too young to get in the theater (although I did manage to sneak into \"Goodbye Columbus\"). Then a screening at a local film museum beckoned - Finally I could see this film, except now I was as old as my parents were when they schlepped to see it!!<br /><br />The ONLY reason this film was not condemned to the anonymous sands of time was because of the obscenity case sparked by its U.S. release. MILLIONS of people flocked to this stinker, thinking they were going to see a sex film...Instead, they got lots of closeups of gnarly, repulsive Swedes, on-street interviews in bland shopping malls, asinie political pretension...and feeble who-cares simulated sex scenes with saggy, pale actors.<br /><br />Cultural icon, holy grail, historic artifact..whatever this thing was, shred it, burn it, then stuff the ashes in a lead box!<br /><br />Elite esthetes still scrape to find value in its boring pseudo revolutionary political spewings..But if it weren\\'t for the censorship scandal, it would have been ignored, then forgotten.<br /><br />Instead, the \"I Am Blank, Blank\" rhythymed title was repeated endlessly for years as a titilation for porno films (I am Curious, Lavender - for gay films, I Am Curious, Black - for blaxploitation films, etc..) and every ten years or so the thing rises from the dead, to be viewed by a new generation of suckers who want to see that \"naughty sex film\" that \"revolutionized the film industry\"...<br /><br />Yeesh, avoid like the plague..Or if you MUST see it - rent the video and fast forward to the \"dirty\" parts, just to get it over with.<br /><br />',\n",
              " \"I would put this at the top of my list of films in the category of unwatchable trash! There are films that are bad, but the worst kind are the ones that are unwatchable but you are suppose to like them because they are supposed to be good for you! The sex sequences, so shocking in its day, couldn't even arouse a rabbit. The so called controversial politics is strictly high school sophomore amateur night Marxism. The film is self-consciously arty in the worst sense of the term. The photography is in a harsh grainy black and white. Some scenes are out of focus or taken from the wrong angle. Even the sound is bad! And some people call this art?<br /><br />\",\n",
              " \"Whoever wrote the screenplay for this movie obviously never consulted any books about Lucille Ball, especially her autobiography. I've never seen so many mistakes in a biopic, ranging from her early years in Celoron and Jamestown to her later years with Desi. I could write a whole list of factual errors, but it would go on for pages. In all, I believe that Lucille Ball is one of those inimitable people who simply cannot be portrayed by anyone other than themselves. If I were Lucie Arnaz and Desi, Jr., I would be irate at how many mistakes were made in this film. The filmmakers tried hard, but the movie seems awfully sloppy to me.\",\n",
              " 'When I first saw a glimpse of this movie, I quickly noticed the actress who was playing the role of Lucille Ball. Rachel York\\'s portrayal of Lucy is absolutely awful. Lucille Ball was an astounding comedian with incredible talent. To think about a legend like Lucille Ball being portrayed the way she was in the movie is horrendous. I cannot believe out of all the actresses in the world who could play a much better Lucy, the producers decided to get Rachel York. She might be a good actress in other roles but to play the role of Lucille Ball is tough. It is pretty hard to find someone who could resemble Lucille Ball, but they could at least find someone a bit similar in looks and talent. If you noticed York\\'s portrayal of Lucy in episodes of I Love Lucy like the chocolate factory or vitavetavegamin, nothing is similar in any way-her expression, voice, or movement.<br /><br />To top it all off, Danny Pino playing Desi Arnaz is horrible. Pino does not qualify to play as Ricky. He\\'s small and skinny, his accent is unreal, and once again, his acting is unbelievable. Although Fred and Ethel were not similar either, they were not as bad as the characters of Lucy and Ricky.<br /><br />Overall, extremely horrible casting and the story is badly told. If people want to understand the real life situation of Lucille Ball, I suggest watching A&E Biography of Lucy and Desi, read the book from Lucille Ball herself, or PBS\\' American Masters: Finding Lucy. If you want to see a docudrama, \"Before the Laughter\" would be a better choice. The casting of Lucille Ball and Desi Arnaz in \"Before the Laughter\" is much better compared to this. At least, a similar aspect is shown rather than nothing.',\n",
              " 'Who are these \"They\"- the actors? the filmmakers? Certainly couldn\\'t be the audience- this is among the most air-puffed productions in existence. It\\'s the kind of movie that looks like it was a lot of fun to shoot\\x97 TOO much fun, nobody is getting any actual work done, and that almost always makes for a movie that\\'s no fun to watch.<br /><br />Ritter dons glasses so as to hammer home his character\\'s status as a sort of doppleganger of the bespectacled Bogdanovich; the scenes with the breezy Ms. Stratten are sweet, but have an embarrassing, look-guys-I\\'m-dating-the-prom-queen feel to them. Ben Gazzara sports his usual cat\\'s-got-canary grin in a futile attempt to elevate the meager plot, which requires him to pursue Audrey Hepburn with all the interest of a narcoleptic at an insomnia clinic. In the meantime, the budding couple\\'s respective children (nepotism alert: Bogdanovich\\'s daughters) spew cute and pick up some fairly disturbing pointers on \\'love\\' while observing their parents. (Ms. Hepburn, drawing on her dignity, manages to rise above the proceedings- but she has the monumental challenge of playing herself, ostensibly.) Everybody looks great, but so what? It\\'s a movie and we can expect that much, if that\\'s what you\\'re looking for you\\'d be better off picking up a copy of Vogue.<br /><br />Oh- and it has to be mentioned that Colleen Camp thoroughly annoys, even apart from her singing, which, while competent, is wholly unconvincing... the country and western numbers are woefully mismatched with the standards on the soundtrack. Surely this is NOT what Gershwin (who wrote the song from which the movie\\'s title is derived) had in mind; his stage musicals of the 20\\'s may have been slight, but at least they were long on charm. \"They All Laughed\" tries to coast on its good intentions, but nobody- least of all Peter Bogdanovich - has the good sense to put on the brakes.<br /><br />Due in no small part to the tragic death of Dorothy Stratten, this movie has a special place in the heart of Mr. Bogdanovich- he even bought it back from its producers, then distributed it on his own and went bankrupt when it didn\\'t prove popular. His rise and fall is among the more sympathetic and tragic of Hollywood stories, so there\\'s no joy in criticizing the film... there _is_ real emotional investment in Ms. Stratten\\'s scenes. But \"Laughed\" is a faint echo of \"The Last Picture Show\", \"Paper Moon\" or \"What\\'s Up, Doc\"- following \"Daisy Miller\" and \"At Long Last Love\", it was a thundering confirmation of the phase from which P.B. has never emerged.<br /><br />All in all, though, the movie is harmless, only a waste of rental. I want to watch people having a good time, I\\'ll go to the park on a sunny day. For filmic expressions of joy and love, I\\'ll stick to Ernest Lubitsch and Jaques Demy...',\n",
              " \"This is said to be a personal film for Peter Bogdonavitch. He based it on his life but changed things around to fit the characters, who are detectives. These detectives date beautiful models and have no problem getting them. Sounds more like a millionaire playboy filmmaker than a detective, doesn't it? This entire movie was written by Peter, and it shows how out of touch with real people he was. You're supposed to write what you know, and he did that, indeed. And leaves the audience bored and confused, and jealous, for that matter. This is a curio for people who want to see Dorothy Stratten, who was murdered right after filming. But Patti Hanson, who would, in real life, marry Keith Richards, was also a model, like Stratten, but is a lot better and has a more ample part. In fact, Stratten's part seemed forced; added. She doesn't have a lot to do with the story, which is pretty convoluted to begin with. All in all, every character in this film is somebody that very few people can relate with, unless you're millionaire from Manhattan with beautiful supermodels at your beckon call. For the rest of us, it's an irritating snore fest. That's what happens when you're out of touch. You entertain your few friends with inside jokes, and bore all the rest.\"]"
            ]
          },
          "metadata": {},
          "execution_count": 4
        }
      ]
    },
    {
      "cell_type": "code",
      "metadata": {
        "id": "wDLG_hN6DRpo",
        "colab": {
          "base_uri": "https://localhost:8080/"
        },
        "outputId": "078be4c9-7dce-4fcb-d360-288b0d6e43f8"
      },
      "source": [
        "imdb_dataset[\"train\"][\"label\"][:10]"
      ],
      "execution_count": null,
      "outputs": [
        {
          "output_type": "execute_result",
          "data": {
            "text/plain": [
              "[0, 0, 0, 0, 0, 0, 0, 0, 0, 0]"
            ]
          },
          "metadata": {},
          "execution_count": 5
        }
      ]
    },
    {
      "cell_type": "markdown",
      "metadata": {
        "id": "V0Jua9YRDZ9b"
      },
      "source": [
        "Сократим количество примеров, чтобы процесс обучения был быстрее."
      ]
    },
    {
      "cell_type": "code",
      "metadata": {
        "id": "aP5y2Put0rfN"
      },
      "source": [
        "train_texts = imdb_dataset[\"train\"][\"text\"][:2000]\n",
        "train_labels = imdb_dataset[\"train\"][\"label\"][:2000]\n",
        "test_texts = imdb_dataset[\"test\"][\"text\"][:1000]\n",
        "test_labels = imdb_dataset[\"test\"][\"label\"][:1000]"
      ],
      "execution_count": null,
      "outputs": []
    },
    {
      "cell_type": "code",
      "source": [
        "del imdb_dataset"
      ],
      "metadata": {
        "id": "6uHDOlCzMY-U"
      },
      "execution_count": null,
      "outputs": []
    },
    {
      "cell_type": "markdown",
      "metadata": {
        "id": "qvWohbAUDzrj"
      },
      "source": [
        "Выделим часть обучающих данных для оценки:"
      ]
    },
    {
      "cell_type": "code",
      "metadata": {
        "id": "nIw4-B0tuQuX"
      },
      "source": [
        "from sklearn.model_selection import train_test_split\n",
        "train_texts, val_texts, train_labels, val_labels = train_test_split(train_texts, train_labels, test_size=.2)"
      ],
      "execution_count": null,
      "outputs": []
    },
    {
      "cell_type": "markdown",
      "metadata": {
        "id": "fz7LBabQEKRr"
      },
      "source": [
        "Токенизируем данные"
      ]
    },
    {
      "cell_type": "code",
      "metadata": {
        "id": "8K6aeEWgu-E4"
      },
      "source": [
        "from transformers import DistilBertTokenizerFast\n",
        "tokenizer = DistilBertTokenizerFast.from_pretrained('distilbert-base-uncased')"
      ],
      "execution_count": null,
      "outputs": []
    },
    {
      "cell_type": "code",
      "metadata": {
        "id": "yvqeACe5v_gj"
      },
      "source": [
        "train_encodings = tokenizer(train_texts, truncation=True, padding=True)\n",
        "val_encodings = tokenizer(val_texts, truncation=True, padding=True)\n",
        "test_encodings = tokenizer(test_texts, truncation=True, padding=True)"
      ],
      "execution_count": null,
      "outputs": []
    },
    {
      "cell_type": "markdown",
      "metadata": {
        "id": "LtJIJEErETsA"
      },
      "source": [
        "Создадим класс Dataset, который на каждой итерации будет возвращать токенизированный отзыв и класс:"
      ]
    },
    {
      "cell_type": "code",
      "metadata": {
        "id": "tKDzAAQ8wSaJ"
      },
      "source": [
        "class IMDbDataset(torch.utils.data.Dataset):\n",
        "    def __init__(self, encodings, labels):\n",
        "        self.encodings = encodings\n",
        "        self.labels = labels\n",
        "\n",
        "    def __getitem__(self, idx):\n",
        "        item = {key: torch.tensor(val[idx]) for key, val in self.encodings.items()}\n",
        "        item['labels'] = torch.tensor(self.labels[idx])\n",
        "        return item\n",
        "\n",
        "    def __len__(self):\n",
        "        return len(self.labels)\n",
        "\n",
        "train_dataset = IMDbDataset(train_encodings, train_labels)\n",
        "val_dataset = IMDbDataset(val_encodings, val_labels)\n",
        "test_dataset = IMDbDataset(test_encodings, test_labels)"
      ],
      "execution_count": null,
      "outputs": []
    },
    {
      "cell_type": "markdown",
      "metadata": {
        "id": "EUHCyMAEEhpz"
      },
      "source": [
        "Опишем функцию для подсчета метрик, которые хотим увидеть при оценке модели (по умолчанию будет вычисляться только loss):"
      ]
    },
    {
      "cell_type": "code",
      "metadata": {
        "id": "lN1WaQpV4j1c"
      },
      "source": [
        "from sklearn.metrics import precision_recall_fscore_support, accuracy_score\n",
        "\n",
        "def compute_metrics(pred):\n",
        "    labels = pred.label_ids\n",
        "    preds = pred.predictions.argmax(-1)\n",
        "    precision, recall, f1, _ = precision_recall_fscore_support(labels, preds, average='binary')\n",
        "    acc = accuracy_score(labels, preds)\n",
        "    return {\n",
        "        'accuracy': acc,\n",
        "        'f1': f1,\n",
        "        'precision': precision,\n",
        "        'recall': recall\n",
        "    }"
      ],
      "execution_count": null,
      "outputs": []
    },
    {
      "cell_type": "markdown",
      "metadata": {
        "id": "AecmyljLE0hU"
      },
      "source": [
        "Зададим параметры обучения с помощью TrainingArguments:"
      ]
    },
    {
      "cell_type": "code",
      "metadata": {
        "id": "ZJei3t0-wa-8"
      },
      "source": [
        "from transformers import DistilBertForSequenceClassification, Trainer, TrainingArguments\n",
        "\n",
        "training_args = TrainingArguments(\n",
        "    output_dir='./results',          # output directory\n",
        "    num_train_epochs=2,              # total number of training epochs\n",
        "    per_device_train_batch_size=8,  # batch size per device during training\n",
        "    per_device_eval_batch_size=16,   # batch size for evaluation\n",
        "    warmup_steps=500,                # number of warmup steps for learning rate scheduler\n",
        "    weight_decay=0.01,               # strength of weight decay\n",
        "    logging_dir='./logs',            # directory for storing logs\n",
        "    logging_steps=10,\n",
        ")"
      ],
      "execution_count": null,
      "outputs": []
    },
    {
      "cell_type": "markdown",
      "metadata": {
        "id": "-oQVJ2ugFNwN"
      },
      "source": [
        "Инициализируем модель и запустим fine-tune ее с помощью модуля Trainer. В данном модуле будет автоматически происходить итерация по эпохам, батчам, рассчет функции потерь и градиентов, ничего этого больше руками прописывать не нужно!"
      ]
    },
    {
      "cell_type": "code",
      "source": [
        "model = DistilBertForSequenceClassification.from_pretrained(\"distilbert-base-uncased\")"
      ],
      "metadata": {
        "colab": {
          "base_uri": "https://localhost:8080/"
        },
        "id": "MNgNYxLqLd6w",
        "outputId": "e477433c-0c44-478c-b2ca-de81919aa234"
      },
      "execution_count": null,
      "outputs": [
        {
          "output_type": "stream",
          "name": "stderr",
          "text": [
            "Some weights of the model checkpoint at distilbert-base-uncased were not used when initializing DistilBertForSequenceClassification: ['vocab_layer_norm.bias', 'vocab_transform.weight', 'vocab_transform.bias', 'vocab_projector.bias', 'vocab_layer_norm.weight', 'vocab_projector.weight']\n",
            "- This IS expected if you are initializing DistilBertForSequenceClassification from the checkpoint of a model trained on another task or with another architecture (e.g. initializing a BertForSequenceClassification model from a BertForPreTraining model).\n",
            "- This IS NOT expected if you are initializing DistilBertForSequenceClassification from the checkpoint of a model that you expect to be exactly identical (initializing a BertForSequenceClassification model from a BertForSequenceClassification model).\n",
            "Some weights of DistilBertForSequenceClassification were not initialized from the model checkpoint at distilbert-base-uncased and are newly initialized: ['pre_classifier.weight', 'classifier.weight', 'pre_classifier.bias', 'classifier.bias']\n",
            "You should probably TRAIN this model on a down-stream task to be able to use it for predictions and inference.\n"
          ]
        }
      ]
    },
    {
      "cell_type": "code",
      "metadata": {
        "id": "ZBY0f1jIFMN2",
        "colab": {
          "base_uri": "https://localhost:8080/",
          "height": 1000
        },
        "outputId": "b9e8387f-69b6-4d43-d471-a767dec48365"
      },
      "source": [
        "trainer = Trainer(\n",
        "    model=model,                         # the instantiated 🤗 Transformers model to be trained\n",
        "    args=training_args,                  # training arguments, defined above\n",
        "    train_dataset=train_dataset,         # training dataset\n",
        "    eval_dataset=val_dataset,            # evaluation dataset\n",
        "    compute_metrics = compute_metrics    # metrics to evaluate\n",
        ")\n",
        "\n",
        "trainer.train()"
      ],
      "execution_count": null,
      "outputs": [
        {
          "output_type": "stream",
          "name": "stderr",
          "text": [
            "/usr/local/lib/python3.7/dist-packages/transformers/optimization.py:309: FutureWarning: This implementation of AdamW is deprecated and will be removed in a future version. Use thePyTorch implementation torch.optim.AdamW instead, or set `no_deprecation_warning=True` to disable this warning\n",
            "  FutureWarning,\n",
            "***** Running training *****\n",
            "  Num examples = 1600\n",
            "  Num Epochs = 2\n",
            "  Instantaneous batch size per device = 8\n",
            "  Total train batch size (w. parallel, distributed & accumulation) = 8\n",
            "  Gradient Accumulation steps = 1\n",
            "  Total optimization steps = 400\n"
          ]
        },
        {
          "output_type": "display_data",
          "data": {
            "text/html": [
              "\n",
              "    <div>\n",
              "      \n",
              "      <progress value='400' max='400' style='width:300px; height:20px; vertical-align: middle;'></progress>\n",
              "      [400/400 04:53, Epoch 2/2]\n",
              "    </div>\n",
              "    <table border=\"1\" class=\"dataframe\">\n",
              "  <thead>\n",
              " <tr style=\"text-align: left;\">\n",
              "      <th>Step</th>\n",
              "      <th>Training Loss</th>\n",
              "    </tr>\n",
              "  </thead>\n",
              "  <tbody>\n",
              "    <tr>\n",
              "      <td>10</td>\n",
              "      <td>0.596000</td>\n",
              "    </tr>\n",
              "    <tr>\n",
              "      <td>20</td>\n",
              "      <td>0.571900</td>\n",
              "    </tr>\n",
              "    <tr>\n",
              "      <td>30</td>\n",
              "      <td>0.514700</td>\n",
              "    </tr>\n",
              "    <tr>\n",
              "      <td>40</td>\n",
              "      <td>0.402600</td>\n",
              "    </tr>\n",
              "    <tr>\n",
              "      <td>50</td>\n",
              "      <td>0.245100</td>\n",
              "    </tr>\n",
              "    <tr>\n",
              "      <td>60</td>\n",
              "      <td>0.125700</td>\n",
              "    </tr>\n",
              "    <tr>\n",
              "      <td>70</td>\n",
              "      <td>0.051300</td>\n",
              "    </tr>\n",
              "    <tr>\n",
              "      <td>80</td>\n",
              "      <td>0.024300</td>\n",
              "    </tr>\n",
              "    <tr>\n",
              "      <td>90</td>\n",
              "      <td>0.014200</td>\n",
              "    </tr>\n",
              "    <tr>\n",
              "      <td>100</td>\n",
              "      <td>0.009200</td>\n",
              "    </tr>\n",
              "    <tr>\n",
              "      <td>110</td>\n",
              "      <td>0.006600</td>\n",
              "    </tr>\n",
              "    <tr>\n",
              "      <td>120</td>\n",
              "      <td>0.005000</td>\n",
              "    </tr>\n",
              "    <tr>\n",
              "      <td>130</td>\n",
              "      <td>0.003700</td>\n",
              "    </tr>\n",
              "    <tr>\n",
              "      <td>140</td>\n",
              "      <td>0.003200</td>\n",
              "    </tr>\n",
              "    <tr>\n",
              "      <td>150</td>\n",
              "      <td>0.002400</td>\n",
              "    </tr>\n",
              "    <tr>\n",
              "      <td>160</td>\n",
              "      <td>0.002000</td>\n",
              "    </tr>\n",
              "    <tr>\n",
              "      <td>170</td>\n",
              "      <td>0.001600</td>\n",
              "    </tr>\n",
              "    <tr>\n",
              "      <td>180</td>\n",
              "      <td>0.001400</td>\n",
              "    </tr>\n",
              "    <tr>\n",
              "      <td>190</td>\n",
              "      <td>0.001200</td>\n",
              "    </tr>\n",
              "    <tr>\n",
              "      <td>200</td>\n",
              "      <td>0.001100</td>\n",
              "    </tr>\n",
              "    <tr>\n",
              "      <td>210</td>\n",
              "      <td>0.000900</td>\n",
              "    </tr>\n",
              "    <tr>\n",
              "      <td>220</td>\n",
              "      <td>0.000800</td>\n",
              "    </tr>\n",
              "    <tr>\n",
              "      <td>230</td>\n",
              "      <td>0.000600</td>\n",
              "    </tr>\n",
              "    <tr>\n",
              "      <td>240</td>\n",
              "      <td>0.000600</td>\n",
              "    </tr>\n",
              "    <tr>\n",
              "      <td>250</td>\n",
              "      <td>0.000500</td>\n",
              "    </tr>\n",
              "    <tr>\n",
              "      <td>260</td>\n",
              "      <td>0.000400</td>\n",
              "    </tr>\n",
              "    <tr>\n",
              "      <td>270</td>\n",
              "      <td>0.000400</td>\n",
              "    </tr>\n",
              "    <tr>\n",
              "      <td>280</td>\n",
              "      <td>0.000300</td>\n",
              "    </tr>\n",
              "    <tr>\n",
              "      <td>290</td>\n",
              "      <td>0.000300</td>\n",
              "    </tr>\n",
              "    <tr>\n",
              "      <td>300</td>\n",
              "      <td>0.000300</td>\n",
              "    </tr>\n",
              "    <tr>\n",
              "      <td>310</td>\n",
              "      <td>0.000200</td>\n",
              "    </tr>\n",
              "    <tr>\n",
              "      <td>320</td>\n",
              "      <td>0.000200</td>\n",
              "    </tr>\n",
              "    <tr>\n",
              "      <td>330</td>\n",
              "      <td>0.000200</td>\n",
              "    </tr>\n",
              "    <tr>\n",
              "      <td>340</td>\n",
              "      <td>0.000200</td>\n",
              "    </tr>\n",
              "    <tr>\n",
              "      <td>350</td>\n",
              "      <td>0.000100</td>\n",
              "    </tr>\n",
              "    <tr>\n",
              "      <td>360</td>\n",
              "      <td>0.000100</td>\n",
              "    </tr>\n",
              "    <tr>\n",
              "      <td>370</td>\n",
              "      <td>0.000100</td>\n",
              "    </tr>\n",
              "    <tr>\n",
              "      <td>380</td>\n",
              "      <td>0.000100</td>\n",
              "    </tr>\n",
              "    <tr>\n",
              "      <td>390</td>\n",
              "      <td>0.000100</td>\n",
              "    </tr>\n",
              "    <tr>\n",
              "      <td>400</td>\n",
              "      <td>0.000100</td>\n",
              "    </tr>\n",
              "  </tbody>\n",
              "</table><p>"
            ],
            "text/plain": [
              "<IPython.core.display.HTML object>"
            ]
          },
          "metadata": {}
        },
        {
          "output_type": "stream",
          "name": "stderr",
          "text": [
            "\n",
            "\n",
            "Training completed. Do not forget to share your model on huggingface.co/models =)\n",
            "\n",
            "\n"
          ]
        },
        {
          "output_type": "execute_result",
          "data": {
            "text/plain": [
              "TrainOutput(global_step=400, training_loss=0.0647397192819335, metrics={'train_runtime': 294.1987, 'train_samples_per_second': 10.877, 'train_steps_per_second': 1.36, 'total_flos': 423895675699200.0, 'train_loss': 0.0647397192819335, 'epoch': 2.0})"
            ]
          },
          "metadata": {},
          "execution_count": 20
        }
      ]
    },
    {
      "cell_type": "code",
      "metadata": {
        "id": "MQwGN3VKw3zt"
      },
      "source": [
        "trainer.evaluate()"
      ],
      "execution_count": null,
      "outputs": []
    },
    {
      "cell_type": "markdown",
      "metadata": {
        "id": "pfTLAa1BF9Vb"
      },
      "source": [
        "Оценим модель на тестовых данных"
      ]
    },
    {
      "cell_type": "code",
      "metadata": {
        "id": "kWG1M6yS8cEG"
      },
      "source": [
        "trainer.evaluate(eval_dataset=test_dataset, metric_key_prefix=\"test\")"
      ],
      "execution_count": null,
      "outputs": []
    },
    {
      "cell_type": "code",
      "source": [
        ""
      ],
      "metadata": {
        "id": "83uFlneqKSmK"
      },
      "execution_count": null,
      "outputs": []
    }
  ]
}